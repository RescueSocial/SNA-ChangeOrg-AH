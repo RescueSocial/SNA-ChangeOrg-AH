{
 "cells": [
  {
   "cell_type": "code",
   "execution_count": 47,
   "id": "2a0414cf-950b-4570-a74f-6fd5b1ae3390",
   "metadata": {},
   "outputs": [],
   "source": [
    "import pandas as pd\n",
    "pd.set_option('display.max_columns', None)\n",
    "from collections import Counter\n",
    "from matplotlib import pyplot as plt\n",
    "from IPython.display import clear_output"
   ]
  },
  {
   "cell_type": "code",
   "execution_count": 4,
   "id": "50f58b87-3d6d-465f-9272-25073c48b3e5",
   "metadata": {},
   "outputs": [],
   "source": [
    "df = pd.read_csv('./data/all_petitions_comments_20211026-132241.csv')"
   ]
  },
  {
   "cell_type": "code",
   "execution_count": 6,
   "id": "fd579e94-d12b-432a-9b10-cb660d5e4d62",
   "metadata": {},
   "outputs": [],
   "source": [
    "users = df['user.id']"
   ]
  },
  {
   "cell_type": "code",
   "execution_count": 19,
   "id": "2f45e7bd-e0d1-44e8-beef-d4d692958be0",
   "metadata": {},
   "outputs": [
    {
     "data": {
      "text/plain": [
       "(array([1.4549e+04, 1.1000e+01, 4.0000e+00, 0.0000e+00, 0.0000e+00,\n",
       "        2.0000e+00, 0.0000e+00, 0.0000e+00, 0.0000e+00, 1.0000e+00]),\n",
       " array([  1. ,  14.4,  27.8,  41.2,  54.6,  68. ,  81.4,  94.8, 108.2,\n",
       "        121.6, 135. ]),\n",
       " <BarContainer object of 10 artists>)"
      ]
     },
     "execution_count": 19,
     "metadata": {},
     "output_type": "execute_result"
    },
    {
     "data": {
      "image/png": "[encoded data removed]",
      "text/plain": [
       "<Figure size 432x288 with 1 Axes>"
      ]
     },
     "metadata": {
      "needs_background": "light"
     },
     "output_type": "display_data"
    }
   ],
   "source": [
    "plt.title(\"Number of comments by person\")\n",
    "plt.hist(list(zip(*Counter(users).most_common()))[1], log=True)"
   ]
  },
  {
   "cell_type": "code",
   "execution_count": 30,
   "id": "9ca9ca4b-893c-43f8-a118-3fc229d51f13",
   "metadata": {},
   "outputs": [
    {
     "data": {
      "text/plain": [
       "index                                                                                  2\n",
       "id                                                                             800250390\n",
       "comment                                \"Men of this world, think about it! A woman br...\n",
       "parent_id                                                                              0\n",
       "children_count                                                                         0\n",
       "commentable_type                                                                   Event\n",
       "commentable_id                                                                  20201430\n",
       "likes                                                                                  0\n",
       "role                                                                             comment\n",
       "created_at                                                          2020-07-22T06:51:51Z\n",
       "deleted_at                                                                           NaN\n",
       "user.id                                                                          8090682\n",
       "user.slug                                                                        8090682\n",
       "user.first_name                                                                    Anita\n",
       "user.last_name                                                                    Kanitz\n",
       "user.short_display_name                                                            Anita\n",
       "user.display_name                                                           Anita Kanitz\n",
       "user.city                                                                      Stuttgart\n",
       "user.state_code                                                                      NaN\n",
       "user.country_code                                                                     DE\n",
       "user.website                                                                         NaN\n",
       "user.locale                                                                        de-DE\n",
       "user.description                                                                     NaN\n",
       "user.photo.id                                                                  8419438.0\n",
       "user.photo.url                               photos/8/ve/vu/QuveVuBzKPOEulq-fullsize.jpg\n",
       "user.photo.sizes.small.url             //assets.change.org/photos/8/ve/vu/QuveVuBzKPO...\n",
       "user.photo.sizes.small.processing                                                  False\n",
       "user.photo.sizes.small.size.width                                                   48.0\n",
       "user.photo.sizes.small.size.height                                                  48.0\n",
       "user.photo.sizes.medium.url            //assets.change.org/photos/8/ve/vu/QuveVuBzKPO...\n",
       "user.photo.sizes.medium.processing                                                 False\n",
       "user.photo.sizes.medium.size.width                                                 128.0\n",
       "user.photo.sizes.medium.size.height                                                128.0\n",
       "user.photo.sizes.large.url             //assets.change.org/photos/8/ve/vu/QuveVuBzKPO...\n",
       "user.photo.sizes.large.processing                                                  False\n",
       "user.photo.sizes.large.size.width                                                  400.0\n",
       "user.photo.sizes.large.size.height                                                 400.0\n",
       "user.photo.sizes.xlarge.url            //assets.change.org/photos/8/ve/vu/QuveVuBzKPO...\n",
       "user.photo.sizes.xlarge.processing                                                 False\n",
       "user.photo.sizes.xlarge.size.width                                                 800.0\n",
       "user.photo.sizes.xlarge.size.height                                                800.0\n",
       "user.roles                                                                            []\n",
       "commentable_entity.slug                         marvel-johnny-depp-as-ghost-rider-in-mcu\n",
       "petition__slug                          marvel-johnny-depp-as-ghost-rider-in-mcu_limit_1\n",
       "status_manual                                                                    against\n",
       "Name: 55, dtype: object"
      ]
     },
     "execution_count": 30,
     "metadata": {},
     "output_type": "execute_result"
    }
   ],
   "source": [
    "df[df['user.id'] == 8090682].iloc[0]"
   ]
  },
  {
   "cell_type": "code",
   "execution_count": 45,
   "id": "9a51871d-c670-4b1e-9a94-56f6edebf458",
   "metadata": {},
   "outputs": [
    {
     "name": "stdout",
     "output_type": "stream",
     "text": [
      "8090682 34 3 Counter({'against': 19, 'for': 15, 'related': 1})\n",
      "43698145 17 3 Counter({'against': 13, 'for': 2, 'related': 2})\n",
      "577958717 15 2 Counter({'against': 14, 'for': 1})\n",
      "822514252 2 2 Counter({'for': 1, 'against': 1})\n",
      "847847951 2 2 Counter({'against': 1, 'for': 1})\n",
      "862316086 2 2 Counter({'related': 1, 'against': 1})\n",
      "943100372 135 3 Counter({'against': 133, 'related': 1, 'for': 1})\n",
      "948054032 7 2 Counter({'for': 8, 'related': 1})\n",
      "971175292 3 2 Counter({'for': 2, 'related': 1})\n",
      "1129808400 5 2 Counter({'for': 4, 'related': 1})\n",
      "1147769169 2 2 Counter({'against': 1, 'for': 1})\n",
      "1162497857 2 2 Counter({'for': 1, 'against': 1})\n",
      "1180206242 3 2 Counter({'against': 2, 'related': 1})\n",
      "1184978289 19 2 Counter({'against': 18, 'related': 1})\n",
      "1213338469 25 2 Counter({'against': 24, 'for': 1})\n"
     ]
    }
   ],
   "source": [
    "both_user = []\n",
    "for user, group in df.groupby('user.id'):\n",
    "    num_petitions = len(set(group['commentable_entity.slug']))\n",
    "    num_statuses = len(set(group['status_manual']))\n",
    "    status_counter = Counter(group['status_manual'])\n",
    "    if num_statuses != 1:\n",
    "        print(user, num_petitions, num_statuses, status_counter)\n",
    "        both_user.append(user)"
   ]
  },
  {
   "cell_type": "code",
   "execution_count": 50,
   "id": "55e1b412-d4d9-451d-b072-f80937aa055d",
   "metadata": {},
   "outputs": [],
   "source": [
    "for u in both_user:\n",
    "    try:\n",
    "        z = df[df['user.id'] == u][['comment', 'status_manual']]\n",
    "        c_for = z[z['status_manual'] == 'for'].comment.iloc[0]\n",
    "        c_against = z[z['status_manual'] == 'against'].comment.iloc[0]\n",
    "        print(c_for)\n",
    "        print(\"\\n\\n==========\\n\\n\")\n",
    "        print(c_against)\n",
    "        input()\n",
    "        clear_output()\n",
    "    except:\n",
    "        pass"
   ]
  },
  {
   "cell_type": "code",
   "execution_count": 51,
   "id": "7f78e0dd-ae00-4d85-bfa8-ffe035c37bf9",
   "metadata": {},
   "outputs": [],
   "source": [
    "# doesn't seem to have people supporting both sides"
   ]
  },
  {
   "cell_type": "code",
   "execution_count": null,
   "id": "a0e7fdc7-77b7-46a7-8e53-edfe42d97fd9",
   "metadata": {},
   "outputs": [],
   "source": []
  }
 ],
 "metadata": {
  "kernelspec": {
   "display_name": "Python 3 (ipykernel)",
   "language": "python",
   "name": "python3"
  },
  "language_info": {
   "codemirror_mode": {
    "name": "ipython",
    "version": 3
   },
   "file_extension": ".py",
   "mimetype": "text/x-python",
   "name": "python",
   "nbconvert_exporter": "python",
   "pygments_lexer": "ipython3",
   "version": "3.7.11"
  }
 },
 "nbformat": 4,
 "nbformat_minor": 5
}
