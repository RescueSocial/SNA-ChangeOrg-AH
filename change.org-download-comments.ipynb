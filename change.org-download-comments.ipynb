{
 "cells": [
  {
   "cell_type": "code",
   "execution_count": 1,
   "id": "331e7ed1-7186-4442-8754-c6e3b000567f",
   "metadata": {},
   "outputs": [],
   "source": [
    "import pandas as pd\n",
    "from get_comments import main\n",
    "from path import Path\n",
    "import os\n",
    "import time\n",
    "from tqdm.auto import tqdm\n",
    "import numpy as np\n",
    "import json"
   ]
  },
  {
   "cell_type": "code",
   "execution_count": 2,
   "id": "10e4ac88-4306-4eca-b9fc-b19fef71bd80",
   "metadata": {},
   "outputs": [],
   "source": [
    "df = pd.read_csv('./change_org_petitions_Amber_Heard_at_20221002-105030_limit_2000_offset_0_delay_ms_5000.csv')\n",
    "df_manual = pd.read_csv('./data/manual_petition_slugs.csv')\n",
    "df_status = pd.read_csv('./data/all_petitions_status_manual.csv')"
   ]
  },
  {
   "cell_type": "code",
   "execution_count": 3,
   "id": "8ead8c51-c96e-42f3-8923-22b7f98f8178",
   "metadata": {},
   "outputs": [],
   "source": [
    "slug_to_status = dict(zip(df_status.slug, df_status.status))"
   ]
  },
  {
   "cell_type": "code",
   "execution_count": 4,
   "id": "f613de8c-fe81-4b25-9203-f9829e76ffd3",
   "metadata": {},
   "outputs": [],
   "source": [
    "slugs = list(df['petition.slug']) + list(df_manual.slug)\n",
    "slugs = [x for x in slugs if isinstance(x, str)]\n",
    "slugs = [x for x in slugs if slug_to_status[x] != 'irrelevant']"
   ]
  },
  {
   "cell_type": "code",
   "execution_count": 5,
   "id": "27fc270a-494e-43cf-ba83-dd4892e7339a",
   "metadata": {},
   "outputs": [
    {
     "data": {
      "text/plain": [
       "459"
      ]
     },
     "execution_count": 5,
     "metadata": {},
     "output_type": "execute_result"
    }
   ],
   "source": [
    "len(slugs)"
   ]
  },
  {
   "cell_type": "code",
   "execution_count": null,
   "id": "04e70b1e-8065-48e4-9991-09d3216275eb",
   "metadata": {},
   "outputs": [],
   "source": [
    "error_slugs = set()\n",
    "for slug in tqdm(slugs):\n",
    "    if not isinstance(slug, str):\n",
    "        continue\n",
    "    args = type('obj', (object,), {'petition_slug': slug, 'delay_ms': 0, 'offset': 0, 'limit': 1000000})\n",
    "    with Path('./data'):\n",
    "        try:\n",
    "            main(args)\n",
    "        except Exception as e:\n",
    "            #raise e\n",
    "            print(slug, e)\n",
    "            error_slugs.add(slug)"
   ]
  },
  {
   "cell_type": "code",
   "execution_count": 7,
   "id": "5f294b05-3371-4390-b2ce-3482a4990bd0",
   "metadata": {},
   "outputs": [
    {
     "data": {
      "text/plain": [
       "set()"
      ]
     },
     "execution_count": 7,
     "metadata": {},
     "output_type": "execute_result"
    }
   ],
   "source": [
    "# first two are not relevant\n",
    "# the second one does not have public milestones\n",
    "error_slugs"
   ]
  },
  {
   "cell_type": "code",
   "execution_count": 8,
   "id": "339adea3-6646-45ee-a28f-2c19ca396e92",
   "metadata": {},
   "outputs": [],
   "source": [
    "# merging everything into a single dataframe"
   ]
  },
  {
   "cell_type": "code",
   "execution_count": 9,
   "id": "10f09f95-60b9-459b-ba25-b70215ab4e1c",
   "metadata": {},
   "outputs": [],
   "source": [
    "l = os.listdir('./data')\n",
    "fs = []\n",
    "prefix = 'change_org_comments_petition_slug_'\n",
    "for filename in l:\n",
    "    f = os.path.basename(filename)\n",
    "    \n",
    "    if not(filename.startswith(prefix) and filename.endswith('.csv')):\n",
    "        continue\n",
    "    slug = f[len(prefix):f.index('_limit_')]\n",
    "    # print(slug)\n",
    "    if slug not in slugs:\n",
    "        continue\n",
    "    fs.append('./data/' + filename)"
   ]
  },
  {
   "cell_type": "code",
   "execution_count": 10,
   "id": "668be45c-f5f8-415e-a840-fa219496c6c6",
   "metadata": {},
   "outputs": [],
   "source": [
    "def read_set_slug(f):\n",
    "    try:\n",
    "        df = pd.read_csv(f)\n",
    "        slug = os.path.basename(f)[len(prefix):f.index('_limit_') + 1]\n",
    "        df['petition__slug'] = [slug] * len(df)\n",
    "        return df\n",
    "    except:\n",
    "        return None"
   ]
  },
  {
   "cell_type": "code",
   "execution_count": 11,
   "id": "38508744-66c1-4a83-b5db-3e927156e736",
   "metadata": {},
   "outputs": [
    {
     "data": {
      "application/vnd.jupyter.widget-view+json": {
       "model_id": "b0d9b49adc0c4f79939ca684a3e5f647",
       "version_major": 2,
       "version_minor": 0
      },
      "text/plain": [
       "  0%|          | 0/457 [00:00<?, ?it/s]"
      ]
     },
     "metadata": {},
     "output_type": "display_data"
    },
    {
     "name": "stderr",
     "output_type": "stream",
     "text": [
      "/home/sergia/miniconda3/envs/rst-changeorg-data/lib/python3.7/site-packages/ipykernel_launcher.py:1: DtypeWarning: Columns (11) have mixed types.Specify dtype option on import or set low_memory=False.\n",
      "  \"\"\"Entry point for launching an IPython kernel.\n"
     ]
    }
   ],
   "source": [
    "df = pd.concat([read_set_slug(f) for f in tqdm(fs)])\n",
    "df = df.reset_index()"
   ]
  },
  {
   "cell_type": "code",
   "execution_count": 12,
   "id": "c7dfcdcc-70dd-4c07-a272-f28c127faf72",
   "metadata": {},
   "outputs": [],
   "source": [
    "for c in df.columns:\n",
    "    if c.startswith('commentable_entity') and c != 'commentable_entity.slug':\n",
    "        del df[c]"
   ]
  },
  {
   "cell_type": "code",
   "execution_count": 13,
   "id": "be3439df-3d4a-40dd-87b5-12be0553228f",
   "metadata": {},
   "outputs": [],
   "source": [
    "df['status_manual'] = [slug_to_status[t] for t in df['commentable_entity.slug']]\n",
    "df.to_csv(f\"./data/all_petitions_comments_{time.strftime('%Y%m%d-%H%M%S')}.csv\", index=False)"
   ]
  },
  {
   "cell_type": "code",
   "execution_count": 14,
   "id": "c332bb1b-37fd-4df9-adc2-db9e6767525e",
   "metadata": {},
   "outputs": [
    {
     "data": {
      "application/vnd.jupyter.widget-view+json": {
       "model_id": "28718ec351774ef3a8be880e5f1e679a",
       "version_major": 2,
       "version_minor": 0
      },
      "text/plain": [
       "  0%|          | 0/45 [00:00<?, ?it/s]"
      ]
     },
     "metadata": {},
     "output_type": "display_data"
    }
   ],
   "source": [
    "column_size = {c: len(json.dumps(list(df[c]))) for c in tqdm(df.columns)}"
   ]
  },
  {
   "cell_type": "code",
   "execution_count": null,
   "id": "a0f1dbf4-53f3-4a86-8986-da6da82da247",
   "metadata": {},
   "outputs": [],
   "source": []
  },
  {
   "cell_type": "code",
   "execution_count": 15,
   "id": "58404afe-d412-45cc-8c2f-4706e3792671",
   "metadata": {},
   "outputs": [
    {
     "data": {
      "text/plain": [
       "[('comment', 9483987),\n",
       " ('petition__slug', 3743659),\n",
       " ('commentable_entity.slug', 3284371),\n",
       " ('user.photo.sizes.medium.url', 1619373),\n",
       " ('user.photo.sizes.large.url', 1619373),\n",
       " ('user.photo.sizes.xlarge.url', 1619373),\n",
       " ('user.photo.sizes.small.url', 1585211),\n",
       " ('created_at', 1377864),\n",
       " ('user.display_name', 1057622),\n",
       " ('user.photo.url', 1004457),\n",
       " ('user.slug', 736100),\n",
       " ('user.city', 692491),\n",
       " ('user.id', 645521),\n",
       " ('role', 638217),\n",
       " ('user.last_name', 637162),\n",
       " ('id', 631521),\n",
       " ('status_manual', 622625),\n",
       " ('user.first_name', 592691),\n",
       " ('user.short_display_name', 592619),\n",
       " ('commentable_id', 573909),\n",
       " ('user.locale', 522453),\n",
       " ('commentable_type', 516699),\n",
       " ('user.description', 429226),\n",
       " ('user.photo.id', 413647),\n",
       " ('user.roles', 344466),\n",
       " ('user.country_code', 344454),\n",
       " ('user.website', 339111),\n",
       " ('user.state_code', 324016),\n",
       " ('user.photo.sizes.medium.size.width', 321217),\n",
       " ('user.photo.sizes.medium.size.height', 321217),\n",
       " ('user.photo.sizes.large.size.width', 321217),\n",
       " ('user.photo.sizes.large.size.height', 321217),\n",
       " ('user.photo.sizes.xlarge.size.width', 321217),\n",
       " ('user.photo.sizes.xlarge.size.height', 321217),\n",
       " ('user.photo.sizes.xlarge.processing', 321201),\n",
       " ('user.photo.sizes.small.processing', 321200),\n",
       " ('user.photo.sizes.medium.processing', 321200),\n",
       " ('user.photo.sizes.large.processing', 321200),\n",
       " ('user.photo.sizes.small.size.width', 304136),\n",
       " ('user.photo.sizes.small.size.height', 304136),\n",
       " ('index', 291865),\n",
       " ('deleted_at', 287055),\n",
       " ('likes', 172726),\n",
       " ('parent_id', 172233),\n",
       " ('children_count', 172233)]"
      ]
     },
     "execution_count": 15,
     "metadata": {},
     "output_type": "execute_result"
    }
   ],
   "source": [
    "from collections import Counter\n",
    "Counter(column_size).most_common()"
   ]
  },
  {
   "cell_type": "markdown",
   "id": "aca6509c-b931-487c-baee-a9142d84b802",
   "metadata": {},
   "source": [
    "# Optional: plotting"
   ]
  },
  {
   "cell_type": "code",
   "execution_count": 16,
   "id": "26636856-8a4a-4e2c-8225-7538cf1e9d0b",
   "metadata": {},
   "outputs": [],
   "source": [
    "from matplotlib import pyplot as plt"
   ]
  },
  {
   "cell_type": "code",
   "execution_count": 17,
   "id": "5f59099c-a884-4c0e-818c-774ffffa685a",
   "metadata": {},
   "outputs": [
    {
     "data": {
      "text/plain": [
       "8991737"
      ]
     },
     "execution_count": 17,
     "metadata": {},
     "output_type": "execute_result"
    }
   ],
   "source": [
    "sum([len(t) for t in df.comment])"
   ]
  },
  {
   "cell_type": "code",
   "execution_count": 18,
   "id": "86d3af8f-354a-4ea2-b04b-0b4a637eb6d5",
   "metadata": {},
   "outputs": [
    {
     "data": {
      "image/png": "[encoded data removed]",
      "text/plain": [
       "<Figure size 432x288 with 1 Axes>"
      ]
     },
     "metadata": {
      "needs_background": "light"
     },
     "output_type": "display_data"
    }
   ],
   "source": [
    "plt.title(\"Comment length for petitions (total=%d comments)\" % len(df))\n",
    "plt.xlabel(\"log of comment length\")\n",
    "plt.ylabel(\"Number of comments\")\n",
    "for status, group in df.groupby('status_manual'):\n",
    "    plt.hist([np.log10(len(t)) for t in group.comment], label=status)#, log=True)\n",
    "plt.legend()\n",
    "plt.yscale('log')\n",
    "plt.savefig('./figures/comments_length_hist.png', bbox_inches='tight')\n",
    "plt.show()"
   ]
  },
  {
   "cell_type": "code",
   "execution_count": 41,
   "id": "7dfec8d4-03f0-4ba0-9d33-1618d30bb9c1",
   "metadata": {},
   "outputs": [
    {
     "data": {
      "image/png": "[encoded data removed]",
      "text/plain": [
       "<Figure size 720x360 with 1 Axes>"
      ]
     },
     "metadata": {
      "needs_background": "light"
     },
     "output_type": "display_data"
    }
   ],
   "source": [
    "plt.figure(figsize=(10, 5))\n",
    "plt.hist(pd.to_datetime(df[df['status_manual'] == 'against'].created_at), bins=100, label='against [prelim]', alpha=0.5)\n",
    "plt.hist(pd.to_datetime(df[df['status_manual'] == 'for'].created_at), bins=100, label='for [prelim]', alpha=0.5)\n",
    "#plt.hist(pd.to_datetime(df[df['status_manual'] == 'related'].created_at), bins=100, label='related', alpha=0.5)\n",
    "#plt.hist(pd.to_datetime(df.created_at), bins=100, label='all', alpha=0.5)\n",
    "plt.yscale('log')\n",
    "plt.xlabel('Date')\n",
    "plt.ylabel('Number of comments')\n",
    "plt.title('Comments by date')\n",
    "plt.legend()\n",
    "plt.savefig('./figures/comments_bydate.png', bbox_inches='tight')\n",
    "plt.show()"
   ]
  },
  {
   "cell_type": "code",
   "execution_count": null,
   "id": "a882aae2-7f70-4557-bdba-55d7973202f8",
   "metadata": {},
   "outputs": [],
   "source": []
  },
  {
   "cell_type": "code",
   "execution_count": null,
   "id": "d7398131-b72e-4389-a86b-7c48f3e1b007",
   "metadata": {},
   "outputs": [],
   "source": []
  }
 ],
 "metadata": {
  "kernelspec": {
   "display_name": "Python 3 (ipykernel)",
   "language": "python",
   "name": "python3"
  },
  "language_info": {
   "codemirror_mode": {
    "name": "ipython",
    "version": 3
   },
   "file_extension": ".py",
   "mimetype": "text/x-python",
   "name": "python",
   "nbconvert_exporter": "python",
   "pygments_lexer": "ipython3",
   "version": "3.7.11"
  }
 },
 "nbformat": 4,
 "nbformat_minor": 5
}
