{
 "cells": [
  {
   "cell_type": "code",
   "execution_count": 73,
   "id": "331e7ed1-7186-4442-8754-c6e3b000567f",
   "metadata": {},
   "outputs": [],
   "source": [
    "import pandas as pd\n",
    "from get_comments import main\n",
    "from path import Path\n",
    "import os\n",
    "import time\n",
    "from tqdm.auto import tqdm\n",
    "import numpy as np"
   ]
  },
  {
   "cell_type": "code",
   "execution_count": 37,
   "id": "10e4ac88-4306-4eca-b9fc-b19fef71bd80",
   "metadata": {},
   "outputs": [],
   "source": [
    "df = pd.read_csv('./data/change_org_petitions_Amber_Heard_at_20211005-222550_limit_1000_offset_0_delay_ms_500.csv')\n",
    "df_status = pd.read_csv('./data/all_petitions_status_manual.csv')"
   ]
  },
  {
   "cell_type": "code",
   "execution_count": 45,
   "id": "8ead8c51-c96e-42f3-8923-22b7f98f8178",
   "metadata": {},
   "outputs": [],
   "source": [
    "slug_to_status = dict(zip(df_status.slug, df_status.status))"
   ]
  },
  {
   "cell_type": "code",
   "execution_count": 46,
   "id": "f613de8c-fe81-4b25-9203-f9829e76ffd3",
   "metadata": {},
   "outputs": [],
   "source": [
    "slugs = list(df['petition__slug'])\n",
    "slugs = [x for x in slugs if isinstance(x, str)]\n",
    "slugs = [x for x in slugs if slug_to_status[x] != 'irrelevant']"
   ]
  },
  {
   "cell_type": "code",
   "execution_count": 48,
   "id": "27fc270a-494e-43cf-ba83-dd4892e7339a",
   "metadata": {},
   "outputs": [
    {
     "data": {
      "text/plain": [
       "183"
      ]
     },
     "execution_count": 48,
     "metadata": {},
     "output_type": "execute_result"
    }
   ],
   "source": [
    "len(slugs)"
   ]
  },
  {
   "cell_type": "code",
   "execution_count": null,
   "id": "04e70b1e-8065-48e4-9991-09d3216275eb",
   "metadata": {},
   "outputs": [],
   "source": [
    "error_slugs = set()\n",
    "for slug in tqdm(slugs):\n",
    "    if not isinstance(slug, str):\n",
    "        continue\n",
    "    args = type('obj', (object,), {'petition_slug': slug, 'delay_ms': 100, 'offset': 0, 'limit': 1000000})\n",
    "    with Path('./data'):\n",
    "        try:\n",
    "            main(args)\n",
    "        except Exception as e:\n",
    "            print(slug, e)\n",
    "            error_slugs.add(slug)"
   ]
  },
  {
   "cell_type": "code",
   "execution_count": 51,
   "id": "5f294b05-3371-4390-b2ce-3482a4990bd0",
   "metadata": {},
   "outputs": [
    {
     "data": {
      "text/plain": [
       "{'warner-brothers-get-johnny-depp-his-role-in-fantastic-beasts-back-arrest-fire-amber-heard-from-aquaman-2'}"
      ]
     },
     "execution_count": 51,
     "metadata": {},
     "output_type": "execute_result"
    }
   ],
   "source": [
    "# first two are not relevant\n",
    "# the second one does not have public milestones\n",
    "error_slugs"
   ]
  },
  {
   "cell_type": "code",
   "execution_count": 52,
   "id": "339adea3-6646-45ee-a28f-2c19ca396e92",
   "metadata": {},
   "outputs": [],
   "source": [
    "# merging everything into a single dataframe"
   ]
  },
  {
   "cell_type": "code",
   "execution_count": 74,
   "id": "10f09f95-60b9-459b-ba25-b70215ab4e1c",
   "metadata": {},
   "outputs": [],
   "source": [
    "l = os.listdir('./data')\n",
    "fs = []\n",
    "prefix = 'change_org_comments_petition_slug_'\n",
    "for filename in l:\n",
    "    f = os.path.basename(filename)\n",
    "    \n",
    "    if not(filename.startswith(prefix) and filename.endswith('.csv')):\n",
    "        continue\n",
    "    slug = f[len(prefix):f.index('_limit_')]\n",
    "    # print(slug)\n",
    "    if slug not in slugs:\n",
    "        continue\n",
    "    fs.append('./data/' + filename)"
   ]
  },
  {
   "cell_type": "code",
   "execution_count": 67,
   "id": "668be45c-f5f8-415e-a840-fa219496c6c6",
   "metadata": {},
   "outputs": [],
   "source": [
    "def read_set_slug(f):\n",
    "    try:\n",
    "        df = pd.read_csv(f)\n",
    "        slug = os.path.basename(f)[len(prefix):f.index('_limit_') + 1]\n",
    "        df['petition__slug'] = [slug] * len(df)\n",
    "        return df\n",
    "    except:\n",
    "        return None"
   ]
  },
  {
   "cell_type": "code",
   "execution_count": 68,
   "id": "38508744-66c1-4a83-b5db-3e927156e736",
   "metadata": {},
   "outputs": [
    {
     "data": {
      "application/vnd.jupyter.widget-view+json": {
       "model_id": "ced292d9f29e441aa0d4dae6936f32c0",
       "version_major": 2,
       "version_minor": 0
      },
      "text/plain": [
       "  0%|          | 0/180 [00:00<?, ?it/s]"
      ]
     },
     "metadata": {},
     "output_type": "display_data"
    }
   ],
   "source": [
    "df = pd.concat([read_set_slug(f) for f in tqdm(fs)])\n",
    "df = df.reset_index()"
   ]
  },
  {
   "cell_type": "code",
   "execution_count": 86,
   "id": "be3439df-3d4a-40dd-87b5-12be0553228f",
   "metadata": {},
   "outputs": [],
   "source": [
    "df['status_manual'] = [slug_to_status[t] for t in df['commentable_entity.slug']]\n",
    "df.to_csv(f\"./data/all_petitions_comments_{time.strftime('%Y%m%d-%H%M%S')}.csv\", index=False)"
   ]
  },
  {
   "cell_type": "markdown",
   "id": "aca6509c-b931-487c-baee-a9142d84b802",
   "metadata": {},
   "source": [
    "# Optional: plotting"
   ]
  },
  {
   "cell_type": "code",
   "execution_count": 78,
   "id": "26636856-8a4a-4e2c-8225-7538cf1e9d0b",
   "metadata": {},
   "outputs": [],
   "source": [
    "from matplotlib import pyplot as plt"
   ]
  },
  {
   "cell_type": "code",
   "execution_count": 91,
   "id": "5f59099c-a884-4c0e-818c-774ffffa685a",
   "metadata": {},
   "outputs": [
    {
     "data": {
      "text/plain": [
       "3436450"
      ]
     },
     "execution_count": 91,
     "metadata": {},
     "output_type": "execute_result"
    }
   ],
   "source": [
    "sum([len(t) for t in df.comment])"
   ]
  },
  {
   "cell_type": "code",
   "execution_count": 103,
   "id": "86d3af8f-354a-4ea2-b04b-0b4a637eb6d5",
   "metadata": {},
   "outputs": [
    {
     "data": {
      "image/png": "[encoded data removed]",
      "text/plain": [
       "<Figure size 432x288 with 1 Axes>"
      ]
     },
     "metadata": {
      "needs_background": "light"
     },
     "output_type": "display_data"
    }
   ],
   "source": [
    "plt.title(\"Comment length for petitions (total=%d comments)\" % len(df))\n",
    "plt.xlabel(\"log of comment length\")\n",
    "plt.ylabel(\"Number of comments\")\n",
    "for status, group in df.groupby('status_manual'):\n",
    "    plt.hist([np.log10(len(t)) for t in group.comment], label=status)#, log=True)\n",
    "plt.legend()\n",
    "plt.yscale('log')\n",
    "plt.savefig('./figures/comments_length_hist.png', bbox_inches='tight')\n",
    "plt.show()"
   ]
  },
  {
   "cell_type": "code",
   "execution_count": 80,
   "id": "6da075e0-c807-47ac-93b7-5160995e6d23",
   "metadata": {},
   "outputs": [
    {
     "data": {
      "text/plain": [
       "(array([1.710e+02, 7.000e+00, 1.900e+01, 4.000e+00, 1.970e+02, 9.900e+01,\n",
       "        5.460e+02, 6.180e+02, 1.323e+04, 2.354e+03]),\n",
       " array([16950.37990741, 17147.93478935, 17345.4896713 , 17543.04455324,\n",
       "        17740.59943519, 17938.15431713, 18135.70919907, 18333.26408102,\n",
       "        18530.81896296, 18728.37384491, 18925.92872685]),\n",
       " <BarContainer object of 10 artists>)"
      ]
     },
     "execution_count": 80,
     "metadata": {},
     "output_type": "execute_result"
    },
    {
     "data": {
      "image/png": "[encoded data removed]",
      "text/plain": [
       "<Figure size 432x288 with 1 Axes>"
      ]
     },
     "metadata": {
      "needs_background": "light"
     },
     "output_type": "display_data"
    }
   ],
   "source": [
    "plt.hist(pd.to_datetime(df.created_at))"
   ]
  },
  {
   "cell_type": "code",
   "execution_count": null,
   "id": "7dfec8d4-03f0-4ba0-9d33-1618d30bb9c1",
   "metadata": {},
   "outputs": [],
   "source": []
  }
 ],
 "metadata": {
  "kernelspec": {
   "display_name": "Python 3 (ipykernel)",
   "language": "python",
   "name": "python3"
  },
  "language_info": {
   "codemirror_mode": {
    "name": "ipython",
    "version": 3
   },
   "file_extension": ".py",
   "mimetype": "text/x-python",
   "name": "python",
   "nbconvert_exporter": "python",
   "pygments_lexer": "ipython3",
   "version": "3.7.11"
  }
 },
 "nbformat": 4,
 "nbformat_minor": 5
}
