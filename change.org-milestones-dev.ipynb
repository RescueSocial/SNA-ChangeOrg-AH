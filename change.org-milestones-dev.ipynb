{
 "cells": [
  {
   "cell_type": "code",
   "execution_count": 45,
   "id": "a4496e1d-1f3a-4eab-bf17-f16d0e365d5b",
   "metadata": {},
   "outputs": [],
   "source": [
    "import requests\n",
    "from helpers import flatten_dict, petition_slug_to_id\n",
    "import pandas as pd"
   ]
  },
  {
   "cell_type": "code",
   "execution_count": 72,
   "id": "9c2f90e8-142b-440a-8ffd-30768bbd3180",
   "metadata": {},
   "outputs": [],
   "source": [
    "def petition_milestones_request(petition_id, cursor):\n",
    "    \"\"\"Obtain the request to obtain the milestones for a petition.\"\"\"\n",
    "\n",
    "    # string below copied from Developer Tools\n",
    "    petition_signatures_graphql_post_request = \\\n",
    "    \\\n",
    "    \"{\\\"operationName\\\":\\\"PetitionDetailsPagePetitionStats\\\",\\\"variables\\\":{\\\"petitionId\\\":\\\"9878990\\\",\\\"count\\\":12,\\\"types\\\":[\\\"MILESTONE\\\",\\\"STARTER\\\",\\\"DM_RESPONSE\\\",\\\"STAFF\\\",\\\"FEATURED_NEWS\\\"],\\\"cursor\\\":\\\"YXJyYXljb25uZWN0aW9uOjIx\\\"},\\\"query\\\":\\\"query PetitionDetailsPagePetitionStats($petitionId: ID!, $count: Int!, $types: [PetitionUpdateType!]!, $cursor: ID) {\\\\n  petition: petitionById(id: $petitionId) {\\\\n    id\\\\n    slug\\\\n    user {\\\\n      id\\\\n      displayName\\\\n      photo {\\\\n        id\\\\n        userSmall {\\\\n          url\\\\n          processing\\\\n        }\\\\n      }\\\\n    }\\\\n    organization {\\\\n      id\\\\n      name\\\\n      photo {\\\\n        id\\\\n        userSmall {\\\\n          url\\\\n          processing\\\\n        }\\\\n      }\\\\n    }\\\\n    updatesConnection: petitionUpdatesConnection(\\\\n      types: $types\\\\n      first: $count\\\\n      after: $cursor\\\\n    ) {\\\\n      nodes {\\\\n        __typename\\\\n        id\\\\n        createdAt\\\\n        ... on MilestonePetitionUpdate {\\\\n          signatureCount\\\\n        }\\\\n        ... on StarterPetitionUpdate {\\\\n          title\\\\n          description\\\\n          ...MediaFields\\\\n        }\\\\n        ... on StaffPetitionUpdate {\\\\n          title\\\\n          description\\\\n          ...MediaFields\\\\n        }\\\\n        ... on FeaturedNewsPetitionUpdate {\\\\n          title\\\\n          ...MediaFields\\\\n        }\\\\n        ... on DmResponsePetitionUpdate {\\\\n          title\\\\n          description\\\\n          ...MediaFields\\\\n          dmResponse {\\\\n            id\\\\n            decisionMaker {\\\\n              id\\\\n              displayName\\\\n              photo {\\\\n                id\\\\n                userSmall {\\\\n                  url\\\\n                  processing\\\\n                }\\\\n              }\\\\n            }\\\\n          }\\\\n        }\\\\n      }\\\\n      pageInfo {\\\\n        endCursor\\\\n        hasNextPage\\\\n      }\\\\n    }\\\\n  }\\\\n}\\\\n\\\\nfragment MediaFields on PetitionUpdateWithMedia {\\\\n  photo {\\\\n    id\\\\n    petitionMedium {\\\\n      url\\\\n      processing\\\\n    }\\\\n  }\\\\n  video {\\\\n    photo {\\\\n      id\\\\n      petitionMedium {\\\\n        url\\\\n        processing\\\\n      }\\\\n    }\\\\n  }\\\\n  embeddedMedia {\\\\n    providerName\\\\n    photoUrl\\\\n    description\\\\n  }\\\\n}\\\\n\\\"}\"\n",
    "    \n",
    "    petition_signatures_graphql_post_request_template = \\\n",
    "        petition_signatures_graphql_post_request.\\\n",
    "        replace('9878990', str(petition_id)).\\\n",
    "        replace('YXJyYXljb25uZWN0aW9uOjIx', cursor)\n",
    "    \n",
    "    return petition_signatures_graphql_post_request_template\n",
    "\n",
    "\n",
    "def get_milestones_dataframe(petition_id: str):\n",
    "    \"\"\"Obtain a dataframe with the signatures.\"\"\"\n",
    "\n",
    "    # see above how we got it\n",
    "    url = 'https://www.change.org/api-proxy/graphql'\n",
    "\n",
    "    headers = {\n",
    "        'User-Agent': 'Mozilla/5.0 (X11; Ubuntu; Linux x86_64; rv:85.0) Gecko/20100101 Firefox/85.0',\n",
    "        'Accept': 'application/json',\n",
    "        'Accept-Language': 'en-US,en;q=0.5',\n",
    "        'Referer': 'https://www.change.org/',\n",
    "        'content-type': 'application/json',\n",
    "        'X-Requested-With': 'http-link',\n",
    "        'Origin': 'https://www.change.org',\n",
    "\n",
    "        'Sec-GPC': '1',\n",
    "        'Pragma': 'no-cache',\n",
    "        'Cache-Control': 'no-cache',\n",
    "        'TE': 'Trailers'\n",
    "    }\n",
    "    \n",
    "    results = []\n",
    "\n",
    "    # the POST request\n",
    "    hasNextPage = True\n",
    "    endCursor = \"\"\n",
    "    while hasNextPage:\n",
    "        data_str = petition_milestones_request(petition_id=petition_id,\n",
    "                                               cursor=endCursor).strip()\n",
    "        \n",
    "        # issuing the request\n",
    "        x = requests.post(url, data=data_str, headers=headers)\n",
    "        d = x.json()\n",
    "        \n",
    "        print(f\"Response: {x.status_code} {x.reason}\")\n",
    "        \n",
    "        hasNextPage = d['data']['petition']['updatesConnection']['pageInfo']['hasNextPage']\n",
    "        endCursor = d['data']['petition']['updatesConnection']['pageInfo']['endCursor']\n",
    "        \n",
    "        print(hasNextPage, endCursor)\n",
    "        \n",
    "        results.append(d)\n",
    "        \n",
    "    try:\n",
    "        df = pd.concat([pd.DataFrame(z['data']['petition']['updatesConnection']['nodes']) for z in results])\n",
    "        df = df.reset_index()\n",
    "        del df['index']\n",
    "    except:\n",
    "        df = None\n",
    "        \n",
    "    return {'raw': results, 'df': df}"
   ]
  },
  {
   "cell_type": "code",
   "execution_count": 54,
   "id": "f152ce69-d517-4467-abd6-51a2fcec17c7",
   "metadata": {},
   "outputs": [],
   "source": [
    "petition_id = petition_slug_to_id('pomóżcie-nam-powstrzymać-deportację-julii-i-jej-rodziny')"
   ]
  },
  {
   "cell_type": "code",
   "execution_count": 55,
   "id": "83c56bbd-00c2-4f0a-978a-8239e6f2b7dc",
   "metadata": {},
   "outputs": [
    {
     "data": {
      "text/plain": [
       "9878990"
      ]
     },
     "execution_count": 55,
     "metadata": {},
     "output_type": "execute_result"
    }
   ],
   "source": [
    "petition_id"
   ]
  },
  {
   "cell_type": "code",
   "execution_count": 73,
   "id": "8214e675-901a-43f0-826c-ede8655bc28e",
   "metadata": {},
   "outputs": [
    {
     "name": "stdout",
     "output_type": "stream",
     "text": [
      "Response: 200 OK\n",
      "True YXJyYXljb25uZWN0aW9uOjEx\n",
      "Response: 200 OK\n",
      "True YXJyYXljb25uZWN0aW9uOjIz\n",
      "Response: 200 OK\n",
      "False YXJyYXljb25uZWN0aW9uOjMx\n"
     ]
    }
   ],
   "source": [
    "data = get_milestones_dataframe(petition_id)"
   ]
  },
  {
   "cell_type": "code",
   "execution_count": 69,
   "id": "cbb70485-39da-4aa0-9446-fac07993d5ea",
   "metadata": {},
   "outputs": [
    {
     "ename": "IndexError",
     "evalue": "list index out of range",
     "output_type": "error",
     "traceback": [
      "\u001b[0;31m---------------------------------------------------------------------------\u001b[0m",
      "\u001b[0;31mIndexError\u001b[0m                                Traceback (most recent call last)",
      "\u001b[0;32m/tmp/ipykernel_119986/3175276453.py\u001b[0m in \u001b[0;36m<module>\u001b[0;34m\u001b[0m\n\u001b[0;32m----> 1\u001b[0;31m \u001b[0mdata\u001b[0m\u001b[0;34m[\u001b[0m\u001b[0;34m'raw'\u001b[0m\u001b[0;34m]\u001b[0m\u001b[0;34m[\u001b[0m\u001b[0;36m3\u001b[0m\u001b[0;34m]\u001b[0m\u001b[0;34m[\u001b[0m\u001b[0;34m'data'\u001b[0m\u001b[0;34m]\u001b[0m\u001b[0;34m[\u001b[0m\u001b[0;34m'petition'\u001b[0m\u001b[0;34m]\u001b[0m\u001b[0;34m[\u001b[0m\u001b[0;34m'updatesConnection'\u001b[0m\u001b[0;34m]\u001b[0m\u001b[0;34m[\u001b[0m\u001b[0;34m'nodes'\u001b[0m\u001b[0;34m]\u001b[0m\u001b[0;34m\u001b[0m\u001b[0;34m\u001b[0m\u001b[0m\n\u001b[0m",
      "\u001b[0;31mIndexError\u001b[0m: list index out of range"
     ]
    }
   ],
   "source": [
    "data['raw'][3]['data']['petition']['updatesConnection']['nodes']"
   ]
  },
  {
   "cell_type": "code",
   "execution_count": 75,
   "id": "1f45d686-a55f-4701-a886-64d921486d13",
   "metadata": {},
   "outputs": [],
   "source": [
    "df = data['df']"
   ]
  },
  {
   "cell_type": "code",
   "execution_count": 87,
   "id": "a5883fde-b448-42d1-a01a-b67ceb1c4123",
   "metadata": {},
   "outputs": [],
   "source": [
    "df.createdAt = pd.to_datetime(df.createdAt)"
   ]
  },
  {
   "cell_type": "code",
   "execution_count": 88,
   "id": "8f1bf75e-207c-48c9-a455-e6810ab3a412",
   "metadata": {},
   "outputs": [
    {
     "data": {
      "text/plain": [
       "<AxesSubplot:xlabel='createdAt'>"
      ]
     },
     "execution_count": 88,
     "metadata": {},
     "output_type": "execute_result"
    },
    {
     "data": {
      "image/png": "[encoded data removed]",
      "text/plain": [
       "<Figure size 432x288 with 1 Axes>"
      ]
     },
     "metadata": {
      "needs_background": "light"
     },
     "output_type": "display_data"
    }
   ],
   "source": [
    "df[df['__typename'] == 'MilestonePetitionUpdate'].plot('createdAt', 'signatureCount')"
   ]
  },
  {
   "cell_type": "code",
   "execution_count": 82,
   "id": "4a1b7333-8541-486c-a713-d7da928fa787",
   "metadata": {},
   "outputs": [
    {
     "data": {
      "text/plain": [
       "Index(['__typename', 'id', 'createdAt', 'title', 'description', 'photo',\n",
       "       'video', 'embeddedMedia', 'signatureCount'],\n",
       "      dtype='object')"
      ]
     },
     "execution_count": 82,
     "metadata": {},
     "output_type": "execute_result"
    }
   ],
   "source": [
    "df.columns"
   ]
  },
  {
   "cell_type": "code",
   "execution_count": 89,
   "id": "d9cb47cf-5794-4368-aa59-77a455cd2338",
   "metadata": {},
   "outputs": [
    {
     "name": "stdout",
     "output_type": "stream",
     "text": [
      "Collecting filecache\n",
      "  Downloading filecache-0.81-py3-none-any.whl (4.4 kB)\n",
      "Installing collected packages: filecache\n",
      "Successfully installed filecache-0.81\n"
     ]
    }
   ],
   "source": [
    "!pip install filecache"
   ]
  },
  {
   "cell_type": "code",
   "execution_count": null,
   "id": "addf2d01-dab3-449e-8232-41de11d72463",
   "metadata": {},
   "outputs": [],
   "source": []
  }
 ],
 "metadata": {
  "kernelspec": {
   "display_name": "Python 3 (ipykernel)",
   "language": "python",
   "name": "python3"
  },
  "language_info": {
   "codemirror_mode": {
    "name": "ipython",
    "version": 3
   },
   "file_extension": ".py",
   "mimetype": "text/x-python",
   "name": "python",
   "nbconvert_exporter": "python",
   "pygments_lexer": "ipython3",
   "version": "3.7.11"
  }
 },
 "nbformat": 4,
 "nbformat_minor": 5
}
