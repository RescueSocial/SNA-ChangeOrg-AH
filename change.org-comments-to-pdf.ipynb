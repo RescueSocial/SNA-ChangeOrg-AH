{
 "cells": [
  {
   "cell_type": "code",
   "execution_count": 150,
   "id": "73c6f3ab-6635-4e76-a5aa-b9b06e7606c4",
   "metadata": {},
   "outputs": [],
   "source": [
    "import pandas as pd\n",
    "from IPython.display import HTML, display, clear_output, FileLink\n",
    "from tqdm.auto import tqdm\n",
    "import time\n",
    "pd.set_option('max_columns', None)"
   ]
  },
  {
   "cell_type": "code",
   "execution_count": 144,
   "id": "512134b0-e314-4e57-b8e9-85197582661b",
   "metadata": {},
   "outputs": [],
   "source": [
    "comments_csv = './data/all_petitions_comments_20211112-095033.csv'\n",
    "search_csv = './data/change_org_petitions_Amber_Heard_at_20211005-222550_limit_1000_offset_0_delay_ms_500.csv'\n",
    "milestones_csv = './data/all_petitions_milestones_20211112-093758.csv'\n",
    "petitions = pd.read_csv(search_csv)\n",
    "comments = pd.read_csv(comments_csv)"
   ]
  },
  {
   "cell_type": "code",
   "execution_count": 83,
   "id": "c7d56cf2-deae-4c87-a5ac-1aad6b48b675",
   "metadata": {},
   "outputs": [
    {
     "data": {
      "text/html": [
       "<div>\n",
       "<style scoped>\n",
       "    .dataframe tbody tr th:only-of-type {\n",
       "        vertical-align: middle;\n",
       "    }\n",
       "\n",
       "    .dataframe tbody tr th {\n",
       "        vertical-align: top;\n",
       "    }\n",
       "\n",
       "    .dataframe thead th {\n",
       "        text-align: right;\n",
       "    }\n",
       "</style>\n",
       "<table border=\"1\" class=\"dataframe\">\n",
       "  <thead>\n",
       "    <tr style=\"text-align: right;\">\n",
       "      <th></th>\n",
       "      <th>index</th>\n",
       "      <th>id</th>\n",
       "      <th>comment</th>\n",
       "      <th>parent_id</th>\n",
       "      <th>children_count</th>\n",
       "      <th>commentable_type</th>\n",
       "      <th>commentable_id</th>\n",
       "      <th>likes</th>\n",
       "      <th>role</th>\n",
       "      <th>created_at</th>\n",
       "      <th>deleted_at</th>\n",
       "      <th>user.id</th>\n",
       "      <th>user.slug</th>\n",
       "      <th>user.first_name</th>\n",
       "      <th>user.last_name</th>\n",
       "      <th>user.short_display_name</th>\n",
       "      <th>user.display_name</th>\n",
       "      <th>user.city</th>\n",
       "      <th>user.state_code</th>\n",
       "      <th>user.country_code</th>\n",
       "      <th>user.website</th>\n",
       "      <th>user.locale</th>\n",
       "      <th>user.description</th>\n",
       "      <th>user.photo.id</th>\n",
       "      <th>user.photo.url</th>\n",
       "      <th>user.photo.sizes.small.url</th>\n",
       "      <th>user.photo.sizes.small.processing</th>\n",
       "      <th>user.photo.sizes.small.size.width</th>\n",
       "      <th>user.photo.sizes.small.size.height</th>\n",
       "      <th>user.photo.sizes.medium.url</th>\n",
       "      <th>user.photo.sizes.medium.processing</th>\n",
       "      <th>user.photo.sizes.medium.size.width</th>\n",
       "      <th>user.photo.sizes.medium.size.height</th>\n",
       "      <th>user.photo.sizes.large.url</th>\n",
       "      <th>user.photo.sizes.large.processing</th>\n",
       "      <th>user.photo.sizes.large.size.width</th>\n",
       "      <th>user.photo.sizes.large.size.height</th>\n",
       "      <th>user.photo.sizes.xlarge.url</th>\n",
       "      <th>user.photo.sizes.xlarge.processing</th>\n",
       "      <th>user.photo.sizes.xlarge.size.width</th>\n",
       "      <th>user.photo.sizes.xlarge.size.height</th>\n",
       "      <th>user.roles</th>\n",
       "      <th>commentable_entity.slug</th>\n",
       "      <th>petition__slug</th>\n",
       "      <th>status_manual</th>\n",
       "    </tr>\n",
       "  </thead>\n",
       "  <tbody>\n",
       "    <tr>\n",
       "      <th>0</th>\n",
       "      <td>0</td>\n",
       "      <td>810211260</td>\n",
       "      <td>Johnny Depp is Innocent, Amber Heard is a lier...</td>\n",
       "      <td>0</td>\n",
       "      <td>0</td>\n",
       "      <td>Event</td>\n",
       "      <td>14986339</td>\n",
       "      <td>1</td>\n",
       "      <td>comment</td>\n",
       "      <td>2020-12-07T02:33:21Z</td>\n",
       "      <td>NaN</td>\n",
       "      <td>577958717</td>\n",
       "      <td>577958717</td>\n",
       "      <td>Cesar</td>\n",
       "      <td>Ramirez</td>\n",
       "      <td>Cesar</td>\n",
       "      <td>Cesar Ramirez</td>\n",
       "      <td>Santa Ana</td>\n",
       "      <td>CA</td>\n",
       "      <td>US</td>\n",
       "      <td>NaN</td>\n",
       "      <td>en-US</td>\n",
       "      <td>NaN</td>\n",
       "      <td>145246649.0</td>\n",
       "      <td>photos/7/uq/dv/QVuqDvrhjPwmlbz-fullsize.jpg</td>\n",
       "      <td>//assets.change.org/photos/7/uq/dv/QVuqDvrhjPw...</td>\n",
       "      <td>False</td>\n",
       "      <td>48.0</td>\n",
       "      <td>48.0</td>\n",
       "      <td>//assets.change.org/photos/7/uq/dv/QVuqDvrhjPw...</td>\n",
       "      <td>False</td>\n",
       "      <td>128.0</td>\n",
       "      <td>128.0</td>\n",
       "      <td>//assets.change.org/photos/7/uq/dv/QVuqDvrhjPw...</td>\n",
       "      <td>False</td>\n",
       "      <td>400.0</td>\n",
       "      <td>400.0</td>\n",
       "      <td>//assets.change.org/photos/7/uq/dv/QVuqDvrhjPw...</td>\n",
       "      <td>False</td>\n",
       "      <td>800.0</td>\n",
       "      <td>800.0</td>\n",
       "      <td>[]</td>\n",
       "      <td>warner-brothers-save-johnny-depp-as-gellert-gr...</td>\n",
       "      <td>warner-brothers-save-johnny-depp-as-gellert-gr...</td>\n",
       "      <td>against</td>\n",
       "    </tr>\n",
       "    <tr>\n",
       "      <th>1</th>\n",
       "      <td>1</td>\n",
       "      <td>809954316</td>\n",
       "      <td>She's an evil abuser. Justice for JD! She shou...</td>\n",
       "      <td>0</td>\n",
       "      <td>0</td>\n",
       "      <td>Event</td>\n",
       "      <td>14986339</td>\n",
       "      <td>0</td>\n",
       "      <td>comment</td>\n",
       "      <td>2020-12-01T19:45:00Z</td>\n",
       "      <td>NaN</td>\n",
       "      <td>1166768300</td>\n",
       "      <td>1166768300</td>\n",
       "      <td>Brandi</td>\n",
       "      <td>Granger</td>\n",
       "      <td>Brandi</td>\n",
       "      <td>Brandi Granger</td>\n",
       "      <td>Missouri City</td>\n",
       "      <td>TX</td>\n",
       "      <td>US</td>\n",
       "      <td>NaN</td>\n",
       "      <td>en-US</td>\n",
       "      <td>NaN</td>\n",
       "      <td>NaN</td>\n",
       "      <td>NaN</td>\n",
       "      <td>NaN</td>\n",
       "      <td>NaN</td>\n",
       "      <td>NaN</td>\n",
       "      <td>NaN</td>\n",
       "      <td>NaN</td>\n",
       "      <td>NaN</td>\n",
       "      <td>NaN</td>\n",
       "      <td>NaN</td>\n",
       "      <td>NaN</td>\n",
       "      <td>NaN</td>\n",
       "      <td>NaN</td>\n",
       "      <td>NaN</td>\n",
       "      <td>NaN</td>\n",
       "      <td>NaN</td>\n",
       "      <td>NaN</td>\n",
       "      <td>NaN</td>\n",
       "      <td>[]</td>\n",
       "      <td>warner-brothers-save-johnny-depp-as-gellert-gr...</td>\n",
       "      <td>warner-brothers-save-johnny-depp-as-gellert-gr...</td>\n",
       "      <td>against</td>\n",
       "    </tr>\n",
       "    <tr>\n",
       "      <th>2</th>\n",
       "      <td>2</td>\n",
       "      <td>809039707</td>\n",
       "      <td>The contradictions were endless from Amber. Is...</td>\n",
       "      <td>0</td>\n",
       "      <td>0</td>\n",
       "      <td>Event</td>\n",
       "      <td>14986339</td>\n",
       "      <td>0</td>\n",
       "      <td>comment</td>\n",
       "      <td>2020-11-10T17:14:31Z</td>\n",
       "      <td>NaN</td>\n",
       "      <td>1163496852</td>\n",
       "      <td>1163496852</td>\n",
       "      <td>Ishan</td>\n",
       "      <td>Sam</td>\n",
       "      <td>Ishan</td>\n",
       "      <td>Ishan Sam</td>\n",
       "      <td>Kadawatha</td>\n",
       "      <td>NaN</td>\n",
       "      <td>LK</td>\n",
       "      <td>NaN</td>\n",
       "      <td>en-GB</td>\n",
       "      <td>NaN</td>\n",
       "      <td>NaN</td>\n",
       "      <td>NaN</td>\n",
       "      <td>NaN</td>\n",
       "      <td>NaN</td>\n",
       "      <td>NaN</td>\n",
       "      <td>NaN</td>\n",
       "      <td>NaN</td>\n",
       "      <td>NaN</td>\n",
       "      <td>NaN</td>\n",
       "      <td>NaN</td>\n",
       "      <td>NaN</td>\n",
       "      <td>NaN</td>\n",
       "      <td>NaN</td>\n",
       "      <td>NaN</td>\n",
       "      <td>NaN</td>\n",
       "      <td>NaN</td>\n",
       "      <td>NaN</td>\n",
       "      <td>NaN</td>\n",
       "      <td>[]</td>\n",
       "      <td>warner-brothers-save-johnny-depp-as-gellert-gr...</td>\n",
       "      <td>warner-brothers-save-johnny-depp-as-gellert-gr...</td>\n",
       "      <td>against</td>\n",
       "    </tr>\n",
       "    <tr>\n",
       "      <th>3</th>\n",
       "      <td>3</td>\n",
       "      <td>808992235</td>\n",
       "      <td>Я подписываю эту петицию, потому что Джонни ве...</td>\n",
       "      <td>0</td>\n",
       "      <td>0</td>\n",
       "      <td>Event</td>\n",
       "      <td>14986339</td>\n",
       "      <td>0</td>\n",
       "      <td>comment</td>\n",
       "      <td>2020-11-10T00:54:56Z</td>\n",
       "      <td>NaN</td>\n",
       "      <td>1163312015</td>\n",
       "      <td>1163312015</td>\n",
       "      <td>Даша</td>\n",
       "      <td>Дейнега</td>\n",
       "      <td>Даша</td>\n",
       "      <td>Даша Дейнега</td>\n",
       "      <td>NaN</td>\n",
       "      <td>NaN</td>\n",
       "      <td>UA</td>\n",
       "      <td>NaN</td>\n",
       "      <td>ru-RU</td>\n",
       "      <td>NaN</td>\n",
       "      <td>NaN</td>\n",
       "      <td>NaN</td>\n",
       "      <td>NaN</td>\n",
       "      <td>NaN</td>\n",
       "      <td>NaN</td>\n",
       "      <td>NaN</td>\n",
       "      <td>NaN</td>\n",
       "      <td>NaN</td>\n",
       "      <td>NaN</td>\n",
       "      <td>NaN</td>\n",
       "      <td>NaN</td>\n",
       "      <td>NaN</td>\n",
       "      <td>NaN</td>\n",
       "      <td>NaN</td>\n",
       "      <td>NaN</td>\n",
       "      <td>NaN</td>\n",
       "      <td>NaN</td>\n",
       "      <td>NaN</td>\n",
       "      <td>[]</td>\n",
       "      <td>warner-brothers-save-johnny-depp-as-gellert-gr...</td>\n",
       "      <td>warner-brothers-save-johnny-depp-as-gellert-gr...</td>\n",
       "      <td>against</td>\n",
       "    </tr>\n",
       "    <tr>\n",
       "      <th>4</th>\n",
       "      <td>4</td>\n",
       "      <td>808898141</td>\n",
       "      <td>Justice4johnny now</td>\n",
       "      <td>0</td>\n",
       "      <td>0</td>\n",
       "      <td>Event</td>\n",
       "      <td>14986339</td>\n",
       "      <td>0</td>\n",
       "      <td>comment</td>\n",
       "      <td>2020-11-08T15:03:27Z</td>\n",
       "      <td>NaN</td>\n",
       "      <td>1115721022</td>\n",
       "      <td>1115721022</td>\n",
       "      <td>Nicole</td>\n",
       "      <td>Hill</td>\n",
       "      <td>Nicole</td>\n",
       "      <td>Nicole Hill</td>\n",
       "      <td>Wasaga Beach</td>\n",
       "      <td>NaN</td>\n",
       "      <td>CA</td>\n",
       "      <td>NaN</td>\n",
       "      <td>en-CA</td>\n",
       "      <td>NaN</td>\n",
       "      <td>NaN</td>\n",
       "      <td>NaN</td>\n",
       "      <td>NaN</td>\n",
       "      <td>NaN</td>\n",
       "      <td>NaN</td>\n",
       "      <td>NaN</td>\n",
       "      <td>NaN</td>\n",
       "      <td>NaN</td>\n",
       "      <td>NaN</td>\n",
       "      <td>NaN</td>\n",
       "      <td>NaN</td>\n",
       "      <td>NaN</td>\n",
       "      <td>NaN</td>\n",
       "      <td>NaN</td>\n",
       "      <td>NaN</td>\n",
       "      <td>NaN</td>\n",
       "      <td>NaN</td>\n",
       "      <td>NaN</td>\n",
       "      <td>[]</td>\n",
       "      <td>warner-brothers-save-johnny-depp-as-gellert-gr...</td>\n",
       "      <td>warner-brothers-save-johnny-depp-as-gellert-gr...</td>\n",
       "      <td>against</td>\n",
       "    </tr>\n",
       "    <tr>\n",
       "      <th>...</th>\n",
       "      <td>...</td>\n",
       "      <td>...</td>\n",
       "      <td>...</td>\n",
       "      <td>...</td>\n",
       "      <td>...</td>\n",
       "      <td>...</td>\n",
       "      <td>...</td>\n",
       "      <td>...</td>\n",
       "      <td>...</td>\n",
       "      <td>...</td>\n",
       "      <td>...</td>\n",
       "      <td>...</td>\n",
       "      <td>...</td>\n",
       "      <td>...</td>\n",
       "      <td>...</td>\n",
       "      <td>...</td>\n",
       "      <td>...</td>\n",
       "      <td>...</td>\n",
       "      <td>...</td>\n",
       "      <td>...</td>\n",
       "      <td>...</td>\n",
       "      <td>...</td>\n",
       "      <td>...</td>\n",
       "      <td>...</td>\n",
       "      <td>...</td>\n",
       "      <td>...</td>\n",
       "      <td>...</td>\n",
       "      <td>...</td>\n",
       "      <td>...</td>\n",
       "      <td>...</td>\n",
       "      <td>...</td>\n",
       "      <td>...</td>\n",
       "      <td>...</td>\n",
       "      <td>...</td>\n",
       "      <td>...</td>\n",
       "      <td>...</td>\n",
       "      <td>...</td>\n",
       "      <td>...</td>\n",
       "      <td>...</td>\n",
       "      <td>...</td>\n",
       "      <td>...</td>\n",
       "      <td>...</td>\n",
       "      <td>...</td>\n",
       "      <td>...</td>\n",
       "      <td>...</td>\n",
       "    </tr>\n",
       "    <tr>\n",
       "      <th>27233</th>\n",
       "      <td>26</td>\n",
       "      <td>808862945</td>\n",
       "      <td>Amber Herd committed assault. She deserves to ...</td>\n",
       "      <td>0</td>\n",
       "      <td>0</td>\n",
       "      <td>Event</td>\n",
       "      <td>25706549</td>\n",
       "      <td>0</td>\n",
       "      <td>comment</td>\n",
       "      <td>2020-11-07T23:26:11Z</td>\n",
       "      <td>NaN</td>\n",
       "      <td>736666730</td>\n",
       "      <td>736666730</td>\n",
       "      <td>Glenn</td>\n",
       "      <td>Davie</td>\n",
       "      <td>Glenn</td>\n",
       "      <td>Glenn Davie</td>\n",
       "      <td>NaN</td>\n",
       "      <td>NaN</td>\n",
       "      <td>AU</td>\n",
       "      <td>NaN</td>\n",
       "      <td>en-GB</td>\n",
       "      <td>NaN</td>\n",
       "      <td>NaN</td>\n",
       "      <td>NaN</td>\n",
       "      <td>NaN</td>\n",
       "      <td>NaN</td>\n",
       "      <td>NaN</td>\n",
       "      <td>NaN</td>\n",
       "      <td>NaN</td>\n",
       "      <td>NaN</td>\n",
       "      <td>NaN</td>\n",
       "      <td>NaN</td>\n",
       "      <td>NaN</td>\n",
       "      <td>NaN</td>\n",
       "      <td>NaN</td>\n",
       "      <td>NaN</td>\n",
       "      <td>NaN</td>\n",
       "      <td>NaN</td>\n",
       "      <td>NaN</td>\n",
       "      <td>NaN</td>\n",
       "      <td>[]</td>\n",
       "      <td>warner-bros-pictures-justice-for-depp</td>\n",
       "      <td>warner-bros-pictures-justice-for-depp_limit_1</td>\n",
       "      <td>against</td>\n",
       "    </tr>\n",
       "    <tr>\n",
       "      <th>27234</th>\n",
       "      <td>27</td>\n",
       "      <td>808842947</td>\n",
       "      <td>he deserves justice.</td>\n",
       "      <td>0</td>\n",
       "      <td>0</td>\n",
       "      <td>Event</td>\n",
       "      <td>25706549</td>\n",
       "      <td>0</td>\n",
       "      <td>comment</td>\n",
       "      <td>2020-11-07T16:28:43Z</td>\n",
       "      <td>NaN</td>\n",
       "      <td>794759026</td>\n",
       "      <td>794759026</td>\n",
       "      <td>Shaniqua</td>\n",
       "      <td>Phillips</td>\n",
       "      <td>Shaniqua</td>\n",
       "      <td>Shaniqua Phillips</td>\n",
       "      <td>NaN</td>\n",
       "      <td>NaN</td>\n",
       "      <td>US</td>\n",
       "      <td>NaN</td>\n",
       "      <td>en-US</td>\n",
       "      <td>NaN</td>\n",
       "      <td>199354321.0</td>\n",
       "      <td>photos/7/xp/tb/NmXpTBqUNdhLCOg-fullsize.jpg</td>\n",
       "      <td>//assets.change.org/photos/7/xp/tb/NmXpTBqUNdh...</td>\n",
       "      <td>False</td>\n",
       "      <td>48.0</td>\n",
       "      <td>48.0</td>\n",
       "      <td>//assets.change.org/photos/7/xp/tb/NmXpTBqUNdh...</td>\n",
       "      <td>False</td>\n",
       "      <td>128.0</td>\n",
       "      <td>128.0</td>\n",
       "      <td>//assets.change.org/photos/7/xp/tb/NmXpTBqUNdh...</td>\n",
       "      <td>False</td>\n",
       "      <td>400.0</td>\n",
       "      <td>400.0</td>\n",
       "      <td>//assets.change.org/photos/7/xp/tb/NmXpTBqUNdh...</td>\n",
       "      <td>False</td>\n",
       "      <td>800.0</td>\n",
       "      <td>800.0</td>\n",
       "      <td>[]</td>\n",
       "      <td>warner-bros-pictures-justice-for-depp</td>\n",
       "      <td>warner-bros-pictures-justice-for-depp_limit_1</td>\n",
       "      <td>against</td>\n",
       "    </tr>\n",
       "    <tr>\n",
       "      <th>27235</th>\n",
       "      <td>28</td>\n",
       "      <td>808839550</td>\n",
       "      <td>This whole situation is dumb asf. Justice for ...</td>\n",
       "      <td>0</td>\n",
       "      <td>0</td>\n",
       "      <td>Event</td>\n",
       "      <td>25706549</td>\n",
       "      <td>0</td>\n",
       "      <td>comment</td>\n",
       "      <td>2020-11-07T15:18:29Z</td>\n",
       "      <td>NaN</td>\n",
       "      <td>975852115</td>\n",
       "      <td>975852115</td>\n",
       "      <td>Freddie</td>\n",
       "      <td>McCallum</td>\n",
       "      <td>Freddie</td>\n",
       "      <td>Freddie McCallum</td>\n",
       "      <td>Watertown</td>\n",
       "      <td>NaN</td>\n",
       "      <td>US</td>\n",
       "      <td>NaN</td>\n",
       "      <td>en-US</td>\n",
       "      <td>NaN</td>\n",
       "      <td>NaN</td>\n",
       "      <td>NaN</td>\n",
       "      <td>NaN</td>\n",
       "      <td>NaN</td>\n",
       "      <td>NaN</td>\n",
       "      <td>NaN</td>\n",
       "      <td>NaN</td>\n",
       "      <td>NaN</td>\n",
       "      <td>NaN</td>\n",
       "      <td>NaN</td>\n",
       "      <td>NaN</td>\n",
       "      <td>NaN</td>\n",
       "      <td>NaN</td>\n",
       "      <td>NaN</td>\n",
       "      <td>NaN</td>\n",
       "      <td>NaN</td>\n",
       "      <td>NaN</td>\n",
       "      <td>NaN</td>\n",
       "      <td>[]</td>\n",
       "      <td>warner-bros-pictures-justice-for-depp</td>\n",
       "      <td>warner-bros-pictures-justice-for-depp_limit_1</td>\n",
       "      <td>against</td>\n",
       "    </tr>\n",
       "    <tr>\n",
       "      <th>27236</th>\n",
       "      <td>29</td>\n",
       "      <td>808837393</td>\n",
       "      <td>What happened to this guy is the shittiest thi...</td>\n",
       "      <td>0</td>\n",
       "      <td>0</td>\n",
       "      <td>Event</td>\n",
       "      <td>25706549</td>\n",
       "      <td>0</td>\n",
       "      <td>comment</td>\n",
       "      <td>2020-11-07T14:31:40Z</td>\n",
       "      <td>NaN</td>\n",
       "      <td>704016194</td>\n",
       "      <td>704016194</td>\n",
       "      <td>Colton</td>\n",
       "      <td>Mitchell</td>\n",
       "      <td>Colton</td>\n",
       "      <td>Colton Mitchell</td>\n",
       "      <td>Kirksville</td>\n",
       "      <td>MO</td>\n",
       "      <td>US</td>\n",
       "      <td>https://www.twitter.com/Colton Eugene Mitchell</td>\n",
       "      <td>en-US</td>\n",
       "      <td>NaN</td>\n",
       "      <td>NaN</td>\n",
       "      <td>NaN</td>\n",
       "      <td>NaN</td>\n",
       "      <td>NaN</td>\n",
       "      <td>NaN</td>\n",
       "      <td>NaN</td>\n",
       "      <td>NaN</td>\n",
       "      <td>NaN</td>\n",
       "      <td>NaN</td>\n",
       "      <td>NaN</td>\n",
       "      <td>NaN</td>\n",
       "      <td>NaN</td>\n",
       "      <td>NaN</td>\n",
       "      <td>NaN</td>\n",
       "      <td>NaN</td>\n",
       "      <td>NaN</td>\n",
       "      <td>NaN</td>\n",
       "      <td>NaN</td>\n",
       "      <td>[]</td>\n",
       "      <td>warner-bros-pictures-justice-for-depp</td>\n",
       "      <td>warner-bros-pictures-justice-for-depp_limit_1</td>\n",
       "      <td>against</td>\n",
       "    </tr>\n",
       "    <tr>\n",
       "      <th>27237</th>\n",
       "      <td>30</td>\n",
       "      <td>808816673</td>\n",
       "      <td>Because abuse of a cause is as equal to the fa...</td>\n",
       "      <td>0</td>\n",
       "      <td>0</td>\n",
       "      <td>Event</td>\n",
       "      <td>25706549</td>\n",
       "      <td>2</td>\n",
       "      <td>comment</td>\n",
       "      <td>2020-11-07T04:07:28Z</td>\n",
       "      <td>NaN</td>\n",
       "      <td>35072913</td>\n",
       "      <td>35072913</td>\n",
       "      <td>Vern</td>\n",
       "      <td>Commet</td>\n",
       "      <td>Vern</td>\n",
       "      <td>Vern Commet</td>\n",
       "      <td>Yakima</td>\n",
       "      <td>WA</td>\n",
       "      <td>US</td>\n",
       "      <td>NaN</td>\n",
       "      <td>en-US</td>\n",
       "      <td>NaN</td>\n",
       "      <td>NaN</td>\n",
       "      <td>NaN</td>\n",
       "      <td>NaN</td>\n",
       "      <td>NaN</td>\n",
       "      <td>NaN</td>\n",
       "      <td>NaN</td>\n",
       "      <td>NaN</td>\n",
       "      <td>NaN</td>\n",
       "      <td>NaN</td>\n",
       "      <td>NaN</td>\n",
       "      <td>NaN</td>\n",
       "      <td>NaN</td>\n",
       "      <td>NaN</td>\n",
       "      <td>NaN</td>\n",
       "      <td>NaN</td>\n",
       "      <td>NaN</td>\n",
       "      <td>NaN</td>\n",
       "      <td>NaN</td>\n",
       "      <td>[]</td>\n",
       "      <td>warner-bros-pictures-justice-for-depp</td>\n",
       "      <td>warner-bros-pictures-justice-for-depp_limit_1</td>\n",
       "      <td>against</td>\n",
       "    </tr>\n",
       "  </tbody>\n",
       "</table>\n",
       "<p>27238 rows × 45 columns</p>\n",
       "</div>"
      ],
      "text/plain": [
       "       index         id                                            comment  \\\n",
       "0          0  810211260  Johnny Depp is Innocent, Amber Heard is a lier...   \n",
       "1          1  809954316  She's an evil abuser. Justice for JD! She shou...   \n",
       "2          2  809039707  The contradictions were endless from Amber. Is...   \n",
       "3          3  808992235  Я подписываю эту петицию, потому что Джонни ве...   \n",
       "4          4  808898141                                 Justice4johnny now   \n",
       "...      ...        ...                                                ...   \n",
       "27233     26  808862945  Amber Herd committed assault. She deserves to ...   \n",
       "27234     27  808842947                               he deserves justice.   \n",
       "27235     28  808839550  This whole situation is dumb asf. Justice for ...   \n",
       "27236     29  808837393  What happened to this guy is the shittiest thi...   \n",
       "27237     30  808816673  Because abuse of a cause is as equal to the fa...   \n",
       "\n",
       "       parent_id  children_count commentable_type  commentable_id  likes  \\\n",
       "0              0               0            Event        14986339      1   \n",
       "1              0               0            Event        14986339      0   \n",
       "2              0               0            Event        14986339      0   \n",
       "3              0               0            Event        14986339      0   \n",
       "4              0               0            Event        14986339      0   \n",
       "...          ...             ...              ...             ...    ...   \n",
       "27233          0               0            Event        25706549      0   \n",
       "27234          0               0            Event        25706549      0   \n",
       "27235          0               0            Event        25706549      0   \n",
       "27236          0               0            Event        25706549      0   \n",
       "27237          0               0            Event        25706549      2   \n",
       "\n",
       "          role            created_at  deleted_at     user.id   user.slug  \\\n",
       "0      comment  2020-12-07T02:33:21Z         NaN   577958717   577958717   \n",
       "1      comment  2020-12-01T19:45:00Z         NaN  1166768300  1166768300   \n",
       "2      comment  2020-11-10T17:14:31Z         NaN  1163496852  1163496852   \n",
       "3      comment  2020-11-10T00:54:56Z         NaN  1163312015  1163312015   \n",
       "4      comment  2020-11-08T15:03:27Z         NaN  1115721022  1115721022   \n",
       "...        ...                   ...         ...         ...         ...   \n",
       "27233  comment  2020-11-07T23:26:11Z         NaN   736666730   736666730   \n",
       "27234  comment  2020-11-07T16:28:43Z         NaN   794759026   794759026   \n",
       "27235  comment  2020-11-07T15:18:29Z         NaN   975852115   975852115   \n",
       "27236  comment  2020-11-07T14:31:40Z         NaN   704016194   704016194   \n",
       "27237  comment  2020-11-07T04:07:28Z         NaN    35072913    35072913   \n",
       "\n",
       "      user.first_name user.last_name user.short_display_name  \\\n",
       "0               Cesar        Ramirez                   Cesar   \n",
       "1              Brandi        Granger                  Brandi   \n",
       "2               Ishan            Sam                   Ishan   \n",
       "3                Даша        Дейнега                    Даша   \n",
       "4              Nicole           Hill                  Nicole   \n",
       "...               ...            ...                     ...   \n",
       "27233           Glenn          Davie                   Glenn   \n",
       "27234        Shaniqua       Phillips                Shaniqua   \n",
       "27235         Freddie       McCallum                 Freddie   \n",
       "27236          Colton       Mitchell                  Colton   \n",
       "27237            Vern         Commet                    Vern   \n",
       "\n",
       "       user.display_name      user.city user.state_code user.country_code  \\\n",
       "0          Cesar Ramirez      Santa Ana              CA                US   \n",
       "1         Brandi Granger  Missouri City              TX                US   \n",
       "2              Ishan Sam      Kadawatha             NaN                LK   \n",
       "3           Даша Дейнега            NaN             NaN                UA   \n",
       "4            Nicole Hill   Wasaga Beach             NaN                CA   \n",
       "...                  ...            ...             ...               ...   \n",
       "27233        Glenn Davie            NaN             NaN                AU   \n",
       "27234  Shaniqua Phillips            NaN             NaN                US   \n",
       "27235   Freddie McCallum      Watertown             NaN                US   \n",
       "27236    Colton Mitchell     Kirksville              MO                US   \n",
       "27237        Vern Commet         Yakima              WA                US   \n",
       "\n",
       "                                         user.website user.locale  \\\n",
       "0                                                 NaN       en-US   \n",
       "1                                                 NaN       en-US   \n",
       "2                                                 NaN       en-GB   \n",
       "3                                                 NaN       ru-RU   \n",
       "4                                                 NaN       en-CA   \n",
       "...                                               ...         ...   \n",
       "27233                                             NaN       en-GB   \n",
       "27234                                             NaN       en-US   \n",
       "27235                                             NaN       en-US   \n",
       "27236  https://www.twitter.com/Colton Eugene Mitchell       en-US   \n",
       "27237                                             NaN       en-US   \n",
       "\n",
       "      user.description  user.photo.id  \\\n",
       "0                  NaN    145246649.0   \n",
       "1                  NaN            NaN   \n",
       "2                  NaN            NaN   \n",
       "3                  NaN            NaN   \n",
       "4                  NaN            NaN   \n",
       "...                ...            ...   \n",
       "27233              NaN            NaN   \n",
       "27234              NaN    199354321.0   \n",
       "27235              NaN            NaN   \n",
       "27236              NaN            NaN   \n",
       "27237              NaN            NaN   \n",
       "\n",
       "                                    user.photo.url  \\\n",
       "0      photos/7/uq/dv/QVuqDvrhjPwmlbz-fullsize.jpg   \n",
       "1                                              NaN   \n",
       "2                                              NaN   \n",
       "3                                              NaN   \n",
       "4                                              NaN   \n",
       "...                                            ...   \n",
       "27233                                          NaN   \n",
       "27234  photos/7/xp/tb/NmXpTBqUNdhLCOg-fullsize.jpg   \n",
       "27235                                          NaN   \n",
       "27236                                          NaN   \n",
       "27237                                          NaN   \n",
       "\n",
       "                              user.photo.sizes.small.url  \\\n",
       "0      //assets.change.org/photos/7/uq/dv/QVuqDvrhjPw...   \n",
       "1                                                    NaN   \n",
       "2                                                    NaN   \n",
       "3                                                    NaN   \n",
       "4                                                    NaN   \n",
       "...                                                  ...   \n",
       "27233                                                NaN   \n",
       "27234  //assets.change.org/photos/7/xp/tb/NmXpTBqUNdh...   \n",
       "27235                                                NaN   \n",
       "27236                                                NaN   \n",
       "27237                                                NaN   \n",
       "\n",
       "      user.photo.sizes.small.processing  user.photo.sizes.small.size.width  \\\n",
       "0                                 False                               48.0   \n",
       "1                                   NaN                                NaN   \n",
       "2                                   NaN                                NaN   \n",
       "3                                   NaN                                NaN   \n",
       "4                                   NaN                                NaN   \n",
       "...                                 ...                                ...   \n",
       "27233                               NaN                                NaN   \n",
       "27234                             False                               48.0   \n",
       "27235                               NaN                                NaN   \n",
       "27236                               NaN                                NaN   \n",
       "27237                               NaN                                NaN   \n",
       "\n",
       "       user.photo.sizes.small.size.height  \\\n",
       "0                                    48.0   \n",
       "1                                     NaN   \n",
       "2                                     NaN   \n",
       "3                                     NaN   \n",
       "4                                     NaN   \n",
       "...                                   ...   \n",
       "27233                                 NaN   \n",
       "27234                                48.0   \n",
       "27235                                 NaN   \n",
       "27236                                 NaN   \n",
       "27237                                 NaN   \n",
       "\n",
       "                             user.photo.sizes.medium.url  \\\n",
       "0      //assets.change.org/photos/7/uq/dv/QVuqDvrhjPw...   \n",
       "1                                                    NaN   \n",
       "2                                                    NaN   \n",
       "3                                                    NaN   \n",
       "4                                                    NaN   \n",
       "...                                                  ...   \n",
       "27233                                                NaN   \n",
       "27234  //assets.change.org/photos/7/xp/tb/NmXpTBqUNdh...   \n",
       "27235                                                NaN   \n",
       "27236                                                NaN   \n",
       "27237                                                NaN   \n",
       "\n",
       "      user.photo.sizes.medium.processing  user.photo.sizes.medium.size.width  \\\n",
       "0                                  False                               128.0   \n",
       "1                                    NaN                                 NaN   \n",
       "2                                    NaN                                 NaN   \n",
       "3                                    NaN                                 NaN   \n",
       "4                                    NaN                                 NaN   \n",
       "...                                  ...                                 ...   \n",
       "27233                                NaN                                 NaN   \n",
       "27234                              False                               128.0   \n",
       "27235                                NaN                                 NaN   \n",
       "27236                                NaN                                 NaN   \n",
       "27237                                NaN                                 NaN   \n",
       "\n",
       "       user.photo.sizes.medium.size.height  \\\n",
       "0                                    128.0   \n",
       "1                                      NaN   \n",
       "2                                      NaN   \n",
       "3                                      NaN   \n",
       "4                                      NaN   \n",
       "...                                    ...   \n",
       "27233                                  NaN   \n",
       "27234                                128.0   \n",
       "27235                                  NaN   \n",
       "27236                                  NaN   \n",
       "27237                                  NaN   \n",
       "\n",
       "                              user.photo.sizes.large.url  \\\n",
       "0      //assets.change.org/photos/7/uq/dv/QVuqDvrhjPw...   \n",
       "1                                                    NaN   \n",
       "2                                                    NaN   \n",
       "3                                                    NaN   \n",
       "4                                                    NaN   \n",
       "...                                                  ...   \n",
       "27233                                                NaN   \n",
       "27234  //assets.change.org/photos/7/xp/tb/NmXpTBqUNdh...   \n",
       "27235                                                NaN   \n",
       "27236                                                NaN   \n",
       "27237                                                NaN   \n",
       "\n",
       "      user.photo.sizes.large.processing  user.photo.sizes.large.size.width  \\\n",
       "0                                 False                              400.0   \n",
       "1                                   NaN                                NaN   \n",
       "2                                   NaN                                NaN   \n",
       "3                                   NaN                                NaN   \n",
       "4                                   NaN                                NaN   \n",
       "...                                 ...                                ...   \n",
       "27233                               NaN                                NaN   \n",
       "27234                             False                              400.0   \n",
       "27235                               NaN                                NaN   \n",
       "27236                               NaN                                NaN   \n",
       "27237                               NaN                                NaN   \n",
       "\n",
       "       user.photo.sizes.large.size.height  \\\n",
       "0                                   400.0   \n",
       "1                                     NaN   \n",
       "2                                     NaN   \n",
       "3                                     NaN   \n",
       "4                                     NaN   \n",
       "...                                   ...   \n",
       "27233                                 NaN   \n",
       "27234                               400.0   \n",
       "27235                                 NaN   \n",
       "27236                                 NaN   \n",
       "27237                                 NaN   \n",
       "\n",
       "                             user.photo.sizes.xlarge.url  \\\n",
       "0      //assets.change.org/photos/7/uq/dv/QVuqDvrhjPw...   \n",
       "1                                                    NaN   \n",
       "2                                                    NaN   \n",
       "3                                                    NaN   \n",
       "4                                                    NaN   \n",
       "...                                                  ...   \n",
       "27233                                                NaN   \n",
       "27234  //assets.change.org/photos/7/xp/tb/NmXpTBqUNdh...   \n",
       "27235                                                NaN   \n",
       "27236                                                NaN   \n",
       "27237                                                NaN   \n",
       "\n",
       "      user.photo.sizes.xlarge.processing  user.photo.sizes.xlarge.size.width  \\\n",
       "0                                  False                               800.0   \n",
       "1                                    NaN                                 NaN   \n",
       "2                                    NaN                                 NaN   \n",
       "3                                    NaN                                 NaN   \n",
       "4                                    NaN                                 NaN   \n",
       "...                                  ...                                 ...   \n",
       "27233                                NaN                                 NaN   \n",
       "27234                              False                               800.0   \n",
       "27235                                NaN                                 NaN   \n",
       "27236                                NaN                                 NaN   \n",
       "27237                                NaN                                 NaN   \n",
       "\n",
       "       user.photo.sizes.xlarge.size.height user.roles  \\\n",
       "0                                    800.0         []   \n",
       "1                                      NaN         []   \n",
       "2                                      NaN         []   \n",
       "3                                      NaN         []   \n",
       "4                                      NaN         []   \n",
       "...                                    ...        ...   \n",
       "27233                                  NaN         []   \n",
       "27234                                800.0         []   \n",
       "27235                                  NaN         []   \n",
       "27236                                  NaN         []   \n",
       "27237                                  NaN         []   \n",
       "\n",
       "                                 commentable_entity.slug  \\\n",
       "0      warner-brothers-save-johnny-depp-as-gellert-gr...   \n",
       "1      warner-brothers-save-johnny-depp-as-gellert-gr...   \n",
       "2      warner-brothers-save-johnny-depp-as-gellert-gr...   \n",
       "3      warner-brothers-save-johnny-depp-as-gellert-gr...   \n",
       "4      warner-brothers-save-johnny-depp-as-gellert-gr...   \n",
       "...                                                  ...   \n",
       "27233              warner-bros-pictures-justice-for-depp   \n",
       "27234              warner-bros-pictures-justice-for-depp   \n",
       "27235              warner-bros-pictures-justice-for-depp   \n",
       "27236              warner-bros-pictures-justice-for-depp   \n",
       "27237              warner-bros-pictures-justice-for-depp   \n",
       "\n",
       "                                          petition__slug status_manual  \n",
       "0      warner-brothers-save-johnny-depp-as-gellert-gr...       against  \n",
       "1      warner-brothers-save-johnny-depp-as-gellert-gr...       against  \n",
       "2      warner-brothers-save-johnny-depp-as-gellert-gr...       against  \n",
       "3      warner-brothers-save-johnny-depp-as-gellert-gr...       against  \n",
       "4      warner-brothers-save-johnny-depp-as-gellert-gr...       against  \n",
       "...                                                  ...           ...  \n",
       "27233      warner-bros-pictures-justice-for-depp_limit_1       against  \n",
       "27234      warner-bros-pictures-justice-for-depp_limit_1       against  \n",
       "27235      warner-bros-pictures-justice-for-depp_limit_1       against  \n",
       "27236      warner-bros-pictures-justice-for-depp_limit_1       against  \n",
       "27237      warner-bros-pictures-justice-for-depp_limit_1       against  \n",
       "\n",
       "[27238 rows x 45 columns]"
      ]
     },
     "execution_count": 83,
     "metadata": {},
     "output_type": "execute_result"
    }
   ],
   "source": [
    "comments"
   ]
  },
  {
   "cell_type": "code",
   "execution_count": 84,
   "id": "e71e3e16-40c8-458d-aa44-ebffd92f34a9",
   "metadata": {},
   "outputs": [],
   "source": [
    "petition_by_slug = {\n",
    "    p._source__slug: p for _, p in petitions.iterrows()\n",
    "}"
   ]
  },
  {
   "cell_type": "code",
   "execution_count": 135,
   "id": "5debab44-5fe2-4ef1-ae66-6bf7b4baa7b7",
   "metadata": {},
   "outputs": [],
   "source": [
    "comments = comments[comments['status_manual'] == 'against']\n",
    "comments = comments.sort_values(by=['status_manual', 'commentable_entity.slug', 'created_at'],\n",
    "                                       ascending=[True, True, False])"
   ]
  },
  {
   "cell_type": "code",
   "execution_count": 136,
   "id": "be1cf24b-be36-49b6-9b4d-e655c240e2b7",
   "metadata": {},
   "outputs": [],
   "source": [
    "def comment_to_html(comment):\n",
    "    # petition = petition_by_slug.get(comment['commentable_entity.slug'], {})\n",
    "    nl = \"\\n\"\n",
    "    # petition.get('_source__ask')\n",
    "    html = f\"\"\"\n",
    "    <p>\n",
    "    <b>{comment['user.display_name']}</b> from\n",
    "        <b>{comment['user.country_code']}</b> {comment['user.state_code']} on <b>{comment.created_at}</b> ({comment.likes} likes):\n",
    "    <blockquote>{comment.comment.replace(nl, '<br />')}</blockquote>\n",
    "    </p>\n",
    "    \"\"\"\n",
    "    return html"
   ]
  },
  {
   "cell_type": "code",
   "execution_count": 137,
   "id": "0c448416-7890-4f6a-8094-503fb7c9eb56",
   "metadata": {},
   "outputs": [
    {
     "data": {
      "text/html": [
       "\n",
       "    <p>\n",
       "    <b>Richard Brooks</b> from\n",
       "        <b>CA</b> nan on <b>2021-07-20T19:42:46Z</b> (0 likes):\n",
       "    <blockquote>I'm signing this because the Sun had no right treating Johnny Depp the way they did that's defamation of character and they deserve whatever they get Johnny Depp needs Justice for what he's going through with the lies and the manipulation from his ex-wife and the hurt and the physical pain that he's had to endure he's the victim and yet everybody's treating her with kid gloves domestic violence has no gender people will be well to remember that</blockquote>\n",
       "    </p>\n",
       "    "
      ],
      "text/plain": [
       "<IPython.core.display.HTML object>"
      ]
     },
     "metadata": {},
     "output_type": "display_data"
    }
   ],
   "source": [
    "display(HTML(comment_to_html(comments.iloc[0])))"
   ]
  },
  {
   "cell_type": "code",
   "execution_count": 138,
   "id": "43bc4aca-465a-493b-8325-a334d703e2cc",
   "metadata": {},
   "outputs": [
    {
     "data": {
      "application/vnd.jupyter.widget-view+json": {
       "model_id": "3f18126426154e27af2d1c62d72bf71e",
       "version_major": 2,
       "version_minor": 0
      },
      "text/plain": [
       "  0%|          | 0/160 [00:00<?, ?it/s]"
      ]
     },
     "metadata": {},
     "output_type": "display_data"
    },
    {
     "data": {
      "application/vnd.jupyter.widget-view+json": {
       "model_id": "",
       "version_major": 2,
       "version_minor": 0
      },
      "text/plain": [
       "0it [00:00, ?it/s]"
      ]
     },
     "metadata": {},
     "output_type": "display_data"
    },
    {
     "data": {
      "application/vnd.jupyter.widget-view+json": {
       "model_id": "",
       "version_major": 2,
       "version_minor": 0
      },
      "text/plain": [
       "0it [00:00, ?it/s]"
      ]
     },
     "metadata": {},
     "output_type": "display_data"
    },
    {
     "data": {
      "application/vnd.jupyter.widget-view+json": {
       "model_id": "",
       "version_major": 2,
       "version_minor": 0
      },
      "text/plain": [
       "0it [00:00, ?it/s]"
      ]
     },
     "metadata": {},
     "output_type": "display_data"
    },
    {
     "data": {
      "application/vnd.jupyter.widget-view+json": {
       "model_id": "",
       "version_major": 2,
       "version_minor": 0
      },
      "text/plain": [
       "0it [00:00, ?it/s]"
      ]
     },
     "metadata": {},
     "output_type": "display_data"
    },
    {
     "data": {
      "application/vnd.jupyter.widget-view+json": {
       "model_id": "",
       "version_major": 2,
       "version_minor": 0
      },
      "text/plain": [
       "0it [00:00, ?it/s]"
      ]
     },
     "metadata": {},
     "output_type": "display_data"
    },
    {
     "data": {
      "application/vnd.jupyter.widget-view+json": {
       "model_id": "",
       "version_major": 2,
       "version_minor": 0
      },
      "text/plain": [
       "0it [00:00, ?it/s]"
      ]
     },
     "metadata": {},
     "output_type": "display_data"
    },
    {
     "data": {
      "application/vnd.jupyter.widget-view+json": {
       "model_id": "",
       "version_major": 2,
       "version_minor": 0
      },
      "text/plain": [
       "0it [00:00, ?it/s]"
      ]
     },
     "metadata": {},
     "output_type": "display_data"
    },
    {
     "data": {
      "application/vnd.jupyter.widget-view+json": {
       "model_id": "",
       "version_major": 2,
       "version_minor": 0
      },
      "text/plain": [
       "0it [00:00, ?it/s]"
      ]
     },
     "metadata": {},
     "output_type": "display_data"
    },
    {
     "data": {
      "application/vnd.jupyter.widget-view+json": {
       "model_id": "",
       "version_major": 2,
       "version_minor": 0
      },
      "text/plain": [
       "0it [00:00, ?it/s]"
      ]
     },
     "metadata": {},
     "output_type": "display_data"
    },
    {
     "data": {
      "application/vnd.jupyter.widget-view+json": {
       "model_id": "",
       "version_major": 2,
       "version_minor": 0
      },
      "text/plain": [
       "0it [00:00, ?it/s]"
      ]
     },
     "metadata": {},
     "output_type": "display_data"
    },
    {
     "data": {
      "application/vnd.jupyter.widget-view+json": {
       "model_id": "",
       "version_major": 2,
       "version_minor": 0
      },
      "text/plain": [
       "0it [00:00, ?it/s]"
      ]
     },
     "metadata": {},
     "output_type": "display_data"
    },
    {
     "data": {
      "application/vnd.jupyter.widget-view+json": {
       "model_id": "",
       "version_major": 2,
       "version_minor": 0
      },
      "text/plain": [
       "0it [00:00, ?it/s]"
      ]
     },
     "metadata": {},
     "output_type": "display_data"
    },
    {
     "data": {
      "application/vnd.jupyter.widget-view+json": {
       "model_id": "",
       "version_major": 2,
       "version_minor": 0
      },
      "text/plain": [
       "0it [00:00, ?it/s]"
      ]
     },
     "metadata": {},
     "output_type": "display_data"
    },
    {
     "data": {
      "application/vnd.jupyter.widget-view+json": {
       "model_id": "",
       "version_major": 2,
       "version_minor": 0
      },
      "text/plain": [
       "0it [00:00, ?it/s]"
      ]
     },
     "metadata": {},
     "output_type": "display_data"
    },
    {
     "data": {
      "application/vnd.jupyter.widget-view+json": {
       "model_id": "",
       "version_major": 2,
       "version_minor": 0
      },
      "text/plain": [
       "0it [00:00, ?it/s]"
      ]
     },
     "metadata": {},
     "output_type": "display_data"
    },
    {
     "data": {
      "application/vnd.jupyter.widget-view+json": {
       "model_id": "",
       "version_major": 2,
       "version_minor": 0
      },
      "text/plain": [
       "0it [00:00, ?it/s]"
      ]
     },
     "metadata": {},
     "output_type": "display_data"
    },
    {
     "data": {
      "application/vnd.jupyter.widget-view+json": {
       "model_id": "",
       "version_major": 2,
       "version_minor": 0
      },
      "text/plain": [
       "0it [00:00, ?it/s]"
      ]
     },
     "metadata": {},
     "output_type": "display_data"
    },
    {
     "data": {
      "application/vnd.jupyter.widget-view+json": {
       "model_id": "",
       "version_major": 2,
       "version_minor": 0
      },
      "text/plain": [
       "0it [00:00, ?it/s]"
      ]
     },
     "metadata": {},
     "output_type": "display_data"
    },
    {
     "data": {
      "application/vnd.jupyter.widget-view+json": {
       "model_id": "",
       "version_major": 2,
       "version_minor": 0
      },
      "text/plain": [
       "0it [00:00, ?it/s]"
      ]
     },
     "metadata": {},
     "output_type": "display_data"
    },
    {
     "data": {
      "application/vnd.jupyter.widget-view+json": {
       "model_id": "",
       "version_major": 2,
       "version_minor": 0
      },
      "text/plain": [
       "0it [00:00, ?it/s]"
      ]
     },
     "metadata": {},
     "output_type": "display_data"
    },
    {
     "data": {
      "application/vnd.jupyter.widget-view+json": {
       "model_id": "",
       "version_major": 2,
       "version_minor": 0
      },
      "text/plain": [
       "0it [00:00, ?it/s]"
      ]
     },
     "metadata": {},
     "output_type": "display_data"
    },
    {
     "data": {
      "application/vnd.jupyter.widget-view+json": {
       "model_id": "",
       "version_major": 2,
       "version_minor": 0
      },
      "text/plain": [
       "0it [00:00, ?it/s]"
      ]
     },
     "metadata": {},
     "output_type": "display_data"
    },
    {
     "data": {
      "application/vnd.jupyter.widget-view+json": {
       "model_id": "",
       "version_major": 2,
       "version_minor": 0
      },
      "text/plain": [
       "0it [00:00, ?it/s]"
      ]
     },
     "metadata": {},
     "output_type": "display_data"
    },
    {
     "data": {
      "application/vnd.jupyter.widget-view+json": {
       "model_id": "",
       "version_major": 2,
       "version_minor": 0
      },
      "text/plain": [
       "0it [00:00, ?it/s]"
      ]
     },
     "metadata": {},
     "output_type": "display_data"
    },
    {
     "data": {
      "application/vnd.jupyter.widget-view+json": {
       "model_id": "",
       "version_major": 2,
       "version_minor": 0
      },
      "text/plain": [
       "0it [00:00, ?it/s]"
      ]
     },
     "metadata": {},
     "output_type": "display_data"
    },
    {
     "data": {
      "application/vnd.jupyter.widget-view+json": {
       "model_id": "",
       "version_major": 2,
       "version_minor": 0
      },
      "text/plain": [
       "0it [00:00, ?it/s]"
      ]
     },
     "metadata": {},
     "output_type": "display_data"
    },
    {
     "data": {
      "application/vnd.jupyter.widget-view+json": {
       "model_id": "",
       "version_major": 2,
       "version_minor": 0
      },
      "text/plain": [
       "0it [00:00, ?it/s]"
      ]
     },
     "metadata": {},
     "output_type": "display_data"
    },
    {
     "data": {
      "application/vnd.jupyter.widget-view+json": {
       "model_id": "",
       "version_major": 2,
       "version_minor": 0
      },
      "text/plain": [
       "0it [00:00, ?it/s]"
      ]
     },
     "metadata": {},
     "output_type": "display_data"
    },
    {
     "data": {
      "application/vnd.jupyter.widget-view+json": {
       "model_id": "",
       "version_major": 2,
       "version_minor": 0
      },
      "text/plain": [
       "0it [00:00, ?it/s]"
      ]
     },
     "metadata": {},
     "output_type": "display_data"
    },
    {
     "data": {
      "application/vnd.jupyter.widget-view+json": {
       "model_id": "",
       "version_major": 2,
       "version_minor": 0
      },
      "text/plain": [
       "0it [00:00, ?it/s]"
      ]
     },
     "metadata": {},
     "output_type": "display_data"
    },
    {
     "data": {
      "application/vnd.jupyter.widget-view+json": {
       "model_id": "",
       "version_major": 2,
       "version_minor": 0
      },
      "text/plain": [
       "0it [00:00, ?it/s]"
      ]
     },
     "metadata": {},
     "output_type": "display_data"
    },
    {
     "data": {
      "application/vnd.jupyter.widget-view+json": {
       "model_id": "",
       "version_major": 2,
       "version_minor": 0
      },
      "text/plain": [
       "0it [00:00, ?it/s]"
      ]
     },
     "metadata": {},
     "output_type": "display_data"
    },
    {
     "data": {
      "application/vnd.jupyter.widget-view+json": {
       "model_id": "",
       "version_major": 2,
       "version_minor": 0
      },
      "text/plain": [
       "0it [00:00, ?it/s]"
      ]
     },
     "metadata": {},
     "output_type": "display_data"
    },
    {
     "data": {
      "application/vnd.jupyter.widget-view+json": {
       "model_id": "",
       "version_major": 2,
       "version_minor": 0
      },
      "text/plain": [
       "0it [00:00, ?it/s]"
      ]
     },
     "metadata": {},
     "output_type": "display_data"
    },
    {
     "data": {
      "application/vnd.jupyter.widget-view+json": {
       "model_id": "",
       "version_major": 2,
       "version_minor": 0
      },
      "text/plain": [
       "0it [00:00, ?it/s]"
      ]
     },
     "metadata": {},
     "output_type": "display_data"
    },
    {
     "data": {
      "application/vnd.jupyter.widget-view+json": {
       "model_id": "",
       "version_major": 2,
       "version_minor": 0
      },
      "text/plain": [
       "0it [00:00, ?it/s]"
      ]
     },
     "metadata": {},
     "output_type": "display_data"
    },
    {
     "data": {
      "application/vnd.jupyter.widget-view+json": {
       "model_id": "",
       "version_major": 2,
       "version_minor": 0
      },
      "text/plain": [
       "0it [00:00, ?it/s]"
      ]
     },
     "metadata": {},
     "output_type": "display_data"
    },
    {
     "data": {
      "application/vnd.jupyter.widget-view+json": {
       "model_id": "",
       "version_major": 2,
       "version_minor": 0
      },
      "text/plain": [
       "0it [00:00, ?it/s]"
      ]
     },
     "metadata": {},
     "output_type": "display_data"
    },
    {
     "data": {
      "application/vnd.jupyter.widget-view+json": {
       "model_id": "",
       "version_major": 2,
       "version_minor": 0
      },
      "text/plain": [
       "0it [00:00, ?it/s]"
      ]
     },
     "metadata": {},
     "output_type": "display_data"
    },
    {
     "data": {
      "application/vnd.jupyter.widget-view+json": {
       "model_id": "",
       "version_major": 2,
       "version_minor": 0
      },
      "text/plain": [
       "0it [00:00, ?it/s]"
      ]
     },
     "metadata": {},
     "output_type": "display_data"
    },
    {
     "data": {
      "application/vnd.jupyter.widget-view+json": {
       "model_id": "",
       "version_major": 2,
       "version_minor": 0
      },
      "text/plain": [
       "0it [00:00, ?it/s]"
      ]
     },
     "metadata": {},
     "output_type": "display_data"
    },
    {
     "data": {
      "application/vnd.jupyter.widget-view+json": {
       "model_id": "",
       "version_major": 2,
       "version_minor": 0
      },
      "text/plain": [
       "0it [00:00, ?it/s]"
      ]
     },
     "metadata": {},
     "output_type": "display_data"
    },
    {
     "data": {
      "application/vnd.jupyter.widget-view+json": {
       "model_id": "",
       "version_major": 2,
       "version_minor": 0
      },
      "text/plain": [
       "0it [00:00, ?it/s]"
      ]
     },
     "metadata": {},
     "output_type": "display_data"
    },
    {
     "data": {
      "application/vnd.jupyter.widget-view+json": {
       "model_id": "",
       "version_major": 2,
       "version_minor": 0
      },
      "text/plain": [
       "0it [00:00, ?it/s]"
      ]
     },
     "metadata": {},
     "output_type": "display_data"
    },
    {
     "data": {
      "application/vnd.jupyter.widget-view+json": {
       "model_id": "",
       "version_major": 2,
       "version_minor": 0
      },
      "text/plain": [
       "0it [00:00, ?it/s]"
      ]
     },
     "metadata": {},
     "output_type": "display_data"
    },
    {
     "data": {
      "application/vnd.jupyter.widget-view+json": {
       "model_id": "",
       "version_major": 2,
       "version_minor": 0
      },
      "text/plain": [
       "0it [00:00, ?it/s]"
      ]
     },
     "metadata": {},
     "output_type": "display_data"
    },
    {
     "data": {
      "application/vnd.jupyter.widget-view+json": {
       "model_id": "",
       "version_major": 2,
       "version_minor": 0
      },
      "text/plain": [
       "0it [00:00, ?it/s]"
      ]
     },
     "metadata": {},
     "output_type": "display_data"
    },
    {
     "data": {
      "application/vnd.jupyter.widget-view+json": {
       "model_id": "",
       "version_major": 2,
       "version_minor": 0
      },
      "text/plain": [
       "0it [00:00, ?it/s]"
      ]
     },
     "metadata": {},
     "output_type": "display_data"
    },
    {
     "data": {
      "application/vnd.jupyter.widget-view+json": {
       "model_id": "",
       "version_major": 2,
       "version_minor": 0
      },
      "text/plain": [
       "0it [00:00, ?it/s]"
      ]
     },
     "metadata": {},
     "output_type": "display_data"
    },
    {
     "data": {
      "application/vnd.jupyter.widget-view+json": {
       "model_id": "",
       "version_major": 2,
       "version_minor": 0
      },
      "text/plain": [
       "0it [00:00, ?it/s]"
      ]
     },
     "metadata": {},
     "output_type": "display_data"
    },
    {
     "data": {
      "application/vnd.jupyter.widget-view+json": {
       "model_id": "",
       "version_major": 2,
       "version_minor": 0
      },
      "text/plain": [
       "0it [00:00, ?it/s]"
      ]
     },
     "metadata": {},
     "output_type": "display_data"
    },
    {
     "data": {
      "application/vnd.jupyter.widget-view+json": {
       "model_id": "",
       "version_major": 2,
       "version_minor": 0
      },
      "text/plain": [
       "0it [00:00, ?it/s]"
      ]
     },
     "metadata": {},
     "output_type": "display_data"
    },
    {
     "data": {
      "application/vnd.jupyter.widget-view+json": {
       "model_id": "",
       "version_major": 2,
       "version_minor": 0
      },
      "text/plain": [
       "0it [00:00, ?it/s]"
      ]
     },
     "metadata": {},
     "output_type": "display_data"
    },
    {
     "data": {
      "application/vnd.jupyter.widget-view+json": {
       "model_id": "",
       "version_major": 2,
       "version_minor": 0
      },
      "text/plain": [
       "0it [00:00, ?it/s]"
      ]
     },
     "metadata": {},
     "output_type": "display_data"
    },
    {
     "data": {
      "application/vnd.jupyter.widget-view+json": {
       "model_id": "",
       "version_major": 2,
       "version_minor": 0
      },
      "text/plain": [
       "0it [00:00, ?it/s]"
      ]
     },
     "metadata": {},
     "output_type": "display_data"
    },
    {
     "data": {
      "application/vnd.jupyter.widget-view+json": {
       "model_id": "",
       "version_major": 2,
       "version_minor": 0
      },
      "text/plain": [
       "0it [00:00, ?it/s]"
      ]
     },
     "metadata": {},
     "output_type": "display_data"
    },
    {
     "data": {
      "application/vnd.jupyter.widget-view+json": {
       "model_id": "",
       "version_major": 2,
       "version_minor": 0
      },
      "text/plain": [
       "0it [00:00, ?it/s]"
      ]
     },
     "metadata": {},
     "output_type": "display_data"
    },
    {
     "data": {
      "application/vnd.jupyter.widget-view+json": {
       "model_id": "",
       "version_major": 2,
       "version_minor": 0
      },
      "text/plain": [
       "0it [00:00, ?it/s]"
      ]
     },
     "metadata": {},
     "output_type": "display_data"
    },
    {
     "data": {
      "application/vnd.jupyter.widget-view+json": {
       "model_id": "",
       "version_major": 2,
       "version_minor": 0
      },
      "text/plain": [
       "0it [00:00, ?it/s]"
      ]
     },
     "metadata": {},
     "output_type": "display_data"
    },
    {
     "data": {
      "application/vnd.jupyter.widget-view+json": {
       "model_id": "",
       "version_major": 2,
       "version_minor": 0
      },
      "text/plain": [
       "0it [00:00, ?it/s]"
      ]
     },
     "metadata": {},
     "output_type": "display_data"
    },
    {
     "data": {
      "application/vnd.jupyter.widget-view+json": {
       "model_id": "",
       "version_major": 2,
       "version_minor": 0
      },
      "text/plain": [
       "0it [00:00, ?it/s]"
      ]
     },
     "metadata": {},
     "output_type": "display_data"
    },
    {
     "data": {
      "application/vnd.jupyter.widget-view+json": {
       "model_id": "",
       "version_major": 2,
       "version_minor": 0
      },
      "text/plain": [
       "0it [00:00, ?it/s]"
      ]
     },
     "metadata": {},
     "output_type": "display_data"
    },
    {
     "data": {
      "application/vnd.jupyter.widget-view+json": {
       "model_id": "",
       "version_major": 2,
       "version_minor": 0
      },
      "text/plain": [
       "0it [00:00, ?it/s]"
      ]
     },
     "metadata": {},
     "output_type": "display_data"
    },
    {
     "data": {
      "application/vnd.jupyter.widget-view+json": {
       "model_id": "",
       "version_major": 2,
       "version_minor": 0
      },
      "text/plain": [
       "0it [00:00, ?it/s]"
      ]
     },
     "metadata": {},
     "output_type": "display_data"
    },
    {
     "data": {
      "application/vnd.jupyter.widget-view+json": {
       "model_id": "",
       "version_major": 2,
       "version_minor": 0
      },
      "text/plain": [
       "0it [00:00, ?it/s]"
      ]
     },
     "metadata": {},
     "output_type": "display_data"
    },
    {
     "data": {
      "application/vnd.jupyter.widget-view+json": {
       "model_id": "",
       "version_major": 2,
       "version_minor": 0
      },
      "text/plain": [
       "0it [00:00, ?it/s]"
      ]
     },
     "metadata": {},
     "output_type": "display_data"
    },
    {
     "data": {
      "application/vnd.jupyter.widget-view+json": {
       "model_id": "",
       "version_major": 2,
       "version_minor": 0
      },
      "text/plain": [
       "0it [00:00, ?it/s]"
      ]
     },
     "metadata": {},
     "output_type": "display_data"
    },
    {
     "data": {
      "application/vnd.jupyter.widget-view+json": {
       "model_id": "",
       "version_major": 2,
       "version_minor": 0
      },
      "text/plain": [
       "0it [00:00, ?it/s]"
      ]
     },
     "metadata": {},
     "output_type": "display_data"
    },
    {
     "data": {
      "application/vnd.jupyter.widget-view+json": {
       "model_id": "",
       "version_major": 2,
       "version_minor": 0
      },
      "text/plain": [
       "0it [00:00, ?it/s]"
      ]
     },
     "metadata": {},
     "output_type": "display_data"
    },
    {
     "data": {
      "application/vnd.jupyter.widget-view+json": {
       "model_id": "",
       "version_major": 2,
       "version_minor": 0
      },
      "text/plain": [
       "0it [00:00, ?it/s]"
      ]
     },
     "metadata": {},
     "output_type": "display_data"
    },
    {
     "data": {
      "application/vnd.jupyter.widget-view+json": {
       "model_id": "",
       "version_major": 2,
       "version_minor": 0
      },
      "text/plain": [
       "0it [00:00, ?it/s]"
      ]
     },
     "metadata": {},
     "output_type": "display_data"
    },
    {
     "data": {
      "application/vnd.jupyter.widget-view+json": {
       "model_id": "",
       "version_major": 2,
       "version_minor": 0
      },
      "text/plain": [
       "0it [00:00, ?it/s]"
      ]
     },
     "metadata": {},
     "output_type": "display_data"
    },
    {
     "data": {
      "application/vnd.jupyter.widget-view+json": {
       "model_id": "",
       "version_major": 2,
       "version_minor": 0
      },
      "text/plain": [
       "0it [00:00, ?it/s]"
      ]
     },
     "metadata": {},
     "output_type": "display_data"
    },
    {
     "data": {
      "application/vnd.jupyter.widget-view+json": {
       "model_id": "",
       "version_major": 2,
       "version_minor": 0
      },
      "text/plain": [
       "0it [00:00, ?it/s]"
      ]
     },
     "metadata": {},
     "output_type": "display_data"
    },
    {
     "data": {
      "application/vnd.jupyter.widget-view+json": {
       "model_id": "",
       "version_major": 2,
       "version_minor": 0
      },
      "text/plain": [
       "0it [00:00, ?it/s]"
      ]
     },
     "metadata": {},
     "output_type": "display_data"
    },
    {
     "data": {
      "application/vnd.jupyter.widget-view+json": {
       "model_id": "",
       "version_major": 2,
       "version_minor": 0
      },
      "text/plain": [
       "0it [00:00, ?it/s]"
      ]
     },
     "metadata": {},
     "output_type": "display_data"
    },
    {
     "data": {
      "application/vnd.jupyter.widget-view+json": {
       "model_id": "",
       "version_major": 2,
       "version_minor": 0
      },
      "text/plain": [
       "0it [00:00, ?it/s]"
      ]
     },
     "metadata": {},
     "output_type": "display_data"
    },
    {
     "data": {
      "application/vnd.jupyter.widget-view+json": {
       "model_id": "",
       "version_major": 2,
       "version_minor": 0
      },
      "text/plain": [
       "0it [00:00, ?it/s]"
      ]
     },
     "metadata": {},
     "output_type": "display_data"
    },
    {
     "data": {
      "application/vnd.jupyter.widget-view+json": {
       "model_id": "",
       "version_major": 2,
       "version_minor": 0
      },
      "text/plain": [
       "0it [00:00, ?it/s]"
      ]
     },
     "metadata": {},
     "output_type": "display_data"
    },
    {
     "data": {
      "application/vnd.jupyter.widget-view+json": {
       "model_id": "",
       "version_major": 2,
       "version_minor": 0
      },
      "text/plain": [
       "0it [00:00, ?it/s]"
      ]
     },
     "metadata": {},
     "output_type": "display_data"
    },
    {
     "data": {
      "application/vnd.jupyter.widget-view+json": {
       "model_id": "",
       "version_major": 2,
       "version_minor": 0
      },
      "text/plain": [
       "0it [00:00, ?it/s]"
      ]
     },
     "metadata": {},
     "output_type": "display_data"
    },
    {
     "data": {
      "application/vnd.jupyter.widget-view+json": {
       "model_id": "",
       "version_major": 2,
       "version_minor": 0
      },
      "text/plain": [
       "0it [00:00, ?it/s]"
      ]
     },
     "metadata": {},
     "output_type": "display_data"
    },
    {
     "data": {
      "application/vnd.jupyter.widget-view+json": {
       "model_id": "",
       "version_major": 2,
       "version_minor": 0
      },
      "text/plain": [
       "0it [00:00, ?it/s]"
      ]
     },
     "metadata": {},
     "output_type": "display_data"
    },
    {
     "data": {
      "application/vnd.jupyter.widget-view+json": {
       "model_id": "",
       "version_major": 2,
       "version_minor": 0
      },
      "text/plain": [
       "0it [00:00, ?it/s]"
      ]
     },
     "metadata": {},
     "output_type": "display_data"
    },
    {
     "data": {
      "application/vnd.jupyter.widget-view+json": {
       "model_id": "",
       "version_major": 2,
       "version_minor": 0
      },
      "text/plain": [
       "0it [00:00, ?it/s]"
      ]
     },
     "metadata": {},
     "output_type": "display_data"
    },
    {
     "data": {
      "application/vnd.jupyter.widget-view+json": {
       "model_id": "",
       "version_major": 2,
       "version_minor": 0
      },
      "text/plain": [
       "0it [00:00, ?it/s]"
      ]
     },
     "metadata": {},
     "output_type": "display_data"
    },
    {
     "data": {
      "application/vnd.jupyter.widget-view+json": {
       "model_id": "",
       "version_major": 2,
       "version_minor": 0
      },
      "text/plain": [
       "0it [00:00, ?it/s]"
      ]
     },
     "metadata": {},
     "output_type": "display_data"
    },
    {
     "data": {
      "application/vnd.jupyter.widget-view+json": {
       "model_id": "",
       "version_major": 2,
       "version_minor": 0
      },
      "text/plain": [
       "0it [00:00, ?it/s]"
      ]
     },
     "metadata": {},
     "output_type": "display_data"
    },
    {
     "data": {
      "application/vnd.jupyter.widget-view+json": {
       "model_id": "",
       "version_major": 2,
       "version_minor": 0
      },
      "text/plain": [
       "0it [00:00, ?it/s]"
      ]
     },
     "metadata": {},
     "output_type": "display_data"
    },
    {
     "data": {
      "application/vnd.jupyter.widget-view+json": {
       "model_id": "",
       "version_major": 2,
       "version_minor": 0
      },
      "text/plain": [
       "0it [00:00, ?it/s]"
      ]
     },
     "metadata": {},
     "output_type": "display_data"
    },
    {
     "data": {
      "application/vnd.jupyter.widget-view+json": {
       "model_id": "",
       "version_major": 2,
       "version_minor": 0
      },
      "text/plain": [
       "0it [00:00, ?it/s]"
      ]
     },
     "metadata": {},
     "output_type": "display_data"
    },
    {
     "data": {
      "application/vnd.jupyter.widget-view+json": {
       "model_id": "",
       "version_major": 2,
       "version_minor": 0
      },
      "text/plain": [
       "0it [00:00, ?it/s]"
      ]
     },
     "metadata": {},
     "output_type": "display_data"
    },
    {
     "data": {
      "application/vnd.jupyter.widget-view+json": {
       "model_id": "",
       "version_major": 2,
       "version_minor": 0
      },
      "text/plain": [
       "0it [00:00, ?it/s]"
      ]
     },
     "metadata": {},
     "output_type": "display_data"
    },
    {
     "data": {
      "application/vnd.jupyter.widget-view+json": {
       "model_id": "",
       "version_major": 2,
       "version_minor": 0
      },
      "text/plain": [
       "0it [00:00, ?it/s]"
      ]
     },
     "metadata": {},
     "output_type": "display_data"
    },
    {
     "data": {
      "application/vnd.jupyter.widget-view+json": {
       "model_id": "",
       "version_major": 2,
       "version_minor": 0
      },
      "text/plain": [
       "0it [00:00, ?it/s]"
      ]
     },
     "metadata": {},
     "output_type": "display_data"
    },
    {
     "data": {
      "application/vnd.jupyter.widget-view+json": {
       "model_id": "",
       "version_major": 2,
       "version_minor": 0
      },
      "text/plain": [
       "0it [00:00, ?it/s]"
      ]
     },
     "metadata": {},
     "output_type": "display_data"
    },
    {
     "data": {
      "application/vnd.jupyter.widget-view+json": {
       "model_id": "",
       "version_major": 2,
       "version_minor": 0
      },
      "text/plain": [
       "0it [00:00, ?it/s]"
      ]
     },
     "metadata": {},
     "output_type": "display_data"
    },
    {
     "data": {
      "application/vnd.jupyter.widget-view+json": {
       "model_id": "",
       "version_major": 2,
       "version_minor": 0
      },
      "text/plain": [
       "0it [00:00, ?it/s]"
      ]
     },
     "metadata": {},
     "output_type": "display_data"
    },
    {
     "data": {
      "application/vnd.jupyter.widget-view+json": {
       "model_id": "",
       "version_major": 2,
       "version_minor": 0
      },
      "text/plain": [
       "0it [00:00, ?it/s]"
      ]
     },
     "metadata": {},
     "output_type": "display_data"
    },
    {
     "data": {
      "application/vnd.jupyter.widget-view+json": {
       "model_id": "",
       "version_major": 2,
       "version_minor": 0
      },
      "text/plain": [
       "0it [00:00, ?it/s]"
      ]
     },
     "metadata": {},
     "output_type": "display_data"
    },
    {
     "data": {
      "application/vnd.jupyter.widget-view+json": {
       "model_id": "",
       "version_major": 2,
       "version_minor": 0
      },
      "text/plain": [
       "0it [00:00, ?it/s]"
      ]
     },
     "metadata": {},
     "output_type": "display_data"
    },
    {
     "data": {
      "application/vnd.jupyter.widget-view+json": {
       "model_id": "",
       "version_major": 2,
       "version_minor": 0
      },
      "text/plain": [
       "0it [00:00, ?it/s]"
      ]
     },
     "metadata": {},
     "output_type": "display_data"
    },
    {
     "data": {
      "application/vnd.jupyter.widget-view+json": {
       "model_id": "",
       "version_major": 2,
       "version_minor": 0
      },
      "text/plain": [
       "0it [00:00, ?it/s]"
      ]
     },
     "metadata": {},
     "output_type": "display_data"
    },
    {
     "data": {
      "application/vnd.jupyter.widget-view+json": {
       "model_id": "",
       "version_major": 2,
       "version_minor": 0
      },
      "text/plain": [
       "0it [00:00, ?it/s]"
      ]
     },
     "metadata": {},
     "output_type": "display_data"
    },
    {
     "data": {
      "application/vnd.jupyter.widget-view+json": {
       "model_id": "",
       "version_major": 2,
       "version_minor": 0
      },
      "text/plain": [
       "0it [00:00, ?it/s]"
      ]
     },
     "metadata": {},
     "output_type": "display_data"
    },
    {
     "data": {
      "application/vnd.jupyter.widget-view+json": {
       "model_id": "",
       "version_major": 2,
       "version_minor": 0
      },
      "text/plain": [
       "0it [00:00, ?it/s]"
      ]
     },
     "metadata": {},
     "output_type": "display_data"
    },
    {
     "data": {
      "application/vnd.jupyter.widget-view+json": {
       "model_id": "",
       "version_major": 2,
       "version_minor": 0
      },
      "text/plain": [
       "0it [00:00, ?it/s]"
      ]
     },
     "metadata": {},
     "output_type": "display_data"
    },
    {
     "data": {
      "application/vnd.jupyter.widget-view+json": {
       "model_id": "",
       "version_major": 2,
       "version_minor": 0
      },
      "text/plain": [
       "0it [00:00, ?it/s]"
      ]
     },
     "metadata": {},
     "output_type": "display_data"
    },
    {
     "data": {
      "application/vnd.jupyter.widget-view+json": {
       "model_id": "",
       "version_major": 2,
       "version_minor": 0
      },
      "text/plain": [
       "0it [00:00, ?it/s]"
      ]
     },
     "metadata": {},
     "output_type": "display_data"
    },
    {
     "data": {
      "application/vnd.jupyter.widget-view+json": {
       "model_id": "",
       "version_major": 2,
       "version_minor": 0
      },
      "text/plain": [
       "0it [00:00, ?it/s]"
      ]
     },
     "metadata": {},
     "output_type": "display_data"
    },
    {
     "data": {
      "application/vnd.jupyter.widget-view+json": {
       "model_id": "",
       "version_major": 2,
       "version_minor": 0
      },
      "text/plain": [
       "0it [00:00, ?it/s]"
      ]
     },
     "metadata": {},
     "output_type": "display_data"
    },
    {
     "data": {
      "application/vnd.jupyter.widget-view+json": {
       "model_id": "",
       "version_major": 2,
       "version_minor": 0
      },
      "text/plain": [
       "0it [00:00, ?it/s]"
      ]
     },
     "metadata": {},
     "output_type": "display_data"
    },
    {
     "data": {
      "application/vnd.jupyter.widget-view+json": {
       "model_id": "",
       "version_major": 2,
       "version_minor": 0
      },
      "text/plain": [
       "0it [00:00, ?it/s]"
      ]
     },
     "metadata": {},
     "output_type": "display_data"
    },
    {
     "data": {
      "application/vnd.jupyter.widget-view+json": {
       "model_id": "",
       "version_major": 2,
       "version_minor": 0
      },
      "text/plain": [
       "0it [00:00, ?it/s]"
      ]
     },
     "metadata": {},
     "output_type": "display_data"
    },
    {
     "data": {
      "application/vnd.jupyter.widget-view+json": {
       "model_id": "",
       "version_major": 2,
       "version_minor": 0
      },
      "text/plain": [
       "0it [00:00, ?it/s]"
      ]
     },
     "metadata": {},
     "output_type": "display_data"
    },
    {
     "data": {
      "application/vnd.jupyter.widget-view+json": {
       "model_id": "",
       "version_major": 2,
       "version_minor": 0
      },
      "text/plain": [
       "0it [00:00, ?it/s]"
      ]
     },
     "metadata": {},
     "output_type": "display_data"
    },
    {
     "data": {
      "application/vnd.jupyter.widget-view+json": {
       "model_id": "",
       "version_major": 2,
       "version_minor": 0
      },
      "text/plain": [
       "0it [00:00, ?it/s]"
      ]
     },
     "metadata": {},
     "output_type": "display_data"
    },
    {
     "data": {
      "application/vnd.jupyter.widget-view+json": {
       "model_id": "",
       "version_major": 2,
       "version_minor": 0
      },
      "text/plain": [
       "0it [00:00, ?it/s]"
      ]
     },
     "metadata": {},
     "output_type": "display_data"
    },
    {
     "data": {
      "application/vnd.jupyter.widget-view+json": {
       "model_id": "",
       "version_major": 2,
       "version_minor": 0
      },
      "text/plain": [
       "0it [00:00, ?it/s]"
      ]
     },
     "metadata": {},
     "output_type": "display_data"
    },
    {
     "data": {
      "application/vnd.jupyter.widget-view+json": {
       "model_id": "",
       "version_major": 2,
       "version_minor": 0
      },
      "text/plain": [
       "0it [00:00, ?it/s]"
      ]
     },
     "metadata": {},
     "output_type": "display_data"
    },
    {
     "data": {
      "application/vnd.jupyter.widget-view+json": {
       "model_id": "",
       "version_major": 2,
       "version_minor": 0
      },
      "text/plain": [
       "0it [00:00, ?it/s]"
      ]
     },
     "metadata": {},
     "output_type": "display_data"
    },
    {
     "data": {
      "application/vnd.jupyter.widget-view+json": {
       "model_id": "",
       "version_major": 2,
       "version_minor": 0
      },
      "text/plain": [
       "0it [00:00, ?it/s]"
      ]
     },
     "metadata": {},
     "output_type": "display_data"
    },
    {
     "data": {
      "application/vnd.jupyter.widget-view+json": {
       "model_id": "",
       "version_major": 2,
       "version_minor": 0
      },
      "text/plain": [
       "0it [00:00, ?it/s]"
      ]
     },
     "metadata": {},
     "output_type": "display_data"
    },
    {
     "data": {
      "application/vnd.jupyter.widget-view+json": {
       "model_id": "",
       "version_major": 2,
       "version_minor": 0
      },
      "text/plain": [
       "0it [00:00, ?it/s]"
      ]
     },
     "metadata": {},
     "output_type": "display_data"
    },
    {
     "data": {
      "application/vnd.jupyter.widget-view+json": {
       "model_id": "",
       "version_major": 2,
       "version_minor": 0
      },
      "text/plain": [
       "0it [00:00, ?it/s]"
      ]
     },
     "metadata": {},
     "output_type": "display_data"
    },
    {
     "data": {
      "application/vnd.jupyter.widget-view+json": {
       "model_id": "",
       "version_major": 2,
       "version_minor": 0
      },
      "text/plain": [
       "0it [00:00, ?it/s]"
      ]
     },
     "metadata": {},
     "output_type": "display_data"
    },
    {
     "data": {
      "application/vnd.jupyter.widget-view+json": {
       "model_id": "",
       "version_major": 2,
       "version_minor": 0
      },
      "text/plain": [
       "0it [00:00, ?it/s]"
      ]
     },
     "metadata": {},
     "output_type": "display_data"
    },
    {
     "data": {
      "application/vnd.jupyter.widget-view+json": {
       "model_id": "",
       "version_major": 2,
       "version_minor": 0
      },
      "text/plain": [
       "0it [00:00, ?it/s]"
      ]
     },
     "metadata": {},
     "output_type": "display_data"
    },
    {
     "data": {
      "application/vnd.jupyter.widget-view+json": {
       "model_id": "",
       "version_major": 2,
       "version_minor": 0
      },
      "text/plain": [
       "0it [00:00, ?it/s]"
      ]
     },
     "metadata": {},
     "output_type": "display_data"
    },
    {
     "data": {
      "application/vnd.jupyter.widget-view+json": {
       "model_id": "",
       "version_major": 2,
       "version_minor": 0
      },
      "text/plain": [
       "0it [00:00, ?it/s]"
      ]
     },
     "metadata": {},
     "output_type": "display_data"
    },
    {
     "data": {
      "application/vnd.jupyter.widget-view+json": {
       "model_id": "",
       "version_major": 2,
       "version_minor": 0
      },
      "text/plain": [
       "0it [00:00, ?it/s]"
      ]
     },
     "metadata": {},
     "output_type": "display_data"
    },
    {
     "data": {
      "application/vnd.jupyter.widget-view+json": {
       "model_id": "",
       "version_major": 2,
       "version_minor": 0
      },
      "text/plain": [
       "0it [00:00, ?it/s]"
      ]
     },
     "metadata": {},
     "output_type": "display_data"
    },
    {
     "data": {
      "application/vnd.jupyter.widget-view+json": {
       "model_id": "",
       "version_major": 2,
       "version_minor": 0
      },
      "text/plain": [
       "0it [00:00, ?it/s]"
      ]
     },
     "metadata": {},
     "output_type": "display_data"
    },
    {
     "data": {
      "application/vnd.jupyter.widget-view+json": {
       "model_id": "",
       "version_major": 2,
       "version_minor": 0
      },
      "text/plain": [
       "0it [00:00, ?it/s]"
      ]
     },
     "metadata": {},
     "output_type": "display_data"
    },
    {
     "data": {
      "application/vnd.jupyter.widget-view+json": {
       "model_id": "",
       "version_major": 2,
       "version_minor": 0
      },
      "text/plain": [
       "0it [00:00, ?it/s]"
      ]
     },
     "metadata": {},
     "output_type": "display_data"
    },
    {
     "data": {
      "application/vnd.jupyter.widget-view+json": {
       "model_id": "",
       "version_major": 2,
       "version_minor": 0
      },
      "text/plain": [
       "0it [00:00, ?it/s]"
      ]
     },
     "metadata": {},
     "output_type": "display_data"
    },
    {
     "data": {
      "application/vnd.jupyter.widget-view+json": {
       "model_id": "",
       "version_major": 2,
       "version_minor": 0
      },
      "text/plain": [
       "0it [00:00, ?it/s]"
      ]
     },
     "metadata": {},
     "output_type": "display_data"
    },
    {
     "data": {
      "application/vnd.jupyter.widget-view+json": {
       "model_id": "",
       "version_major": 2,
       "version_minor": 0
      },
      "text/plain": [
       "0it [00:00, ?it/s]"
      ]
     },
     "metadata": {},
     "output_type": "display_data"
    },
    {
     "data": {
      "application/vnd.jupyter.widget-view+json": {
       "model_id": "",
       "version_major": 2,
       "version_minor": 0
      },
      "text/plain": [
       "0it [00:00, ?it/s]"
      ]
     },
     "metadata": {},
     "output_type": "display_data"
    },
    {
     "data": {
      "application/vnd.jupyter.widget-view+json": {
       "model_id": "",
       "version_major": 2,
       "version_minor": 0
      },
      "text/plain": [
       "0it [00:00, ?it/s]"
      ]
     },
     "metadata": {},
     "output_type": "display_data"
    },
    {
     "data": {
      "application/vnd.jupyter.widget-view+json": {
       "model_id": "",
       "version_major": 2,
       "version_minor": 0
      },
      "text/plain": [
       "0it [00:00, ?it/s]"
      ]
     },
     "metadata": {},
     "output_type": "display_data"
    },
    {
     "data": {
      "application/vnd.jupyter.widget-view+json": {
       "model_id": "",
       "version_major": 2,
       "version_minor": 0
      },
      "text/plain": [
       "0it [00:00, ?it/s]"
      ]
     },
     "metadata": {},
     "output_type": "display_data"
    },
    {
     "data": {
      "application/vnd.jupyter.widget-view+json": {
       "model_id": "",
       "version_major": 2,
       "version_minor": 0
      },
      "text/plain": [
       "0it [00:00, ?it/s]"
      ]
     },
     "metadata": {},
     "output_type": "display_data"
    },
    {
     "data": {
      "application/vnd.jupyter.widget-view+json": {
       "model_id": "",
       "version_major": 2,
       "version_minor": 0
      },
      "text/plain": [
       "0it [00:00, ?it/s]"
      ]
     },
     "metadata": {},
     "output_type": "display_data"
    },
    {
     "data": {
      "application/vnd.jupyter.widget-view+json": {
       "model_id": "",
       "version_major": 2,
       "version_minor": 0
      },
      "text/plain": [
       "0it [00:00, ?it/s]"
      ]
     },
     "metadata": {},
     "output_type": "display_data"
    },
    {
     "data": {
      "application/vnd.jupyter.widget-view+json": {
       "model_id": "",
       "version_major": 2,
       "version_minor": 0
      },
      "text/plain": [
       "0it [00:00, ?it/s]"
      ]
     },
     "metadata": {},
     "output_type": "display_data"
    },
    {
     "data": {
      "application/vnd.jupyter.widget-view+json": {
       "model_id": "",
       "version_major": 2,
       "version_minor": 0
      },
      "text/plain": [
       "0it [00:00, ?it/s]"
      ]
     },
     "metadata": {},
     "output_type": "display_data"
    },
    {
     "data": {
      "application/vnd.jupyter.widget-view+json": {
       "model_id": "",
       "version_major": 2,
       "version_minor": 0
      },
      "text/plain": [
       "0it [00:00, ?it/s]"
      ]
     },
     "metadata": {},
     "output_type": "display_data"
    },
    {
     "data": {
      "application/vnd.jupyter.widget-view+json": {
       "model_id": "",
       "version_major": 2,
       "version_minor": 0
      },
      "text/plain": [
       "0it [00:00, ?it/s]"
      ]
     },
     "metadata": {},
     "output_type": "display_data"
    },
    {
     "data": {
      "application/vnd.jupyter.widget-view+json": {
       "model_id": "",
       "version_major": 2,
       "version_minor": 0
      },
      "text/plain": [
       "0it [00:00, ?it/s]"
      ]
     },
     "metadata": {},
     "output_type": "display_data"
    },
    {
     "data": {
      "application/vnd.jupyter.widget-view+json": {
       "model_id": "",
       "version_major": 2,
       "version_minor": 0
      },
      "text/plain": [
       "0it [00:00, ?it/s]"
      ]
     },
     "metadata": {},
     "output_type": "display_data"
    },
    {
     "data": {
      "application/vnd.jupyter.widget-view+json": {
       "model_id": "",
       "version_major": 2,
       "version_minor": 0
      },
      "text/plain": [
       "0it [00:00, ?it/s]"
      ]
     },
     "metadata": {},
     "output_type": "display_data"
    },
    {
     "data": {
      "application/vnd.jupyter.widget-view+json": {
       "model_id": "",
       "version_major": 2,
       "version_minor": 0
      },
      "text/plain": [
       "0it [00:00, ?it/s]"
      ]
     },
     "metadata": {},
     "output_type": "display_data"
    },
    {
     "data": {
      "application/vnd.jupyter.widget-view+json": {
       "model_id": "",
       "version_major": 2,
       "version_minor": 0
      },
      "text/plain": [
       "0it [00:00, ?it/s]"
      ]
     },
     "metadata": {},
     "output_type": "display_data"
    },
    {
     "data": {
      "application/vnd.jupyter.widget-view+json": {
       "model_id": "",
       "version_major": 2,
       "version_minor": 0
      },
      "text/plain": [
       "0it [00:00, ?it/s]"
      ]
     },
     "metadata": {},
     "output_type": "display_data"
    },
    {
     "data": {
      "application/vnd.jupyter.widget-view+json": {
       "model_id": "",
       "version_major": 2,
       "version_minor": 0
      },
      "text/plain": [
       "0it [00:00, ?it/s]"
      ]
     },
     "metadata": {},
     "output_type": "display_data"
    },
    {
     "data": {
      "application/vnd.jupyter.widget-view+json": {
       "model_id": "",
       "version_major": 2,
       "version_minor": 0
      },
      "text/plain": [
       "0it [00:00, ?it/s]"
      ]
     },
     "metadata": {},
     "output_type": "display_data"
    },
    {
     "data": {
      "application/vnd.jupyter.widget-view+json": {
       "model_id": "",
       "version_major": 2,
       "version_minor": 0
      },
      "text/plain": [
       "0it [00:00, ?it/s]"
      ]
     },
     "metadata": {},
     "output_type": "display_data"
    },
    {
     "data": {
      "application/vnd.jupyter.widget-view+json": {
       "model_id": "",
       "version_major": 2,
       "version_minor": 0
      },
      "text/plain": [
       "0it [00:00, ?it/s]"
      ]
     },
     "metadata": {},
     "output_type": "display_data"
    },
    {
     "data": {
      "application/vnd.jupyter.widget-view+json": {
       "model_id": "",
       "version_major": 2,
       "version_minor": 0
      },
      "text/plain": [
       "0it [00:00, ?it/s]"
      ]
     },
     "metadata": {},
     "output_type": "display_data"
    }
   ],
   "source": [
    "petition_htmls = \"\"\n",
    "for petition_slug, comments_by_p in tqdm(comments.groupby('commentable_entity.slug')):\n",
    "    slug = petition_slug\n",
    "    petition = petition_by_slug.get(slug, {})\n",
    "    htmls = [comment_to_html(c) for _, c in tqdm(comments_by_p.iterrows(), leave=False)]\n",
    "    petition_desc = f\"{petition.get('_source__ask', 'N/A')} ({slug}) {petition.get('_source__total_signature_count', '?')} signatures\"\n",
    "    petition_htmls += f\"<center><h4>{petition_desc}</h4></center>{''.join(htmls)}<hr />\""
   ]
  },
  {
   "cell_type": "code",
   "execution_count": 139,
   "id": "05b647ad-59a3-4634-a00c-cc1a0743a12c",
   "metadata": {},
   "outputs": [],
   "source": [
    "all_html = '<html><head><meta charset=\"utf-8\"><title>All comments</title></head><body>'\n",
    "all_html += petition_htmls\n",
    "all_html += '</body></html>'"
   ]
  },
  {
   "cell_type": "code",
   "execution_count": 140,
   "id": "aad96b25-5fc5-4802-947c-e0c8872e4c89",
   "metadata": {},
   "outputs": [],
   "source": [
    "out_html = comments_csv + '.html'\n",
    "with open(out_html, 'w') as f:\n",
    "    f.write(all_html)"
   ]
  },
  {
   "cell_type": "code",
   "execution_count": 141,
   "id": "986fdc13-af62-417f-af82-f20d6305ffb4",
   "metadata": {},
   "outputs": [
    {
     "data": {
      "text/html": [
       "<a href='./data/all_petitions_comments_20211112-095033.csv.html' target='_blank'>./data/all_petitions_comments_20211112-095033.csv.html</a><br>"
      ],
      "text/plain": [
       "/home/sergia/worldie/data/all_petitions_comments_20211112-095033.csv.html"
      ]
     },
     "execution_count": 141,
     "metadata": {},
     "output_type": "execute_result"
    }
   ],
   "source": [
    "FileLink(out_html)"
   ]
  },
  {
   "cell_type": "code",
   "execution_count": 142,
   "id": "17dd840b-5ef0-4210-a151-0304c29e1907",
   "metadata": {},
   "outputs": [
    {
     "name": "stdout",
     "output_type": "stream",
     "text": [
      "Loading page (1/2)\n",
      "Printing pages (2/2)                                               \n",
      "Done                                                           \n"
     ]
    },
    {
     "data": {
      "text/html": [
       "<a href='./data/all_petitions_comments_20211112-095033.csv.html.pdf' target='_blank'>./data/all_petitions_comments_20211112-095033.csv.html.pdf</a><br>"
      ],
      "text/plain": [
       "/home/sergia/worldie/data/all_petitions_comments_20211112-095033.csv.html.pdf"
      ]
     },
     "execution_count": 142,
     "metadata": {},
     "output_type": "execute_result"
    }
   ],
   "source": [
    "out_pdf = out_html + '.pdf'\n",
    "!wkhtmltopdf {out_html} {out_pdf}\n",
    "FileLink(out_pdf)"
   ]
  },
  {
   "cell_type": "code",
   "execution_count": 143,
   "id": "852e3451-7482-4aaf-ba96-52e007cc32a7",
   "metadata": {},
   "outputs": [
    {
     "name": "stdout",
     "output_type": "stream",
     "text": [
      "7.6M\t./data/all_petitions_comments_20211112-095033.csv.html\n",
      "8.5M\t./data/all_petitions_comments_20211112-095033.csv.html.pdf\n",
      "16M\t./data/all_petitions_comments_20211112-095033.csv\n"
     ]
    }
   ],
   "source": [
    "!du -s --si {out_html} {out_pdf} {comments_csv}"
   ]
  },
  {
   "cell_type": "code",
   "execution_count": 145,
   "id": "cccebaf4-d6ed-4c68-980c-66787c5ac167",
   "metadata": {},
   "outputs": [],
   "source": [
    "to_download = [\n",
    "    out_pdf,\n",
    "    comments_csv,\n",
    "    milestones_csv,\n",
    "    search_csv\n",
    "]"
   ]
  },
  {
   "cell_type": "code",
   "execution_count": 146,
   "id": "56bdf22c-8f1f-4819-896a-6559a59453df",
   "metadata": {},
   "outputs": [
    {
     "data": {
      "text/plain": [
       "['./data/all_petitions_comments_20211112-095033.csv.html.pdf',\n",
       " './data/all_petitions_comments_20211112-095033.csv',\n",
       " './data/all_petitions_milestones_20211112-093758.csv',\n",
       " './data/change_org_petitions_Amber_Heard_at_20211005-222550_limit_1000_offset_0_delay_ms_500.csv']"
      ]
     },
     "execution_count": 146,
     "metadata": {},
     "output_type": "execute_result"
    }
   ],
   "source": [
    "to_download"
   ]
  },
  {
   "cell_type": "code",
   "execution_count": 154,
   "id": "439fea76-7530-4461-8cff-b7f79076940c",
   "metadata": {},
   "outputs": [
    {
     "name": "stdout",
     "output_type": "stream",
     "text": [
      "  adding: data/all_petitions_comments_20211112-095033.csv.html.pdf (deflated 6%)\n",
      "  adding: data/all_petitions_comments_20211112-095033.csv (deflated 75%)\n",
      "  adding: data/all_petitions_milestones_20211112-093758.csv (deflated 69%)\n",
      "  adding: data/change_org_petitions_Amber_Heard_at_20211005-222550_limit_1000_offset_0_delay_ms_500.csv (deflated 79%)\n"
     ]
    },
    {
     "data": {
      "text/html": [
       "<a href='./data/download_20211112-103416.zip' target='_blank'>./data/download_20211112-103416.zip</a><br>"
      ],
      "text/plain": [
       "/home/sergia/worldie/data/download_20211112-103416.zip"
      ]
     },
     "execution_count": 154,
     "metadata": {},
     "output_type": "execute_result"
    }
   ],
   "source": [
    "zip_outfile = f\"./data/download_{time.strftime('%Y%m%d-%H%M%S')}.zip\"\n",
    "!zip {zip_outfile} {' '.join(to_download)} \n",
    "FileLink(zip_outfile)"
   ]
  },
  {
   "cell_type": "code",
   "execution_count": null,
   "id": "0fbaecb4-739b-40ee-8f33-28bc9ec31d34",
   "metadata": {},
   "outputs": [],
   "source": []
  }
 ],
 "metadata": {
  "kernelspec": {
   "display_name": "Python 3 (ipykernel)",
   "language": "python",
   "name": "python3"
  },
  "language_info": {
   "codemirror_mode": {
    "name": "ipython",
    "version": 3
   },
   "file_extension": ".py",
   "mimetype": "text/x-python",
   "name": "python",
   "nbconvert_exporter": "python",
   "pygments_lexer": "ipython3",
   "version": "3.7.11"
  }
 },
 "nbformat": 4,
 "nbformat_minor": 5
}
