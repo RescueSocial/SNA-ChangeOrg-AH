{
 "cells": [
  {
   "cell_type": "code",
   "execution_count": 20,
   "id": "331e7ed1-7186-4442-8754-c6e3b000567f",
   "metadata": {},
   "outputs": [],
   "source": [
    "import pandas as pd\n",
    "from get_milestones import main\n",
    "from path import Path\n",
    "import os\n",
    "import time\n",
    "from tqdm.auto import tqdm"
   ]
  },
  {
   "cell_type": "code",
   "execution_count": 2,
   "id": "10e4ac88-4306-4eca-b9fc-b19fef71bd80",
   "metadata": {},
   "outputs": [],
   "source": [
    "df = pd.read_csv('./data/change_org_petitions_Amber_Heard_at_20211005-222550_limit_1000_offset_0_delay_ms_500.csv')"
   ]
  },
  {
   "cell_type": "code",
   "execution_count": null,
   "id": "04e70b1e-8065-48e4-9991-09d3216275eb",
   "metadata": {},
   "outputs": [],
   "source": [
    "error_slugs = set()\n",
    "for slug in tqdm(df['petition__slug']):\n",
    "    if not isinstance(slug, str):\n",
    "        continue\n",
    "    args = type('obj', (object,), {'petition_slug': slug, 'delay_ms': 100})\n",
    "    with Path('./data'):\n",
    "        try:\n",
    "            main(args)\n",
    "        except Exception as e:\n",
    "            print(slug, e)\n",
    "            error_slugs.add(slug)"
   ]
  },
  {
   "cell_type": "code",
   "execution_count": 9,
   "id": "5f294b05-3371-4390-b2ce-3482a4990bd0",
   "metadata": {},
   "outputs": [
    {
     "data": {
      "text/plain": [
       "{'donald-j-trump-free-rapper-ynw-melly-he-is-being-framed-by-police-facing-the-death-penalty-we-have-got-to-stop-the-state-of-florida-from-killing-2-innocent-men-blacklivesmatter-alllivesmatter-freeynwmelly-freeynwbortlen',\n",
       " 'sheriff-tom-bosenko-california-state-governor-california-state-senate-u-s-attorney-generl-kamala-sheriff-tom-bosenko-california-state-governor-california-state-senate-u-s-attorney-general-k-request-the-fbi-investigate-the-disappearance-of-e',\n",
       " 'warner-brothers-get-johnny-depp-his-role-in-fantastic-beasts-back-arrest-fire-amber-heard-from-aquaman-2'}"
      ]
     },
     "execution_count": 9,
     "metadata": {},
     "output_type": "execute_result"
    }
   ],
   "source": [
    "# first two are not relevant\n",
    "# the second one does not have public milestones\n",
    "error_slugs"
   ]
  },
  {
   "cell_type": "code",
   "execution_count": 10,
   "id": "339adea3-6646-45ee-a28f-2c19ca396e92",
   "metadata": {},
   "outputs": [],
   "source": [
    "# merging everything into a single dataframe"
   ]
  },
  {
   "cell_type": "code",
   "execution_count": 14,
   "id": "10f09f95-60b9-459b-ba25-b70215ab4e1c",
   "metadata": {},
   "outputs": [],
   "source": [
    "l = os.listdir('./data')\n",
    "fs = []\n",
    "for filename in l:\n",
    "    if not(filename.startswith('change_org_milestones_petition_slug_') and filename.endswith('.csv')):\n",
    "        continue\n",
    "    fs.append('./data/' + filename)"
   ]
  },
  {
   "cell_type": "code",
   "execution_count": 90,
   "id": "668be45c-f5f8-415e-a840-fa219496c6c6",
   "metadata": {},
   "outputs": [],
   "source": [
    "def read_set_slug(f):\n",
    "    df = pd.read_csv(f)\n",
    "    ff = os.path.basename(f)\n",
    "    slug = ff[len('change_org_milestones_petition_slug_'):ff.index('_at_')]\n",
    "    df['petition__slug'] = [slug] * len(df)\n",
    "    return df"
   ]
  },
  {
   "cell_type": "code",
   "execution_count": 108,
   "id": "38508744-66c1-4a83-b5db-3e927156e736",
   "metadata": {},
   "outputs": [
    {
     "data": {
      "application/vnd.jupyter.widget-view+json": {
       "model_id": "78d1383a59ff489e8dc39acc87e66447",
       "version_major": 2,
       "version_minor": 0
      },
      "text/plain": [
       "  0%|          | 0/286 [00:00<?, ?it/s]"
      ]
     },
     "metadata": {},
     "output_type": "display_data"
    }
   ],
   "source": [
    "df = pd.concat([read_set_slug(f) for f in tqdm(fs)])\n",
    "df = df.reset_index()\n",
    "\n",
    "df_status = pd.read_csv('./data/all_petitions_status_manual.csv')\n",
    "def get_status(slug):\n",
    "    return df_status[df_status['slug'] == slug].iloc[0].status\n",
    "df['status_manual'] = [get_status(t) for t in df.petition__slug]\n",
    "df = df[df['status_manual'] != 'irrelevant']"
   ]
  },
  {
   "cell_type": "code",
   "execution_count": 109,
   "id": "be3439df-3d4a-40dd-87b5-12be0553228f",
   "metadata": {},
   "outputs": [],
   "source": [
    "df.to_csv(f\"./data/all_petitions_milestones_{time.strftime('%Y%m%d-%H%M%S')}.csv\", index=False)"
   ]
  },
  {
   "cell_type": "markdown",
   "id": "aca6509c-b931-487c-baee-a9142d84b802",
   "metadata": {},
   "source": [
    "# Optional: plotting all timelines"
   ]
  },
  {
   "cell_type": "code",
   "execution_count": 110,
   "id": "26636856-8a4a-4e2c-8225-7538cf1e9d0b",
   "metadata": {},
   "outputs": [],
   "source": [
    "from matplotlib import pyplot as plt"
   ]
  },
  {
   "cell_type": "code",
   "execution_count": 111,
   "id": "86d3af8f-354a-4ea2-b04b-0b4a637eb6d5",
   "metadata": {},
   "outputs": [],
   "source": [
    "df_ = df[df['__typename'] == 'MilestonePetitionUpdate'].copy()"
   ]
  },
  {
   "cell_type": "code",
   "execution_count": 112,
   "id": "68675633-c01d-412e-bbc2-db9453695efb",
   "metadata": {},
   "outputs": [],
   "source": [
    "df_['createdAt'] = pd.to_datetime(df_.createdAt)"
   ]
  },
  {
   "cell_type": "code",
   "execution_count": null,
   "id": "f90ca8cd-c8cc-481d-9c32-cca109fbc406",
   "metadata": {},
   "outputs": [],
   "source": []
  },
  {
   "cell_type": "code",
   "execution_count": null,
   "id": "3e72cad0-6302-44e9-8deb-20be5f9e55c2",
   "metadata": {},
   "outputs": [],
   "source": []
  },
  {
   "cell_type": "code",
   "execution_count": null,
   "id": "e8ea2105-5fab-4e08-b042-e4200597c3ce",
   "metadata": {},
   "outputs": [],
   "source": []
  },
  {
   "cell_type": "code",
   "execution_count": null,
   "id": "58254a1f-228a-4619-829c-aef7770cffd7",
   "metadata": {},
   "outputs": [
    {
     "data": {
      "application/vnd.jupyter.widget-view+json": {
       "model_id": "c12a7e32f36d4a028443b7d836cea4f9",
       "version_major": 2,
       "version_minor": 0
      },
      "text/plain": [
       "  0%|          | 0/159 [00:00<?, ?it/s]"
      ]
     },
     "metadata": {},
     "output_type": "display_data"
    },
    {
     "data": {
      "application/vnd.jupyter.widget-view+json": {
       "model_id": "a4b66b90fd204bad94c19344ecc92485",
       "version_major": 2,
       "version_minor": 0
      },
      "text/plain": [
       "  0%|          | 0/15 [00:00<?, ?it/s]"
      ]
     },
     "metadata": {},
     "output_type": "display_data"
    },
    {
     "data": {
      "application/vnd.jupyter.widget-view+json": {
       "model_id": "c5ed4e56b4504f14a32e78032e78946b",
       "version_major": 2,
       "version_minor": 0
      },
      "text/plain": [
       "  0%|          | 0/4 [00:00<?, ?it/s]"
      ]
     },
     "metadata": {},
     "output_type": "display_data"
    }
   ],
   "source": [
    "colors = {'for': 'green', 'against': 'red', 'related': 'blue'}\n",
    "plt.figure(figsize=(10, 5))\n",
    "plt.title('Number of signatures in time, petitions for/against [total=%d petitions]' % len(set(df_.petition__slug)))\n",
    "for status, group_status in df_.groupby('status_manual'):\n",
    "    i = 0\n",
    "    for petition__slug, group in tqdm(group_status.groupby('petition__slug')):\n",
    "        kwargs = {}\n",
    "        if i == 0:\n",
    "            kwargs['label'] = status\n",
    "        plt.plot(group.createdAt, group.signatureCount, color=colors[status], alpha=0.4, **kwargs)\n",
    "        i += 1\n",
    "plt.yscale('log')\n",
    "plt.xlabel('Date')\n",
    "plt.ylabel('Number of signatures')\n",
    "plt.legend()\n",
    "plt.savefig('./figures/petitions_signatures_in_time.png', bbox_inches='tight')\n",
    "plt.show()"
   ]
  },
  {
   "cell_type": "code",
   "execution_count": 118,
   "id": "fcedc25d-6b3a-4a57-92a5-15f868e319e9",
   "metadata": {},
   "outputs": [
    {
     "data": {
      "text/plain": [
       "1548"
      ]
     },
     "execution_count": 118,
     "metadata": {},
     "output_type": "execute_result"
    }
   ],
   "source": [
    "len(df_)"
   ]
  },
  {
   "cell_type": "code",
   "execution_count": null,
   "id": "6da075e0-c807-47ac-93b7-5160995e6d23",
   "metadata": {},
   "outputs": [],
   "source": []
  }
 ],
 "metadata": {
  "kernelspec": {
   "display_name": "Python 3 (ipykernel)",
   "language": "python",
   "name": "python3"
  },
  "language_info": {
   "codemirror_mode": {
    "name": "ipython",
    "version": 3
   },
   "file_extension": ".py",
   "mimetype": "text/x-python",
   "name": "python",
   "nbconvert_exporter": "python",
   "pygments_lexer": "ipython3",
   "version": "3.7.11"
  }
 },
 "nbformat": 4,
 "nbformat_minor": 5
}
