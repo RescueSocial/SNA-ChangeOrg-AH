{
 "cells": [
  {
   "cell_type": "code",
   "execution_count": 3,
   "id": "331e7ed1-7186-4442-8754-c6e3b000567f",
   "metadata": {},
   "outputs": [],
   "source": [
    "import pandas as pd\n",
    "from get_milestones import main\n",
    "from path import Path\n",
    "import os\n",
    "import time\n",
    "from tqdm.auto import tqdm"
   ]
  },
  {
   "cell_type": "code",
   "execution_count": 55,
   "id": "10e4ac88-4306-4eca-b9fc-b19fef71bd80",
   "metadata": {},
   "outputs": [],
   "source": [
    "# control slugs\n",
    "slugs = [\n",
    "    'zamknijmy-fermy-futrzarskie-w-polsce',\n",
    "    'jarosław-kaczyński-let-s-shut-down-all-fur-farms-in-poland',\n",
    "    'congress-impeach-donald-j-trump-ca5eea26-3110-4f4b-9a7b-89a43caf1a7a',\n",
    "    'do-not-impeach-president-trump',\n",
    "    'time-name-greta-thunberg-time-person-of-the-year',\n",
    "    'abc-save-once-upon-a-time',\n",
    "    'us-state-department-and-congress-free-alexei-navalny',\n",
    "    'st-matthew-s-cofe-primary-school-allow-year-5-child-the-reasonable-adjustment-to-wear-his-mask-to-school-during-covid',\n",
    "    'greg-abbott-reinstate-the-texas-covid-19-mask-mandate',\n",
    "    'julius-jones-is-innocent-don-t-let-him-be-executed-by-the-state-of-oklahoma',\n",
    "    'save-lgbt-refugees-in-turkey-who-are-abandoned-in-unsafe-conditions-for-years-with-no-help',\n",
    "    'mateusz-morawiecki-pass-laws-that-would-protect-lgbt-people-in-poland-and-abolish-current-anti-lgbt-laws',\n",
    "    'saverudraksh-drharshvardhan-please-save-3-year-old-rudraksh-waive-duties-taxes-on-life-saving-drug',\n",
    "    'we-the-people-of-michigan-no-new-gas-tax-in-michigan',\n",
    "    'ugc-cancel-all-university-exams',\n",
    "    'google-inc-google-put-palestine-on-your-maps',\n",
    "]"
   ]
  },
  {
   "cell_type": "code",
   "execution_count": 56,
   "id": "04e70b1e-8065-48e4-9991-09d3216275eb",
   "metadata": {},
   "outputs": [
    {
     "data": {
      "application/vnd.jupyter.widget-view+json": {
       "model_id": "6c29eb373e174e01862384a8505b399e",
       "version_major": 2,
       "version_minor": 0
      },
      "text/plain": [
       "  0%|          | 0/16 [00:00<?, ?it/s]"
      ]
     },
     "metadata": {},
     "output_type": "display_data"
    },
    {
     "name": "stdout",
     "output_type": "stream",
     "text": [
      "File already exists, doing nothing!\n",
      "File already exists, doing nothing!\n",
      "File already exists, doing nothing!\n",
      "File already exists, doing nothing!\n",
      "File already exists, doing nothing!\n",
      "File already exists, doing nothing!\n",
      "File already exists, doing nothing!\n",
      "File already exists, doing nothing!\n",
      "File already exists, doing nothing!\n",
      "File already exists, doing nothing!\n",
      "Regexp \"petition\":{\"id\":\"([0-9]+)\" failed\n",
      "Petition slug save-lgbt-refugees-in-turkey-who-are-abandoned-in-unsafe-conditions-for-years-with-no-help resolved to id 13242870\n",
      "Response: 200 OK\n",
      "True YXJyYXljb25uZWN0aW9uOjEx\n",
      "Response: 200 OK\n",
      "True YXJyYXljb25uZWN0aW9uOjIz\n",
      "Response: 200 OK\n",
      "False YXJyYXljb25uZWN0aW9uOjI2\n",
      "Data saved to change_org_milestones_petition_slug_save-lgbt-refugees-in-turkey-who-are-abandoned-in-unsafe-conditions-for-years-with-no-help_at_20211112-110454.csv\n",
      "Data saved to change_org_milestones_petition_slug_save-lgbt-refugees-in-turkey-who-are-abandoned-in-unsafe-conditions-for-years-with-no-help_at_20211112-110454.json\n",
      "Regexp \"petition\":{\"id\":\"([0-9]+)\" failed\n",
      "Petition slug mateusz-morawiecki-pass-laws-that-would-protect-lgbt-people-in-poland-and-abolish-current-anti-lgbt-laws resolved to id 22742475\n",
      "Response: 200 OK\n",
      "True YXJyYXljb25uZWN0aW9uOjEx\n",
      "Response: 200 OK\n",
      "True YXJyYXljb25uZWN0aW9uOjIz\n",
      "Response: 200 OK\n",
      "True YXJyYXljb25uZWN0aW9uOjM1\n",
      "Response: 200 OK\n",
      "False YXJyYXljb25uZWN0aW9uOjQw\n",
      "Data saved to change_org_milestones_petition_slug_mateusz-morawiecki-pass-laws-that-would-protect-lgbt-people-in-poland-and-abolish-current-anti-lgbt-laws_at_20211112-110456.csv\n",
      "Data saved to change_org_milestones_petition_slug_mateusz-morawiecki-pass-laws-that-would-protect-lgbt-people-in-poland-and-abolish-current-anti-lgbt-laws_at_20211112-110456.json\n",
      "Regexp \"petition\":{\"id\":\"([0-9]+)\" failed\n",
      "Petition slug saverudraksh-drharshvardhan-please-save-3-year-old-rudraksh-waive-duties-taxes-on-life-saving-drug resolved to id 28276624\n",
      "Response: 200 OK\n",
      "True YXJyYXljb25uZWN0aW9uOjEx\n",
      "Response: 200 OK\n",
      "True YXJyYXljb25uZWN0aW9uOjIz\n",
      "Response: 200 OK\n",
      "False YXJyYXljb25uZWN0aW9uOjI1\n",
      "Data saved to change_org_milestones_petition_slug_saverudraksh-drharshvardhan-please-save-3-year-old-rudraksh-waive-duties-taxes-on-life-saving-drug_at_20211112-110459.csv\n",
      "Data saved to change_org_milestones_petition_slug_saverudraksh-drharshvardhan-please-save-3-year-old-rudraksh-waive-duties-taxes-on-life-saving-drug_at_20211112-110459.json\n",
      "Regexp \"petition\":{\"id\":\"([0-9]+)\" failed\n",
      "Petition slug we-the-people-of-michigan-no-new-gas-tax-in-michigan resolved to id 14366800\n",
      "Response: 200 OK\n",
      "True YXJyYXljb25uZWN0aW9uOjEx\n",
      "Response: 200 OK\n",
      "True YXJyYXljb25uZWN0aW9uOjIz\n",
      "Response: 200 OK\n",
      "True YXJyYXljb25uZWN0aW9uOjM1\n",
      "Response: 200 OK\n",
      "False YXJyYXljb25uZWN0aW9uOjQ1\n",
      "Data saved to change_org_milestones_petition_slug_we-the-people-of-michigan-no-new-gas-tax-in-michigan_at_20211112-110501.csv\n",
      "Data saved to change_org_milestones_petition_slug_we-the-people-of-michigan-no-new-gas-tax-in-michigan_at_20211112-110501.json\n",
      "Regexp \"petition\":{\"id\":\"([0-9]+)\" failed\n",
      "Petition slug ugc-cancel-all-university-exams resolved to id 21625821\n",
      "Response: 200 OK\n",
      "True YXJyYXljb25uZWN0aW9uOjEx\n",
      "Response: 200 OK\n",
      "True YXJyYXljb25uZWN0aW9uOjIz\n",
      "Response: 200 OK\n",
      "False YXJyYXljb25uZWN0aW9uOjMy\n",
      "Data saved to change_org_milestones_petition_slug_ugc-cancel-all-university-exams_at_20211112-110503.csv\n",
      "Data saved to change_org_milestones_petition_slug_ugc-cancel-all-university-exams_at_20211112-110503.json\n",
      "Regexp \"petition\":{\"id\":\"([0-9]+)\" failed\n",
      "Petition slug google-inc-google-put-palestine-on-your-maps resolved to id 6325562\n",
      "Response: 200 OK\n",
      "True YXJyYXljb25uZWN0aW9uOjEx\n",
      "Response: 200 OK\n",
      "True YXJyYXljb25uZWN0aW9uOjIz\n",
      "Response: 200 OK\n",
      "True YXJyYXljb25uZWN0aW9uOjM1\n",
      "Response: 200 OK\n",
      "False YXJyYXljb25uZWN0aW9uOjQy\n",
      "Data saved to change_org_milestones_petition_slug_google-inc-google-put-palestine-on-your-maps_at_20211112-110506.csv\n",
      "Data saved to change_org_milestones_petition_slug_google-inc-google-put-palestine-on-your-maps_at_20211112-110506.json\n"
     ]
    }
   ],
   "source": [
    "error_slugs = set()\n",
    "for slug in tqdm(slugs):\n",
    "    if not isinstance(slug, str):\n",
    "        continue\n",
    "    args = type('obj', (object,), {'petition_slug': slug, 'delay_ms': 100})\n",
    "    with Path('./data'):\n",
    "        try:\n",
    "            main(args)\n",
    "        except Exception as e:\n",
    "            print(slug, e)\n",
    "            error_slugs.add(slug)"
   ]
  },
  {
   "cell_type": "code",
   "execution_count": 57,
   "id": "5f294b05-3371-4390-b2ce-3482a4990bd0",
   "metadata": {},
   "outputs": [
    {
     "data": {
      "text/plain": [
       "set()"
      ]
     },
     "execution_count": 57,
     "metadata": {},
     "output_type": "execute_result"
    }
   ],
   "source": [
    "# first two are not relevant\n",
    "# the second one does not have public milestones\n",
    "error_slugs"
   ]
  },
  {
   "cell_type": "code",
   "execution_count": 58,
   "id": "339adea3-6646-45ee-a28f-2c19ca396e92",
   "metadata": {},
   "outputs": [],
   "source": [
    "# merging everything into a single dataframe"
   ]
  },
  {
   "cell_type": "code",
   "execution_count": 59,
   "id": "f154979f-243a-45b5-a974-c00c47c6ce6e",
   "metadata": {},
   "outputs": [
    {
     "data": {
      "application/vnd.jupyter.widget-view+json": {
       "model_id": "553929d62a244a9b96d852d0a4964917",
       "version_major": 2,
       "version_minor": 0
      },
      "text/plain": [
       "  0%|          | 0/610 [00:00<?, ?it/s]"
      ]
     },
     "metadata": {},
     "output_type": "display_data"
    },
    {
     "data": {
      "application/vnd.jupyter.widget-view+json": {
       "model_id": "51f086bae65b44fdb4600cfbf11ee7fb",
       "version_major": 2,
       "version_minor": 0
      },
      "text/plain": [
       "  0%|          | 0/16 [00:00<?, ?it/s]"
      ]
     },
     "metadata": {},
     "output_type": "display_data"
    }
   ],
   "source": [
    "files = os.listdir('data')\n",
    "slugs_set = set(slugs)\n",
    "prefix = 'change_org_milestones_petition_slug_'\n",
    "suffix = '.csv'\n",
    "\n",
    "files = [f for f in files if f.startswith(prefix)]\n",
    "\n",
    "def fn_to_slug(fn):\n",
    "    return fn[len(prefix):-len('_at_20211112-104655.csv')]\n",
    "\n",
    "files = [f for f in tqdm(files) if fn_to_slug(f) in slugs_set]\n",
    "def read_csv(f):\n",
    "    df = pd.read_csv(f)\n",
    "    df['petition__slug'] = fn_to_slug(f.split('/')[2])\n",
    "    return df\n",
    "df = pd.concat([read_csv('./data/' + f) for f in tqdm(files)])"
   ]
  },
  {
   "cell_type": "markdown",
   "id": "aca6509c-b931-487c-baee-a9142d84b802",
   "metadata": {},
   "source": [
    "# Optional: plotting all timelines"
   ]
  },
  {
   "cell_type": "code",
   "execution_count": 60,
   "id": "26636856-8a4a-4e2c-8225-7538cf1e9d0b",
   "metadata": {},
   "outputs": [],
   "source": [
    "from matplotlib import pyplot as plt"
   ]
  },
  {
   "cell_type": "code",
   "execution_count": 61,
   "id": "86d3af8f-354a-4ea2-b04b-0b4a637eb6d5",
   "metadata": {},
   "outputs": [],
   "source": [
    "df_ = df[df['__typename'] == 'MilestonePetitionUpdate'].copy()"
   ]
  },
  {
   "cell_type": "code",
   "execution_count": 62,
   "id": "68675633-c01d-412e-bbc2-db9453695efb",
   "metadata": {},
   "outputs": [],
   "source": [
    "df_['createdAt'] = pd.to_datetime(df_.createdAt)"
   ]
  },
  {
   "cell_type": "code",
   "execution_count": null,
   "id": "e8ea2105-5fab-4e08-b042-e4200597c3ce",
   "metadata": {},
   "outputs": [],
   "source": []
  },
  {
   "cell_type": "code",
   "execution_count": 63,
   "id": "58254a1f-228a-4619-829c-aef7770cffd7",
   "metadata": {},
   "outputs": [
    {
     "data": {
      "application/vnd.jupyter.widget-view+json": {
       "model_id": "2479bd2e463e42d393450ea05c6143a5",
       "version_major": 2,
       "version_minor": 0
      },
      "text/plain": [
       "  0%|          | 0/16 [00:00<?, ?it/s]"
      ]
     },
     "metadata": {},
     "output_type": "display_data"
    },
    {
     "name": "stderr",
     "output_type": "stream",
     "text": [
      "No handles with labels found to put in legend.\n"
     ]
    },
    {
     "data": {
      "image/png": "[encoded data removed]",
      "text/plain": [
       "<Figure size 720x360 with 1 Axes>"
      ]
     },
     "metadata": {
      "needs_background": "light"
     },
     "output_type": "display_data"
    }
   ],
   "source": [
    "plt.figure(figsize=(10, 5))\n",
    "plt.title('Number of signatures in time, unrelated petitions [total=%d petitions]' % len(set(df_.petition__slug)))\n",
    "for petition__slug, group in tqdm(df_.groupby('petition__slug')):\n",
    "    kwargs = {}#'label': petition__slug}\n",
    "    plt.plot(group.createdAt, group.signatureCount, alpha=0.4, **kwargs)\n",
    "    i += 1\n",
    "plt.yscale('log')\n",
    "plt.xlabel('Date')\n",
    "plt.ylabel('Number of signatures')\n",
    "plt.legend()\n",
    "plt.savefig('./figures/unrelated_petitions_signatures_in_time.png', bbox_inches='tight')\n",
    "plt.show()"
   ]
  },
  {
   "cell_type": "code",
   "execution_count": 64,
   "id": "fcedc25d-6b3a-4a57-92a5-15f868e319e9",
   "metadata": {},
   "outputs": [
    {
     "data": {
      "text/plain": [
       "508"
      ]
     },
     "execution_count": 64,
     "metadata": {},
     "output_type": "execute_result"
    }
   ],
   "source": [
    "len(df_)"
   ]
  },
  {
   "cell_type": "code",
   "execution_count": null,
   "id": "6da075e0-c807-47ac-93b7-5160995e6d23",
   "metadata": {},
   "outputs": [],
   "source": []
  }
 ],
 "metadata": {
  "kernelspec": {
   "display_name": "Python 3 (ipykernel)",
   "language": "python",
   "name": "python3"
  },
  "language_info": {
   "codemirror_mode": {
    "name": "ipython",
    "version": 3
   },
   "file_extension": ".py",
   "mimetype": "text/x-python",
   "name": "python",
   "nbconvert_exporter": "python",
   "pygments_lexer": "ipython3",
   "version": "3.7.11"
  }
 },
 "nbformat": 4,
 "nbformat_minor": 5
}
