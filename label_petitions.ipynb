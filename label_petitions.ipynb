{
 "cells": [
  {
   "cell_type": "code",
   "execution_count": 32,
   "id": "3c5c046d-7e3a-4e80-8967-b158f36ba5ff",
   "metadata": {},
   "outputs": [],
   "source": [
    "import pandas as pd\n",
    "import json\n",
    "from tqdm.auto import tqdm\n",
    "from IPython.display import clear_output\n",
    "pd.set_option('display.max_columns', None)"
   ]
  },
  {
   "cell_type": "code",
   "execution_count": 40,
   "id": "2256eee7-7536-4a06-87a8-0ad15fbda4f9",
   "metadata": {},
   "outputs": [],
   "source": [
    "df = pd.read_csv('change_org_petitions_Amber_Heard__at_20220814-111132_limit_2000_offset_0_delay_ms_5000.csv')\n",
    "\n",
    "results = json.load(open('classification.json', 'r')) # or {}"
   ]
  },
  {
   "cell_type": "code",
   "execution_count": 41,
   "id": "ddc15c11-daa1-48a0-89f0-ac35d9f30c6a",
   "metadata": {},
   "outputs": [],
   "source": [
    "def ask(options):\n",
    "    ok = False\n",
    "    while not ok:\n",
    "        inp = input('decision')\n",
    "        if inp in options:\n",
    "            print(inp)\n",
    "            return inp"
   ]
  },
  {
   "cell_type": "code",
   "execution_count": 42,
   "id": "ec22c651-89b3-411f-b2b2-83efc05df511",
   "metadata": {},
   "outputs": [
    {
     "data": {
      "text/plain": [
       "246"
      ]
     },
     "execution_count": 42,
     "metadata": {},
     "output_type": "execute_result"
    }
   ],
   "source": [
    "len(set(df['petition.slug']) - set(results.keys()))"
   ]
  },
  {
   "cell_type": "code",
   "execution_count": 38,
   "id": "3e0ccda4-893c-4922-bdc6-9dc7ea354f8e",
   "metadata": {},
   "outputs": [
    {
     "name": "stdout",
     "output_type": "stream",
     "text": [
      "100 / 588\n",
      "101 / 588\n",
      "102 / 588\n",
      "TO nan\n",
      "ASK Investigate and bring charges to Amber Heard for commiting perjury.\n",
      "DESCR <p>Amber Heard has been exposed on the stand repitedly for perpetuating lie after lie, commiting perjury. She and her then (2016) closest group of friends Raquel, Josh and IO participated in Amber Heard's hoax to defame Johnny Depp claiming he had abused her repitedly during their relationship and brief marriage. The evidence has shown, it was the other way around. Endless hours of voice recordings made by both parties have emerged with Amber Heard admitting to hitting Johnny Depp and starting physical fights. In these recording she can also be heard implying no one would believe or side with Johnny Depp if he decided to tell the world that he was a victim of domestic Abuse on the hands of Amber Heard. In other tapes you can hear Amber Heard manically laughing, mocking him, dimishing him and critizing him for not being \"a man\" by avoiding conflicts and walking away. She can be heard telling Johnny Deep's that she hopes Josh's (Johnny Depp's son) step father could show him how to \"be a man\" as he couldn't. She used his age, his early career, his kids, his dreams, his struggles with addictions, his altercation-avoidance and questioned his \"manliness\" among other things to break, abuse and take advantage of him. </p>\n",
      "<p>Amber Heard has perpetuated her lies under oath and that is a criminal offence, therefore it is a duty to persue it.</p>\n",
      "<p>I will state some of the grounds as follow:</p>\n",
      "<p>-4 police officers attended 2 different 911 calls (one in NY from IO and the other one and anonymous caller stating to be in the Easter building downstairs at the time of the alleged incident). The 4 police officer testified under oath that they did not see any injuries on Amber Heard or damages to the property (PH3). </p>\n",
      "<p>-Amber Heard alleges she was sexually assaulted and physically beaten in several occasions by Johnny Depp reporting she believed she had a broken nose after 2 of the incidents and that she was bleeding from her vagina after being raped with a large bottle, yet she never seeked medical attention after any of the alleged incidents even when she had nurses and doctors at her disposal. </p>\n",
      "<p>-Amber Heard attended a TV show a day after sustaining one of the alleged beating where she testified she was  punched repitedly on the face by Johnny Depp and where she felt as she had a broken nose. Amber Heard said she was wearing big amounts of makeup to cover her injuries. The video it's available online for you to make your own conclusions. There are also many picture </p>\n",
      "<p>Amber Heard has been exposed on the stand repitedly for perpetuating lie after lie, commiting perjury. She and her then (2016) closest group of friends Raquel, Josh and IO participated in Amber Heard's hoax to defame Johnny Depp claiming he had abused her repitedly during their relationship and brief marriage. The evidence has shown, it was the other way around. Endless hours of voice recordings made by both parties have emerged with Amber Heard admitting to hitting Johnny Depp and starting physical fights. In these recording she can also be heard implying no one would believe or side with Johnny Depp if he decided to tell the world that he was a victim of domestic Abuse on the hands of Amber Heard. In other tapes you can hear Amber Heard manically laughing, mocking him, dimishing him and critizing him for not being \"a man\" by avoiding conflicts and walking away. She can be heard telling Johnny Deep's that she hopes Josh's (Johnny Depp's son) step father could show him how to \"be a man\" as he couldn't. She used his age, his early career, his kids, his dreams, his struggles with addictions, his altercation-avoidance and his \"lack of manliness\" according to Amber Heard, among others to break, abuse and take advantage of him. </p>\n",
      "<p>Amber Heard has perpetuated her lies under oath and that is a criminal offence, therefore it is a duty to persue it.</p>\n",
      "<p>I will state some of the grounds as follow:</p>\n",
      "<p>-4 police officers attended 2 different 911 calls (one in NY from IO and the other one and anonymous caller stating to be in the Easter building downstairs at the time of the alleged incident). The 4 police officer testified under oath that they did not see any injuries on Amber Heard or damages to the property (PH3). </p>\n",
      "<p>-Amber Heard alleges she was sexually assaulted and physically beaten in several occasions by Johnny Depp reporting she believed she had a broken nose after 2 of the incidents and that she was bleeding from her vagina after being raped with a large bottle, yet she never seeked medical attention after any of the alleged incidents even when she had nurses and doctors at her disposal. </p>\n",
      "<p>-Amber Heard attended a TV show a day after sustaining one of the alleged beating where she testified she was  punched repitedly on the face by Johnny Depp and where she felt as she had a broken nose. Amber Heard said she was wearing big amounts of makeup to cover her injuries. The video it's available online for you to make your own conclusions. There are also many pictures taken by third parties and available to the public of Amber Heard on the following days where the alleged beatings happened. </p>\n",
      "<p>-Amber Heard has lied repitedly, on television, on the UK deposition and in court by saying she doneted the 7 million received from her divorce settlement and when caught on the lie she went on to add that she uses pledge and donate interchangeably.<br>Amber Heard can be seen admitting to have alerted TMZ of the TRO on her UK testimony. In addition to that a former TMZ employee testified that TMZ was tipped about it directly by the source (Amber Heard or her close team) and that they were promised she would pose so they could get a clear shot of her \"bruised face\", pictures that were later used in magazines to perpetuate idea of being a \"victim\". I must add he also testified TMZ received a video of Johnny Depp slamming cabinets and cupboards from Amber Heard and since she took that video it was her property but now it's exclusive to TMZ. </p>\n",
      "<p>-Amber Heard has testified to been scared of Johnny Deep through their relationship however she decided to gift him a large knife with an inscription that reads \"Hasta la muerte\" and that translates into \"Until death\".</p>\n",
      "<p>-Amber Heard testified that Johnny Depp had unfounded jealousy however on cctv cameras she can be seen very close with two high profile men in the elevator that leads to the couple's penthouse on nights when Johnny Depp was away. </p>\n",
      "<p>-Amber Heard was arrested for domestic violence in a Seattle airport in 2009 after been spotted being physically abusive to her then wife Tasya. Charges were dropped the day after, however it should set a precedent for repetitive behaviour. </p>\n",
      "<p>-Perhaps a separate charge should be persued since Amber Heard presented a series of pictures that are clearly tampered with and also testifying to two identical pictures for two different incidents during the trial. </p>\n",
      "<p>-There is 5 hour audio from the incident in Australia in which Johnny Deep lost the tip of his finger. In the audio Amber Heard can be heard saying she didn't meant to hurt him. A doctor and a nurse are present in the house and not one person in 5 hours acknowledges any injuries on Amber Heard, if anything the doctor does refer to some straight cuts on Amber's arms and says most likely they were self-inflicted. She testified to had been raped the night before and have sustained cuts on her feet and arms from broken glass along with face injuries. I must add Amber Heard had to be persuaded to fly back to the United States as she wanted to stay in Australia.<br>Amber Heard's evidence presented in the Virginia civil case against her are weak at best. A series of pictures of property damage (unclear of who did it other than her word) , a series of pictures of herself with \"injuries\" (again that could've been inflicted by anyone or even created using a theatrical bruise kit) , a series of embarrassing pictures of Johnny Deep asleep, a video where Johnny Deep is extremely upset and that clearly shows how Amber Heard was never afraid of him and where she can also be seen smirking at the end of the video, and short audio clips were Johnny Depp reacts to her taunting him, bulling him and cruelty in a desperate way in order to stand up for himself.</p>\n",
      "<p>Amber Heard's direct witnesses participated in the hoax perjurying themselves and exposing endless inconsistencies over and over again. Witney Henriquez, Raquel Pennington, Josh Drew and IO were all complicit and if needed a separate investigation to each of them should be launched. Witney's account of the staircase incident doesn't match Amber Heard's account. Josh drew testified in his UK deposition to have walked around PH3 and PH5 showing them a large stain of spilled wine on the floor to the second set of police officers that arrived. He also said at least one of them if not both spoke in private with Amber Heard. All of these can be refuted with footage taken by the bodycam one of the police officers was wearing on that night. IO and an \"anonymous person\" called 911 knowing it was all the beginning of a hoax to blackmail Johnny Deep into giving her 3 of his penthouses and money among other things as part of a divorce settlement. Those are just a few examples but if an investigation is launched no doubt they 'll be able to make their own discoveries. </p>\n",
      "<p>*Amber Heard has committed perjury in three different continents (Australia, Europe and America) and she needs to be held responsible for it. Her most recent perjury was commited specifically in Viginia so I'm calling the Virginia authorities to open an investigation and persue a criminal case against Amber Heard for perjury. </p>\n",
      "<p>-Amber Heard was found guilty by a jury of 7 on the 1st of June 2022 in the civil suit presented by Johnny Depp.</p>\n",
      "<p>-Amber Heard has slandered every single person that didn't testify to her account in court. She has tried to bring down reputations in order to be believed. In her latest public statement she has used real domestic violence victims to avoid recognising her failure.</p>\n",
      "<p>She has toyed with the justice system, she has used women to side with her telling them her loss is a set back. This woman will stop at nothing so she needs to be stopped! </p>\n",
      "<p>The world needs to know that NO ONE is avobe the law. Perjury charges must be brought up!</p>\n",
      "<p> </p>\n",
      "<p> </p>\n",
      "<p> </p>\n"
     ]
    },
    {
     "ename": "KeyboardInterrupt",
     "evalue": "Interrupted by user",
     "output_type": "error",
     "traceback": [
      "\u001b[0;31m---------------------------------------------------------------------------\u001b[0m",
      "\u001b[0;31mKeyboardInterrupt\u001b[0m                         Traceback (most recent call last)",
      "\u001b[0;32m/tmp/ipykernel_2435/4292424112.py\u001b[0m in \u001b[0;36m<module>\u001b[0;34m\u001b[0m\n\u001b[1;32m      7\u001b[0m     \u001b[0mprint\u001b[0m\u001b[0;34m(\u001b[0m\u001b[0;34m\"ASK\"\u001b[0m\u001b[0;34m,\u001b[0m \u001b[0mr\u001b[0m\u001b[0;34m[\u001b[0m\u001b[0;34m'_source.ask'\u001b[0m\u001b[0;34m]\u001b[0m\u001b[0;34m)\u001b[0m\u001b[0;34m\u001b[0m\u001b[0;34m\u001b[0m\u001b[0m\n\u001b[1;32m      8\u001b[0m     \u001b[0mprint\u001b[0m\u001b[0;34m(\u001b[0m\u001b[0;34m\"DESCR\"\u001b[0m\u001b[0;34m,\u001b[0m \u001b[0mr\u001b[0m\u001b[0;34m[\u001b[0m\u001b[0;34m'petition.description'\u001b[0m\u001b[0;34m]\u001b[0m\u001b[0;34m)\u001b[0m\u001b[0;34m\u001b[0m\u001b[0;34m\u001b[0m\u001b[0m\n\u001b[0;32m----> 9\u001b[0;31m     \u001b[0ma\u001b[0m \u001b[0;34m=\u001b[0m \u001b[0mask\u001b[0m\u001b[0;34m(\u001b[0m\u001b[0;34m[\u001b[0m\u001b[0;34m'for'\u001b[0m\u001b[0;34m,\u001b[0m \u001b[0;34m'against'\u001b[0m\u001b[0;34m,\u001b[0m \u001b[0;34m'related'\u001b[0m\u001b[0;34m,\u001b[0m \u001b[0;34m'irrelevant'\u001b[0m\u001b[0;34m]\u001b[0m\u001b[0;34m)\u001b[0m\u001b[0;34m\u001b[0m\u001b[0;34m\u001b[0m\u001b[0m\n\u001b[0m\u001b[1;32m     10\u001b[0m     \u001b[0mresults\u001b[0m\u001b[0;34m[\u001b[0m\u001b[0mslug\u001b[0m\u001b[0;34m]\u001b[0m \u001b[0;34m=\u001b[0m \u001b[0ma\u001b[0m\u001b[0;34m\u001b[0m\u001b[0;34m\u001b[0m\u001b[0m\n\u001b[1;32m     11\u001b[0m     \u001b[0mclear_output\u001b[0m\u001b[0;34m(\u001b[0m\u001b[0;34m)\u001b[0m\u001b[0;34m\u001b[0m\u001b[0;34m\u001b[0m\u001b[0m\n",
      "\u001b[0;32m/tmp/ipykernel_2435/191580034.py\u001b[0m in \u001b[0;36mask\u001b[0;34m(options)\u001b[0m\n\u001b[1;32m      2\u001b[0m     \u001b[0mok\u001b[0m \u001b[0;34m=\u001b[0m \u001b[0;32mFalse\u001b[0m\u001b[0;34m\u001b[0m\u001b[0;34m\u001b[0m\u001b[0m\n\u001b[1;32m      3\u001b[0m     \u001b[0;32mwhile\u001b[0m \u001b[0;32mnot\u001b[0m \u001b[0mok\u001b[0m\u001b[0;34m:\u001b[0m\u001b[0;34m\u001b[0m\u001b[0;34m\u001b[0m\u001b[0m\n\u001b[0;32m----> 4\u001b[0;31m         \u001b[0minp\u001b[0m \u001b[0;34m=\u001b[0m \u001b[0minput\u001b[0m\u001b[0;34m(\u001b[0m\u001b[0;34m'decision'\u001b[0m\u001b[0;34m)\u001b[0m\u001b[0;34m\u001b[0m\u001b[0;34m\u001b[0m\u001b[0m\n\u001b[0m\u001b[1;32m      5\u001b[0m         \u001b[0;32mif\u001b[0m \u001b[0minp\u001b[0m \u001b[0;32min\u001b[0m \u001b[0moptions\u001b[0m\u001b[0;34m:\u001b[0m\u001b[0;34m\u001b[0m\u001b[0;34m\u001b[0m\u001b[0m\n\u001b[1;32m      6\u001b[0m             \u001b[0mprint\u001b[0m\u001b[0;34m(\u001b[0m\u001b[0minp\u001b[0m\u001b[0;34m)\u001b[0m\u001b[0;34m\u001b[0m\u001b[0;34m\u001b[0m\u001b[0m\n",
      "\u001b[0;32m~/miniconda3/envs/rst-changeorg-data/lib/python3.7/site-packages/ipykernel/kernelbase.py\u001b[0m in \u001b[0;36mraw_input\u001b[0;34m(self, prompt)\u001b[0m\n\u001b[1;32m   1008\u001b[0m             \u001b[0mself\u001b[0m\u001b[0;34m.\u001b[0m\u001b[0m_parent_ident\u001b[0m\u001b[0;34m[\u001b[0m\u001b[0;34m\"shell\"\u001b[0m\u001b[0;34m]\u001b[0m\u001b[0;34m,\u001b[0m\u001b[0;34m\u001b[0m\u001b[0;34m\u001b[0m\u001b[0m\n\u001b[1;32m   1009\u001b[0m             \u001b[0mself\u001b[0m\u001b[0;34m.\u001b[0m\u001b[0mget_parent\u001b[0m\u001b[0;34m(\u001b[0m\u001b[0;34m\"shell\"\u001b[0m\u001b[0;34m)\u001b[0m\u001b[0;34m,\u001b[0m\u001b[0;34m\u001b[0m\u001b[0;34m\u001b[0m\u001b[0m\n\u001b[0;32m-> 1010\u001b[0;31m             \u001b[0mpassword\u001b[0m\u001b[0;34m=\u001b[0m\u001b[0;32mFalse\u001b[0m\u001b[0;34m,\u001b[0m\u001b[0;34m\u001b[0m\u001b[0;34m\u001b[0m\u001b[0m\n\u001b[0m\u001b[1;32m   1011\u001b[0m         )\n\u001b[1;32m   1012\u001b[0m \u001b[0;34m\u001b[0m\u001b[0m\n",
      "\u001b[0;32m~/miniconda3/envs/rst-changeorg-data/lib/python3.7/site-packages/ipykernel/kernelbase.py\u001b[0m in \u001b[0;36m_input_request\u001b[0;34m(self, prompt, ident, parent, password)\u001b[0m\n\u001b[1;32m   1049\u001b[0m             \u001b[0;32mexcept\u001b[0m \u001b[0mKeyboardInterrupt\u001b[0m\u001b[0;34m:\u001b[0m\u001b[0;34m\u001b[0m\u001b[0;34m\u001b[0m\u001b[0m\n\u001b[1;32m   1050\u001b[0m                 \u001b[0;31m# re-raise KeyboardInterrupt, to truncate traceback\u001b[0m\u001b[0;34m\u001b[0m\u001b[0;34m\u001b[0m\u001b[0;34m\u001b[0m\u001b[0m\n\u001b[0;32m-> 1051\u001b[0;31m                 \u001b[0;32mraise\u001b[0m \u001b[0mKeyboardInterrupt\u001b[0m\u001b[0;34m(\u001b[0m\u001b[0;34m\"Interrupted by user\"\u001b[0m\u001b[0;34m)\u001b[0m \u001b[0;32mfrom\u001b[0m \u001b[0;32mNone\u001b[0m\u001b[0;34m\u001b[0m\u001b[0;34m\u001b[0m\u001b[0m\n\u001b[0m\u001b[1;32m   1052\u001b[0m             \u001b[0;32mexcept\u001b[0m \u001b[0mException\u001b[0m\u001b[0;34m:\u001b[0m\u001b[0;34m\u001b[0m\u001b[0;34m\u001b[0m\u001b[0m\n\u001b[1;32m   1053\u001b[0m                 \u001b[0mself\u001b[0m\u001b[0;34m.\u001b[0m\u001b[0mlog\u001b[0m\u001b[0;34m.\u001b[0m\u001b[0mwarning\u001b[0m\u001b[0;34m(\u001b[0m\u001b[0;34m\"Invalid Message:\"\u001b[0m\u001b[0;34m,\u001b[0m \u001b[0mexc_info\u001b[0m\u001b[0;34m=\u001b[0m\u001b[0;32mTrue\u001b[0m\u001b[0;34m)\u001b[0m\u001b[0;34m\u001b[0m\u001b[0;34m\u001b[0m\u001b[0m\n",
      "\u001b[0;31mKeyboardInterrupt\u001b[0m: Interrupted by user"
     ]
    }
   ],
   "source": [
    "for i, r in tqdm(df.iterrows(), total=len(df)):\n",
    "    print(i, \"/\", len(df))\n",
    "    slug = r['petition.slug']\n",
    "    if slug in results:\n",
    "        continue\n",
    "    print(\"TO\", r['_source.targeting_description'])\n",
    "    print(\"ASK\", r['_source.ask'])\n",
    "    print(\"DESCR\", r['petition.description'])\n",
    "    a = ask(['for', 'against', 'related', 'irrelevant'])\n",
    "    results[slug] = a\n",
    "    clear_output()"
   ]
  },
  {
   "cell_type": "code",
   "execution_count": 39,
   "id": "b81d1721-7b5c-47ed-ad9e-0c0d02cdb813",
   "metadata": {},
   "outputs": [],
   "source": [
    "import json\n",
    "json.dump(results, open('classification.json', 'w'))"
   ]
  },
  {
   "cell_type": "code",
   "execution_count": null,
   "id": "0ab69210-beb6-465b-9cea-0232fb67f895",
   "metadata": {},
   "outputs": [],
   "source": [
    "pickle.dump"
   ]
  },
  {
   "cell_type": "code",
   "execution_count": 56,
   "id": "b1810b9c-9f56-4381-9a11-672efe0db6f3",
   "metadata": {},
   "outputs": [
    {
     "data": {
      "text/html": [
       "<div>\n",
       "<style scoped>\n",
       "    .dataframe tbody tr th:only-of-type {\n",
       "        vertical-align: middle;\n",
       "    }\n",
       "\n",
       "    .dataframe tbody tr th {\n",
       "        vertical-align: top;\n",
       "    }\n",
       "\n",
       "    .dataframe thead th {\n",
       "        text-align: right;\n",
       "    }\n",
       "</style>\n",
       "<table border=\"1\" class=\"dataframe\">\n",
       "  <thead>\n",
       "    <tr style=\"text-align: right;\">\n",
       "      <th></th>\n",
       "      <th>slug</th>\n",
       "      <th>status</th>\n",
       "    </tr>\n",
       "  </thead>\n",
       "  <tbody>\n",
       "    <tr>\n",
       "      <th>0</th>\n",
       "      <td>hollywood-boycott-aquaman-2-amber-heard</td>\n",
       "      <td>against</td>\n",
       "    </tr>\n",
       "    <tr>\n",
       "      <th>1</th>\n",
       "      <td>united-states-supreme-court-put-amber-heard-be...</td>\n",
       "      <td>against</td>\n",
       "    </tr>\n",
       "    <tr>\n",
       "      <th>2</th>\n",
       "      <td>people-with-common-sense-amber-heard-must-be-f...</td>\n",
       "      <td>against</td>\n",
       "    </tr>\n",
       "    <tr>\n",
       "      <th>3</th>\n",
       "      <td>dc-replace-amber-heard-with-danny-devito-in-aq...</td>\n",
       "      <td>against</td>\n",
       "    </tr>\n",
       "    <tr>\n",
       "      <th>4</th>\n",
       "      <td>johnnydeppisinnocent</td>\n",
       "      <td>against</td>\n",
       "    </tr>\n",
       "    <tr>\n",
       "      <th>...</th>\n",
       "      <td>...</td>\n",
       "      <td>...</td>\n",
       "    </tr>\n",
       "    <tr>\n",
       "      <th>285</th>\n",
       "      <td>the-great-men-of-the-world-support-male-victim...</td>\n",
       "      <td>against</td>\n",
       "    </tr>\n",
       "    <tr>\n",
       "      <th>286</th>\n",
       "      <td>tim-butler-tow-operators-lives-matter</td>\n",
       "      <td>irrelevant</td>\n",
       "    </tr>\n",
       "    <tr>\n",
       "      <th>287</th>\n",
       "      <td>u-s-house-of-representatives-update-our-politi...</td>\n",
       "      <td>irrelevant</td>\n",
       "    </tr>\n",
       "    <tr>\n",
       "      <th>288</th>\n",
       "      <td>boag-s-brewery-bring-wizard-smith-to-the-mainland</td>\n",
       "      <td>irrelevant</td>\n",
       "    </tr>\n",
       "    <tr>\n",
       "      <th>289</th>\n",
       "      <td>NaN</td>\n",
       "      <td>irrelevant</td>\n",
       "    </tr>\n",
       "  </tbody>\n",
       "</table>\n",
       "<p>290 rows × 2 columns</p>\n",
       "</div>"
      ],
      "text/plain": [
       "                                                  slug      status\n",
       "0              hollywood-boycott-aquaman-2-amber-heard     against\n",
       "1    united-states-supreme-court-put-amber-heard-be...     against\n",
       "2    people-with-common-sense-amber-heard-must-be-f...     against\n",
       "3    dc-replace-amber-heard-with-danny-devito-in-aq...     against\n",
       "4                                 johnnydeppisinnocent     against\n",
       "..                                                 ...         ...\n",
       "285  the-great-men-of-the-world-support-male-victim...     against\n",
       "286              tim-butler-tow-operators-lives-matter  irrelevant\n",
       "287  u-s-house-of-representatives-update-our-politi...  irrelevant\n",
       "288  boag-s-brewery-bring-wizard-smith-to-the-mainland  irrelevant\n",
       "289                                                NaN  irrelevant\n",
       "\n",
       "[290 rows x 2 columns]"
      ]
     },
     "execution_count": 56,
     "metadata": {},
     "output_type": "execute_result"
    }
   ],
   "source": [
    "df_out = pd.DataFrame(results.items(), columns=['slug', 'status'])\n",
    "df_out.to_csv('./data/all_petitions_status_manual.csv', index=False)\n",
    "df_out"
   ]
  },
  {
   "cell_type": "code",
   "execution_count": 39,
   "id": "5468d300-48b8-4b23-93aa-3860e7ac9a66",
   "metadata": {},
   "outputs": [],
   "source": [
    "sss = [slug for slug, status in results.items() if status == 'irrelevant']"
   ]
  },
  {
   "cell_type": "code",
   "execution_count": 50,
   "id": "40e9ef95-cad3-4221-bcaa-0bba24626e98",
   "metadata": {},
   "outputs": [],
   "source": [
    "results['warner-brothers-leave-ezra-miller-as-the-flash-and-in-fantastic-beasts-3'] = 'related'\n",
    "results['warner-brothers-for-johnny-depp-to-keep-his-job-as-grindelwald'] = 'against'\n",
    "results['at-t-boycott-warner-media-and-their-parent-company-at-t'] = 'against'"
   ]
  },
  {
   "cell_type": "code",
   "execution_count": 49,
   "id": "3db030a0-3b1e-4237-9419-6e0cb26ad725",
   "metadata": {},
   "outputs": [
    {
     "data": {
      "text/plain": [
       "'at-t-boycott-warner-media-and-their-parent-company-at-t'"
      ]
     },
     "execution_count": 49,
     "metadata": {},
     "output_type": "execute_result"
    }
   ],
   "source": [
    "df[df['petition__slug'] == sss[107]].petition__description.iloc[0]\n",
    "sss[107]"
   ]
  },
  {
   "cell_type": "code",
   "execution_count": 44,
   "id": "bb25c702-2f75-48bd-b621-37aa5e5979c0",
   "metadata": {},
   "outputs": [
    {
     "name": "stdout",
     "output_type": "stream",
     "text": [
      "nan\n"
     ]
    },
    {
     "ename": "IndexError",
     "evalue": "single positional indexer is out-of-bounds",
     "output_type": "error",
     "traceback": [
      "\u001b[0;31m---------------------------------------------------------------------------\u001b[0m",
      "\u001b[0;31mIndexError\u001b[0m                                Traceback (most recent call last)",
      "\u001b[0;32m/tmp/ipykernel_121312/3200477228.py\u001b[0m in \u001b[0;36m<module>\u001b[0;34m\u001b[0m\n\u001b[1;32m      1\u001b[0m \u001b[0;32mfor\u001b[0m \u001b[0ms\u001b[0m \u001b[0;32min\u001b[0m \u001b[0mtqdm\u001b[0m\u001b[0;34m(\u001b[0m\u001b[0msss\u001b[0m\u001b[0;34m)\u001b[0m\u001b[0;34m:\u001b[0m\u001b[0;34m\u001b[0m\u001b[0;34m\u001b[0m\u001b[0m\n\u001b[1;32m      2\u001b[0m     \u001b[0mprint\u001b[0m\u001b[0;34m(\u001b[0m\u001b[0ms\u001b[0m\u001b[0;34m)\u001b[0m\u001b[0;34m\u001b[0m\u001b[0;34m\u001b[0m\u001b[0m\n\u001b[0;32m----> 3\u001b[0;31m     \u001b[0mprint\u001b[0m\u001b[0;34m(\u001b[0m\u001b[0mstr\u001b[0m\u001b[0;34m(\u001b[0m\u001b[0mdf\u001b[0m\u001b[0;34m[\u001b[0m\u001b[0mdf\u001b[0m\u001b[0;34m[\u001b[0m\u001b[0;34m'petition__slug'\u001b[0m\u001b[0;34m]\u001b[0m \u001b[0;34m==\u001b[0m \u001b[0ms\u001b[0m\u001b[0;34m]\u001b[0m\u001b[0;34m.\u001b[0m\u001b[0mpetition__description\u001b[0m\u001b[0;34m.\u001b[0m\u001b[0miloc\u001b[0m\u001b[0;34m[\u001b[0m\u001b[0;36m0\u001b[0m\u001b[0;34m]\u001b[0m\u001b[0;34m)\u001b[0m\u001b[0;34m)\u001b[0m\u001b[0;34m\u001b[0m\u001b[0;34m\u001b[0m\u001b[0m\n\u001b[0m\u001b[1;32m      4\u001b[0m     \u001b[0minput\u001b[0m\u001b[0;34m(\u001b[0m\u001b[0;34m)\u001b[0m\u001b[0;34m\u001b[0m\u001b[0;34m\u001b[0m\u001b[0m\n\u001b[1;32m      5\u001b[0m     \u001b[0mclear_output\u001b[0m\u001b[0;34m(\u001b[0m\u001b[0;34m)\u001b[0m\u001b[0;34m\u001b[0m\u001b[0;34m\u001b[0m\u001b[0m\n",
      "\u001b[0;32m~/miniconda3/envs/rst-changeorg-data/lib/python3.7/site-packages/pandas/core/indexing.py\u001b[0m in \u001b[0;36m__getitem__\u001b[0;34m(self, key)\u001b[0m\n\u001b[1;32m    929\u001b[0m \u001b[0;34m\u001b[0m\u001b[0m\n\u001b[1;32m    930\u001b[0m             \u001b[0mmaybe_callable\u001b[0m \u001b[0;34m=\u001b[0m \u001b[0mcom\u001b[0m\u001b[0;34m.\u001b[0m\u001b[0mapply_if_callable\u001b[0m\u001b[0;34m(\u001b[0m\u001b[0mkey\u001b[0m\u001b[0;34m,\u001b[0m \u001b[0mself\u001b[0m\u001b[0;34m.\u001b[0m\u001b[0mobj\u001b[0m\u001b[0;34m)\u001b[0m\u001b[0;34m\u001b[0m\u001b[0;34m\u001b[0m\u001b[0m\n\u001b[0;32m--> 931\u001b[0;31m             \u001b[0;32mreturn\u001b[0m \u001b[0mself\u001b[0m\u001b[0;34m.\u001b[0m\u001b[0m_getitem_axis\u001b[0m\u001b[0;34m(\u001b[0m\u001b[0mmaybe_callable\u001b[0m\u001b[0;34m,\u001b[0m \u001b[0maxis\u001b[0m\u001b[0;34m=\u001b[0m\u001b[0maxis\u001b[0m\u001b[0;34m)\u001b[0m\u001b[0;34m\u001b[0m\u001b[0;34m\u001b[0m\u001b[0m\n\u001b[0m\u001b[1;32m    932\u001b[0m \u001b[0;34m\u001b[0m\u001b[0m\n\u001b[1;32m    933\u001b[0m     \u001b[0;32mdef\u001b[0m \u001b[0m_is_scalar_access\u001b[0m\u001b[0;34m(\u001b[0m\u001b[0mself\u001b[0m\u001b[0;34m,\u001b[0m \u001b[0mkey\u001b[0m\u001b[0;34m:\u001b[0m \u001b[0mtuple\u001b[0m\u001b[0;34m)\u001b[0m\u001b[0;34m:\u001b[0m\u001b[0;34m\u001b[0m\u001b[0;34m\u001b[0m\u001b[0m\n",
      "\u001b[0;32m~/miniconda3/envs/rst-changeorg-data/lib/python3.7/site-packages/pandas/core/indexing.py\u001b[0m in \u001b[0;36m_getitem_axis\u001b[0;34m(self, key, axis)\u001b[0m\n\u001b[1;32m   1564\u001b[0m \u001b[0;34m\u001b[0m\u001b[0m\n\u001b[1;32m   1565\u001b[0m             \u001b[0;31m# validate the location\u001b[0m\u001b[0;34m\u001b[0m\u001b[0;34m\u001b[0m\u001b[0;34m\u001b[0m\u001b[0m\n\u001b[0;32m-> 1566\u001b[0;31m             \u001b[0mself\u001b[0m\u001b[0;34m.\u001b[0m\u001b[0m_validate_integer\u001b[0m\u001b[0;34m(\u001b[0m\u001b[0mkey\u001b[0m\u001b[0;34m,\u001b[0m \u001b[0maxis\u001b[0m\u001b[0;34m)\u001b[0m\u001b[0;34m\u001b[0m\u001b[0;34m\u001b[0m\u001b[0m\n\u001b[0m\u001b[1;32m   1567\u001b[0m \u001b[0;34m\u001b[0m\u001b[0m\n\u001b[1;32m   1568\u001b[0m             \u001b[0;32mreturn\u001b[0m \u001b[0mself\u001b[0m\u001b[0;34m.\u001b[0m\u001b[0mobj\u001b[0m\u001b[0;34m.\u001b[0m\u001b[0m_ixs\u001b[0m\u001b[0;34m(\u001b[0m\u001b[0mkey\u001b[0m\u001b[0;34m,\u001b[0m \u001b[0maxis\u001b[0m\u001b[0;34m=\u001b[0m\u001b[0maxis\u001b[0m\u001b[0;34m)\u001b[0m\u001b[0;34m\u001b[0m\u001b[0;34m\u001b[0m\u001b[0m\n",
      "\u001b[0;32m~/miniconda3/envs/rst-changeorg-data/lib/python3.7/site-packages/pandas/core/indexing.py\u001b[0m in \u001b[0;36m_validate_integer\u001b[0;34m(self, key, axis)\u001b[0m\n\u001b[1;32m   1498\u001b[0m         \u001b[0mlen_axis\u001b[0m \u001b[0;34m=\u001b[0m \u001b[0mlen\u001b[0m\u001b[0;34m(\u001b[0m\u001b[0mself\u001b[0m\u001b[0;34m.\u001b[0m\u001b[0mobj\u001b[0m\u001b[0;34m.\u001b[0m\u001b[0m_get_axis\u001b[0m\u001b[0;34m(\u001b[0m\u001b[0maxis\u001b[0m\u001b[0;34m)\u001b[0m\u001b[0;34m)\u001b[0m\u001b[0;34m\u001b[0m\u001b[0;34m\u001b[0m\u001b[0m\n\u001b[1;32m   1499\u001b[0m         \u001b[0;32mif\u001b[0m \u001b[0mkey\u001b[0m \u001b[0;34m>=\u001b[0m \u001b[0mlen_axis\u001b[0m \u001b[0;32mor\u001b[0m \u001b[0mkey\u001b[0m \u001b[0;34m<\u001b[0m \u001b[0;34m-\u001b[0m\u001b[0mlen_axis\u001b[0m\u001b[0;34m:\u001b[0m\u001b[0;34m\u001b[0m\u001b[0;34m\u001b[0m\u001b[0m\n\u001b[0;32m-> 1500\u001b[0;31m             \u001b[0;32mraise\u001b[0m \u001b[0mIndexError\u001b[0m\u001b[0;34m(\u001b[0m\u001b[0;34m\"single positional indexer is out-of-bounds\"\u001b[0m\u001b[0;34m)\u001b[0m\u001b[0;34m\u001b[0m\u001b[0;34m\u001b[0m\u001b[0m\n\u001b[0m\u001b[1;32m   1501\u001b[0m \u001b[0;34m\u001b[0m\u001b[0m\n\u001b[1;32m   1502\u001b[0m     \u001b[0;31m# -------------------------------------------------------------------\u001b[0m\u001b[0;34m\u001b[0m\u001b[0;34m\u001b[0m\u001b[0;34m\u001b[0m\u001b[0m\n",
      "\u001b[0;31mIndexError\u001b[0m: single positional indexer is out-of-bounds"
     ]
    }
   ],
   "source": [
    "for s in tqdm(sss):\n",
    "    print(s)\n",
    "    print(str(df[df['petition__slug'] == s].petition__description.iloc[0]))\n",
    "    input()\n",
    "    clear_output()"
   ]
  },
  {
   "cell_type": "code",
   "execution_count": 45,
   "id": "301384f7-b776-4a20-9537-fec2f70071d5",
   "metadata": {},
   "outputs": [
    {
     "data": {
      "text/plain": [
       "108"
      ]
     },
     "execution_count": 45,
     "metadata": {},
     "output_type": "execute_result"
    }
   ],
   "source": [
    "# before\n",
    "sss.index('tim-butler-tow-operators-lives-matter')"
   ]
  },
  {
   "cell_type": "code",
   "execution_count": 59,
   "id": "fcf62655-93dd-40d5-84fd-9b2b41d5d127",
   "metadata": {},
   "outputs": [],
   "source": [
    "from matplotlib import pyplot as plt\n",
    "from collections import Counter"
   ]
  },
  {
   "cell_type": "code",
   "execution_count": 65,
   "id": "fca1bf13-8231-4b6b-9107-fc8c53eaa36d",
   "metadata": {},
   "outputs": [],
   "source": [
    "df_out_filter = df_out[df_out['status'] != 'irrelevant']"
   ]
  },
  {
   "cell_type": "code",
   "execution_count": 66,
   "id": "6ce7a203-7e42-44d3-b162-6c01ba159011",
   "metadata": {},
   "outputs": [],
   "source": [
    "statuses, counts = list(zip(*Counter(df_out_filter.status).most_common()))"
   ]
  },
  {
   "cell_type": "code",
   "execution_count": null,
   "id": "7a041d00-506c-4d75-9435-952b55075c46",
   "metadata": {},
   "outputs": [],
   "source": [
    "plt.title(\"Petitions on Change.Org related to Amber Heard [total=%d]\" % len(df_out_filter))\n",
    "plt.pie(counts, labels=statuses, explode=[0, 0.2, 0], shadow=True)\n",
    "plt.savefig('./figures/amber_heard_change_org_pie_chart.png', bbox_inches='tight')\n",
    "plt.show()"
   ]
  },
  {
   "cell_type": "code",
   "execution_count": null,
   "id": "33f4172e-a2be-476c-a2ee-7b18c1c0be83",
   "metadata": {},
   "outputs": [],
   "source": []
  }
 ],
 "metadata": {
  "kernelspec": {
   "display_name": "Python 3 (ipykernel)",
   "language": "python",
   "name": "python3"
  },
  "language_info": {
   "codemirror_mode": {
    "name": "ipython",
    "version": 3
   },
   "file_extension": ".py",
   "mimetype": "text/x-python",
   "name": "python",
   "nbconvert_exporter": "python",
   "pygments_lexer": "ipython3",
   "version": "3.7.11"
  }
 },
 "nbformat": 4,
 "nbformat_minor": 5
}
