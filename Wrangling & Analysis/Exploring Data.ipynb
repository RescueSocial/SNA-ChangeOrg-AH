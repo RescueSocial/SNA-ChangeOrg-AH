{
 "cells": [
  {
   "cell_type": "code",
   "execution_count": 1,
   "id": "e1ae7283",
   "metadata": {},
   "outputs": [],
   "source": [
    "import pandas as pd\n",
    "import numpy as np\n",
    "import os"
   ]
  },
  {
   "cell_type": "code",
   "execution_count": 2,
   "id": "66cd3e5f",
   "metadata": {},
   "outputs": [
    {
     "name": "stdout",
     "output_type": "stream",
     "text": [
      "/Users/mnagy99/jupyter/AH/Change.org/Change.org_Data\n"
     ]
    }
   ],
   "source": [
    "cd '../../Change.org_Data'"
   ]
  },
  {
   "cell_type": "markdown",
   "id": "702dd6f5",
   "metadata": {},
   "source": [
    "petition --> a formal written request, typically one signed by many people, appealing to authority in respect of a particular cause."
   ]
  },
  {
   "cell_type": "markdown",
   "id": "bf0abc8d",
   "metadata": {},
   "source": [
    "https://www.change.org"
   ]
  },
  {
   "cell_type": "markdown",
   "id": "b4886988",
   "metadata": {},
   "source": [
    "https://www.change.org/p/dc-entertainment-remove-amber-heard-from-aquaman-2"
   ]
  },
  {
   "cell_type": "markdown",
   "id": "d1375384",
   "metadata": {},
   "source": [
    "http://guide.change.org/share"
   ]
  },
  {
   "cell_type": "markdown",
   "id": "16798fc8",
   "metadata": {},
   "source": [
    "# Petitions Comments"
   ]
  },
  {
   "cell_type": "code",
   "execution_count": 3,
   "id": "3279cfa5",
   "metadata": {},
   "outputs": [
    {
     "name": "stdout",
     "output_type": "stream",
     "text": [
      "(17245, 45)\n"
     ]
    },
    {
     "data": {
      "text/html": [
       "<div>\n",
       "<style scoped>\n",
       "    .dataframe tbody tr th:only-of-type {\n",
       "        vertical-align: middle;\n",
       "    }\n",
       "\n",
       "    .dataframe tbody tr th {\n",
       "        vertical-align: top;\n",
       "    }\n",
       "\n",
       "    .dataframe thead th {\n",
       "        text-align: right;\n",
       "    }\n",
       "</style>\n",
       "<table border=\"1\" class=\"dataframe\">\n",
       "  <thead>\n",
       "    <tr style=\"text-align: right;\">\n",
       "      <th></th>\n",
       "      <th>index</th>\n",
       "      <th>id</th>\n",
       "      <th>comment</th>\n",
       "      <th>parent_id</th>\n",
       "      <th>children_count</th>\n",
       "      <th>commentable_type</th>\n",
       "      <th>commentable_id</th>\n",
       "      <th>likes</th>\n",
       "      <th>role</th>\n",
       "      <th>created_at</th>\n",
       "      <th>...</th>\n",
       "      <th>user.photo.sizes.large.size.width</th>\n",
       "      <th>user.photo.sizes.large.size.height</th>\n",
       "      <th>user.photo.sizes.xlarge.url</th>\n",
       "      <th>user.photo.sizes.xlarge.processing</th>\n",
       "      <th>user.photo.sizes.xlarge.size.width</th>\n",
       "      <th>user.photo.sizes.xlarge.size.height</th>\n",
       "      <th>user.roles</th>\n",
       "      <th>commentable_entity.slug</th>\n",
       "      <th>petition__slug</th>\n",
       "      <th>status_manual</th>\n",
       "    </tr>\n",
       "  </thead>\n",
       "  <tbody>\n",
       "    <tr>\n",
       "      <th>0</th>\n",
       "      <td>0</td>\n",
       "      <td>810211260</td>\n",
       "      <td>Johnny Depp is Innocent, Amber Heard is a lier...</td>\n",
       "      <td>0</td>\n",
       "      <td>0</td>\n",
       "      <td>Event</td>\n",
       "      <td>14986339</td>\n",
       "      <td>1</td>\n",
       "      <td>comment</td>\n",
       "      <td>2020-12-07T02:33:21Z</td>\n",
       "      <td>...</td>\n",
       "      <td>400.0</td>\n",
       "      <td>400.0</td>\n",
       "      <td>//assets.change.org/photos/7/uq/dv/QVuqDvrhjPw...</td>\n",
       "      <td>False</td>\n",
       "      <td>800.0</td>\n",
       "      <td>800.0</td>\n",
       "      <td>[]</td>\n",
       "      <td>warner-brothers-save-johnny-depp-as-gellert-gr...</td>\n",
       "      <td>warner-brothers-save-johnny-depp-as-gellert-gr...</td>\n",
       "      <td>against</td>\n",
       "    </tr>\n",
       "    <tr>\n",
       "      <th>1</th>\n",
       "      <td>1</td>\n",
       "      <td>809954316</td>\n",
       "      <td>She's an evil abuser. Justice for JD! She shou...</td>\n",
       "      <td>0</td>\n",
       "      <td>0</td>\n",
       "      <td>Event</td>\n",
       "      <td>14986339</td>\n",
       "      <td>0</td>\n",
       "      <td>comment</td>\n",
       "      <td>2020-12-01T19:45:00Z</td>\n",
       "      <td>...</td>\n",
       "      <td>NaN</td>\n",
       "      <td>NaN</td>\n",
       "      <td>NaN</td>\n",
       "      <td>NaN</td>\n",
       "      <td>NaN</td>\n",
       "      <td>NaN</td>\n",
       "      <td>[]</td>\n",
       "      <td>warner-brothers-save-johnny-depp-as-gellert-gr...</td>\n",
       "      <td>warner-brothers-save-johnny-depp-as-gellert-gr...</td>\n",
       "      <td>against</td>\n",
       "    </tr>\n",
       "  </tbody>\n",
       "</table>\n",
       "<p>2 rows × 45 columns</p>\n",
       "</div>"
      ],
      "text/plain": [
       "   index         id                                            comment  \\\n",
       "0      0  810211260  Johnny Depp is Innocent, Amber Heard is a lier...   \n",
       "1      1  809954316  She's an evil abuser. Justice for JD! She shou...   \n",
       "\n",
       "   parent_id  children_count commentable_type  commentable_id  likes     role  \\\n",
       "0          0               0            Event        14986339      1  comment   \n",
       "1          0               0            Event        14986339      0  comment   \n",
       "\n",
       "             created_at  ...  user.photo.sizes.large.size.width  \\\n",
       "0  2020-12-07T02:33:21Z  ...                              400.0   \n",
       "1  2020-12-01T19:45:00Z  ...                                NaN   \n",
       "\n",
       "   user.photo.sizes.large.size.height  \\\n",
       "0                               400.0   \n",
       "1                                 NaN   \n",
       "\n",
       "                         user.photo.sizes.xlarge.url  \\\n",
       "0  //assets.change.org/photos/7/uq/dv/QVuqDvrhjPw...   \n",
       "1                                                NaN   \n",
       "\n",
       "  user.photo.sizes.xlarge.processing user.photo.sizes.xlarge.size.width  \\\n",
       "0                              False                              800.0   \n",
       "1                                NaN                                NaN   \n",
       "\n",
       "  user.photo.sizes.xlarge.size.height user.roles  \\\n",
       "0                               800.0         []   \n",
       "1                                 NaN         []   \n",
       "\n",
       "                             commentable_entity.slug  \\\n",
       "0  warner-brothers-save-johnny-depp-as-gellert-gr...   \n",
       "1  warner-brothers-save-johnny-depp-as-gellert-gr...   \n",
       "\n",
       "                                      petition__slug status_manual  \n",
       "0  warner-brothers-save-johnny-depp-as-gellert-gr...       against  \n",
       "1  warner-brothers-save-johnny-depp-as-gellert-gr...       against  \n",
       "\n",
       "[2 rows x 45 columns]"
      ]
     },
     "execution_count": 3,
     "metadata": {},
     "output_type": "execute_result"
    }
   ],
   "source": [
    "df_petition1 = pd.read_csv('all_petitions_comments_20211026-132241.csv')\n",
    "print(df_petition1.shape)\n",
    "df_petition1.head(2)"
   ]
  },
  {
   "cell_type": "code",
   "execution_count": 4,
   "id": "a7de759a",
   "metadata": {},
   "outputs": [
    {
     "data": {
      "text/plain": [
       "0"
      ]
     },
     "execution_count": 4,
     "metadata": {},
     "output_type": "execute_result"
    }
   ],
   "source": [
    "df_petition1.duplicated().sum()"
   ]
  },
  {
   "cell_type": "code",
   "execution_count": 5,
   "id": "6fe8d9f4",
   "metadata": {},
   "outputs": [
    {
     "name": "stdout",
     "output_type": "stream",
     "text": [
      "(27238, 45)\n"
     ]
    },
    {
     "data": {
      "text/html": [
       "<div>\n",
       "<style scoped>\n",
       "    .dataframe tbody tr th:only-of-type {\n",
       "        vertical-align: middle;\n",
       "    }\n",
       "\n",
       "    .dataframe tbody tr th {\n",
       "        vertical-align: top;\n",
       "    }\n",
       "\n",
       "    .dataframe thead th {\n",
       "        text-align: right;\n",
       "    }\n",
       "</style>\n",
       "<table border=\"1\" class=\"dataframe\">\n",
       "  <thead>\n",
       "    <tr style=\"text-align: right;\">\n",
       "      <th></th>\n",
       "      <th>index</th>\n",
       "      <th>id</th>\n",
       "      <th>comment</th>\n",
       "      <th>parent_id</th>\n",
       "      <th>children_count</th>\n",
       "      <th>commentable_type</th>\n",
       "      <th>commentable_id</th>\n",
       "      <th>likes</th>\n",
       "      <th>role</th>\n",
       "      <th>created_at</th>\n",
       "      <th>...</th>\n",
       "      <th>user.photo.sizes.large.size.width</th>\n",
       "      <th>user.photo.sizes.large.size.height</th>\n",
       "      <th>user.photo.sizes.xlarge.url</th>\n",
       "      <th>user.photo.sizes.xlarge.processing</th>\n",
       "      <th>user.photo.sizes.xlarge.size.width</th>\n",
       "      <th>user.photo.sizes.xlarge.size.height</th>\n",
       "      <th>user.roles</th>\n",
       "      <th>commentable_entity.slug</th>\n",
       "      <th>petition__slug</th>\n",
       "      <th>status_manual</th>\n",
       "    </tr>\n",
       "  </thead>\n",
       "  <tbody>\n",
       "    <tr>\n",
       "      <th>0</th>\n",
       "      <td>0</td>\n",
       "      <td>810211260</td>\n",
       "      <td>Johnny Depp is Innocent, Amber Heard is a lier...</td>\n",
       "      <td>0</td>\n",
       "      <td>0</td>\n",
       "      <td>Event</td>\n",
       "      <td>14986339</td>\n",
       "      <td>1</td>\n",
       "      <td>comment</td>\n",
       "      <td>2020-12-07T02:33:21Z</td>\n",
       "      <td>...</td>\n",
       "      <td>400.0</td>\n",
       "      <td>400.0</td>\n",
       "      <td>//assets.change.org/photos/7/uq/dv/QVuqDvrhjPw...</td>\n",
       "      <td>False</td>\n",
       "      <td>800.0</td>\n",
       "      <td>800.0</td>\n",
       "      <td>[]</td>\n",
       "      <td>warner-brothers-save-johnny-depp-as-gellert-gr...</td>\n",
       "      <td>warner-brothers-save-johnny-depp-as-gellert-gr...</td>\n",
       "      <td>against</td>\n",
       "    </tr>\n",
       "    <tr>\n",
       "      <th>1</th>\n",
       "      <td>1</td>\n",
       "      <td>809954316</td>\n",
       "      <td>She's an evil abuser. Justice for JD! She shou...</td>\n",
       "      <td>0</td>\n",
       "      <td>0</td>\n",
       "      <td>Event</td>\n",
       "      <td>14986339</td>\n",
       "      <td>0</td>\n",
       "      <td>comment</td>\n",
       "      <td>2020-12-01T19:45:00Z</td>\n",
       "      <td>...</td>\n",
       "      <td>NaN</td>\n",
       "      <td>NaN</td>\n",
       "      <td>NaN</td>\n",
       "      <td>NaN</td>\n",
       "      <td>NaN</td>\n",
       "      <td>NaN</td>\n",
       "      <td>[]</td>\n",
       "      <td>warner-brothers-save-johnny-depp-as-gellert-gr...</td>\n",
       "      <td>warner-brothers-save-johnny-depp-as-gellert-gr...</td>\n",
       "      <td>against</td>\n",
       "    </tr>\n",
       "  </tbody>\n",
       "</table>\n",
       "<p>2 rows × 45 columns</p>\n",
       "</div>"
      ],
      "text/plain": [
       "   index         id                                            comment  \\\n",
       "0      0  810211260  Johnny Depp is Innocent, Amber Heard is a lier...   \n",
       "1      1  809954316  She's an evil abuser. Justice for JD! She shou...   \n",
       "\n",
       "   parent_id  children_count commentable_type  commentable_id  likes     role  \\\n",
       "0          0               0            Event        14986339      1  comment   \n",
       "1          0               0            Event        14986339      0  comment   \n",
       "\n",
       "             created_at  ...  user.photo.sizes.large.size.width  \\\n",
       "0  2020-12-07T02:33:21Z  ...                              400.0   \n",
       "1  2020-12-01T19:45:00Z  ...                                NaN   \n",
       "\n",
       "   user.photo.sizes.large.size.height  \\\n",
       "0                               400.0   \n",
       "1                                 NaN   \n",
       "\n",
       "                         user.photo.sizes.xlarge.url  \\\n",
       "0  //assets.change.org/photos/7/uq/dv/QVuqDvrhjPw...   \n",
       "1                                                NaN   \n",
       "\n",
       "  user.photo.sizes.xlarge.processing user.photo.sizes.xlarge.size.width  \\\n",
       "0                              False                              800.0   \n",
       "1                                NaN                                NaN   \n",
       "\n",
       "  user.photo.sizes.xlarge.size.height user.roles  \\\n",
       "0                               800.0         []   \n",
       "1                                 NaN         []   \n",
       "\n",
       "                             commentable_entity.slug  \\\n",
       "0  warner-brothers-save-johnny-depp-as-gellert-gr...   \n",
       "1  warner-brothers-save-johnny-depp-as-gellert-gr...   \n",
       "\n",
       "                                      petition__slug status_manual  \n",
       "0  warner-brothers-save-johnny-depp-as-gellert-gr...       against  \n",
       "1  warner-brothers-save-johnny-depp-as-gellert-gr...       against  \n",
       "\n",
       "[2 rows x 45 columns]"
      ]
     },
     "execution_count": 5,
     "metadata": {},
     "output_type": "execute_result"
    }
   ],
   "source": [
    "df_petition2 = pd.read_csv('all_petitions_comments_20211112-095033.csv')\n",
    "print(df_petition2.shape)\n",
    "df_petition2.head(2)"
   ]
  },
  {
   "cell_type": "code",
   "execution_count": 6,
   "id": "b4d10b95",
   "metadata": {},
   "outputs": [
    {
     "data": {
      "text/plain": [
       "0"
      ]
     },
     "execution_count": 6,
     "metadata": {},
     "output_type": "execute_result"
    }
   ],
   "source": [
    "df_petition2.duplicated().sum()"
   ]
  },
  {
   "cell_type": "code",
   "execution_count": 7,
   "id": "7f33c1f9",
   "metadata": {},
   "outputs": [
    {
     "name": "stdout",
     "output_type": "stream",
     "text": [
      "As Expected: df_petition1 is part of df_petition2\n"
     ]
    },
    {
     "data": {
      "text/plain": [
       "17245"
      ]
     },
     "execution_count": 7,
     "metadata": {},
     "output_type": "execute_result"
    }
   ],
   "source": [
    "df = df_petition2.append(df_petition1)\n",
    "print('As Expected: df_petition1 is part of df_petition2')\n",
    "df.duplicated().sum()"
   ]
  },
  {
   "cell_type": "markdown",
   "id": "31a85d5d",
   "metadata": {},
   "source": [
    "<br>"
   ]
  },
  {
   "cell_type": "markdown",
   "id": "46bec5b6",
   "metadata": {},
   "source": [
    "# Petitions Milestones"
   ]
  },
  {
   "cell_type": "code",
   "execution_count": 8,
   "id": "3f570b12",
   "metadata": {},
   "outputs": [
    {
     "name": "stdout",
     "output_type": "stream",
     "text": [
      "(1694, 13)\n"
     ]
    },
    {
     "data": {
      "text/html": [
       "<div>\n",
       "<style scoped>\n",
       "    .dataframe tbody tr th:only-of-type {\n",
       "        vertical-align: middle;\n",
       "    }\n",
       "\n",
       "    .dataframe tbody tr th {\n",
       "        vertical-align: top;\n",
       "    }\n",
       "\n",
       "    .dataframe thead th {\n",
       "        text-align: right;\n",
       "    }\n",
       "</style>\n",
       "<table border=\"1\" class=\"dataframe\">\n",
       "  <thead>\n",
       "    <tr style=\"text-align: right;\">\n",
       "      <th></th>\n",
       "      <th>index</th>\n",
       "      <th>__typename</th>\n",
       "      <th>id</th>\n",
       "      <th>createdAt</th>\n",
       "      <th>signatureCount</th>\n",
       "      <th>petition__slug</th>\n",
       "      <th>title</th>\n",
       "      <th>description</th>\n",
       "      <th>photo</th>\n",
       "      <th>video</th>\n",
       "      <th>embeddedMedia</th>\n",
       "      <th>dmResponse</th>\n",
       "      <th>status_manual</th>\n",
       "    </tr>\n",
       "  </thead>\n",
       "  <tbody>\n",
       "    <tr>\n",
       "      <th>0</th>\n",
       "      <td>0</td>\n",
       "      <td>MilestonePetitionUpdate</td>\n",
       "      <td>22850001</td>\n",
       "      <td>2018-06-07T15:47:20.000Z</td>\n",
       "      <td>500.0</td>\n",
       "      <td>jk-rowling-recast-gellert-grindelwald</td>\n",
       "      <td>NaN</td>\n",
       "      <td>NaN</td>\n",
       "      <td>NaN</td>\n",
       "      <td>NaN</td>\n",
       "      <td>NaN</td>\n",
       "      <td>NaN</td>\n",
       "      <td>against</td>\n",
       "    </tr>\n",
       "    <tr>\n",
       "      <th>1</th>\n",
       "      <td>1</td>\n",
       "      <td>MilestonePetitionUpdate</td>\n",
       "      <td>22035832</td>\n",
       "      <td>2017-11-19T08:15:31.000Z</td>\n",
       "      <td>250.0</td>\n",
       "      <td>jk-rowling-recast-gellert-grindelwald</td>\n",
       "      <td>NaN</td>\n",
       "      <td>NaN</td>\n",
       "      <td>NaN</td>\n",
       "      <td>NaN</td>\n",
       "      <td>NaN</td>\n",
       "      <td>NaN</td>\n",
       "      <td>against</td>\n",
       "    </tr>\n",
       "  </tbody>\n",
       "</table>\n",
       "</div>"
      ],
      "text/plain": [
       "   index               __typename        id                 createdAt  \\\n",
       "0      0  MilestonePetitionUpdate  22850001  2018-06-07T15:47:20.000Z   \n",
       "1      1  MilestonePetitionUpdate  22035832  2017-11-19T08:15:31.000Z   \n",
       "\n",
       "   signatureCount                         petition__slug title description  \\\n",
       "0           500.0  jk-rowling-recast-gellert-grindelwald   NaN         NaN   \n",
       "1           250.0  jk-rowling-recast-gellert-grindelwald   NaN         NaN   \n",
       "\n",
       "  photo video embeddedMedia  dmResponse status_manual  \n",
       "0   NaN   NaN           NaN         NaN       against  \n",
       "1   NaN   NaN           NaN         NaN       against  "
      ]
     },
     "execution_count": 8,
     "metadata": {},
     "output_type": "execute_result"
    }
   ],
   "source": [
    "df_milestone1 = pd.read_csv('all_petitions_milestones_20211026-130816.csv')\n",
    "print(df_milestone1.shape)\n",
    "df_milestone1.head(2)"
   ]
  },
  {
   "cell_type": "code",
   "execution_count": 9,
   "id": "8a1acb48",
   "metadata": {},
   "outputs": [
    {
     "data": {
      "text/plain": [
       "52"
      ]
     },
     "execution_count": 9,
     "metadata": {},
     "output_type": "execute_result"
    }
   ],
   "source": [
    "df_milestone1.duplicated().sum()"
   ]
  },
  {
   "cell_type": "code",
   "execution_count": 10,
   "id": "81b96ca8",
   "metadata": {},
   "outputs": [
    {
     "name": "stdout",
     "output_type": "stream",
     "text": [
      "(1642, 13)\n"
     ]
    },
    {
     "data": {
      "text/plain": [
       "0"
      ]
     },
     "execution_count": 10,
     "metadata": {},
     "output_type": "execute_result"
    }
   ],
   "source": [
    "df_milestone1.drop_duplicates(inplace=True)\n",
    "print(df_milestone1.shape)\n",
    "df_milestone1.duplicated().sum()"
   ]
  },
  {
   "cell_type": "code",
   "execution_count": 11,
   "id": "6b877374",
   "metadata": {},
   "outputs": [
    {
     "name": "stdout",
     "output_type": "stream",
     "text": [
      "(2054, 13)\n"
     ]
    },
    {
     "data": {
      "text/html": [
       "<div>\n",
       "<style scoped>\n",
       "    .dataframe tbody tr th:only-of-type {\n",
       "        vertical-align: middle;\n",
       "    }\n",
       "\n",
       "    .dataframe tbody tr th {\n",
       "        vertical-align: top;\n",
       "    }\n",
       "\n",
       "    .dataframe thead th {\n",
       "        text-align: right;\n",
       "    }\n",
       "</style>\n",
       "<table border=\"1\" class=\"dataframe\">\n",
       "  <thead>\n",
       "    <tr style=\"text-align: right;\">\n",
       "      <th></th>\n",
       "      <th>index</th>\n",
       "      <th>__typename</th>\n",
       "      <th>id</th>\n",
       "      <th>createdAt</th>\n",
       "      <th>signatureCount</th>\n",
       "      <th>petition__slug</th>\n",
       "      <th>title</th>\n",
       "      <th>description</th>\n",
       "      <th>photo</th>\n",
       "      <th>video</th>\n",
       "      <th>embeddedMedia</th>\n",
       "      <th>dmResponse</th>\n",
       "      <th>status_manual</th>\n",
       "    </tr>\n",
       "  </thead>\n",
       "  <tbody>\n",
       "    <tr>\n",
       "      <th>0</th>\n",
       "      <td>0</td>\n",
       "      <td>MilestonePetitionUpdate</td>\n",
       "      <td>22850001</td>\n",
       "      <td>2018-06-07T15:47:20.000Z</td>\n",
       "      <td>500.0</td>\n",
       "      <td>jk-rowling-recast-gellert-grindelwald</td>\n",
       "      <td>NaN</td>\n",
       "      <td>NaN</td>\n",
       "      <td>NaN</td>\n",
       "      <td>NaN</td>\n",
       "      <td>NaN</td>\n",
       "      <td>NaN</td>\n",
       "      <td>against</td>\n",
       "    </tr>\n",
       "    <tr>\n",
       "      <th>1</th>\n",
       "      <td>1</td>\n",
       "      <td>MilestonePetitionUpdate</td>\n",
       "      <td>22035832</td>\n",
       "      <td>2017-11-19T08:15:31.000Z</td>\n",
       "      <td>250.0</td>\n",
       "      <td>jk-rowling-recast-gellert-grindelwald</td>\n",
       "      <td>NaN</td>\n",
       "      <td>NaN</td>\n",
       "      <td>NaN</td>\n",
       "      <td>NaN</td>\n",
       "      <td>NaN</td>\n",
       "      <td>NaN</td>\n",
       "      <td>against</td>\n",
       "    </tr>\n",
       "  </tbody>\n",
       "</table>\n",
       "</div>"
      ],
      "text/plain": [
       "   index               __typename        id                 createdAt  \\\n",
       "0      0  MilestonePetitionUpdate  22850001  2018-06-07T15:47:20.000Z   \n",
       "1      1  MilestonePetitionUpdate  22035832  2017-11-19T08:15:31.000Z   \n",
       "\n",
       "   signatureCount                         petition__slug title description  \\\n",
       "0           500.0  jk-rowling-recast-gellert-grindelwald   NaN         NaN   \n",
       "1           250.0  jk-rowling-recast-gellert-grindelwald   NaN         NaN   \n",
       "\n",
       "  photo video embeddedMedia  dmResponse status_manual  \n",
       "0   NaN   NaN           NaN         NaN       against  \n",
       "1   NaN   NaN           NaN         NaN       against  "
      ]
     },
     "execution_count": 11,
     "metadata": {},
     "output_type": "execute_result"
    }
   ],
   "source": [
    "df_milestone2 = pd.read_csv('all_petitions_milestones_20211112-093758.csv')\n",
    "print(df_milestone2.shape)\n",
    "df_milestone2.head(2)"
   ]
  },
  {
   "cell_type": "code",
   "execution_count": 12,
   "id": "4c2b1e07",
   "metadata": {},
   "outputs": [
    {
     "data": {
      "text/plain": [
       "52"
      ]
     },
     "execution_count": 12,
     "metadata": {},
     "output_type": "execute_result"
    }
   ],
   "source": [
    "df_milestone2.duplicated().sum()"
   ]
  },
  {
   "cell_type": "code",
   "execution_count": 13,
   "id": "f8ff9b4f",
   "metadata": {},
   "outputs": [
    {
     "data": {
      "text/plain": [
       "0"
      ]
     },
     "execution_count": 13,
     "metadata": {},
     "output_type": "execute_result"
    }
   ],
   "source": [
    "df_milestone2.drop_duplicates(inplace=True)\n",
    "df_milestone2.duplicated().sum()"
   ]
  },
  {
   "cell_type": "code",
   "execution_count": 14,
   "id": "8b0a8699",
   "metadata": {},
   "outputs": [
    {
     "name": "stdout",
     "output_type": "stream",
     "text": [
      "As Expected: df_milestone1 is part of df_milestone2\n"
     ]
    },
    {
     "data": {
      "text/plain": [
       "1642"
      ]
     },
     "execution_count": 14,
     "metadata": {},
     "output_type": "execute_result"
    }
   ],
   "source": [
    "df = df_milestone2.append(df_milestone1)\n",
    "print('As Expected: df_milestone1 is part of df_milestone2')\n",
    "df.duplicated().sum()"
   ]
  },
  {
   "cell_type": "markdown",
   "id": "83a6b65e",
   "metadata": {},
   "source": [
    "<br>"
   ]
  },
  {
   "cell_type": "markdown",
   "id": "201c8215",
   "metadata": {},
   "source": [
    "# Petition Slugs"
   ]
  },
  {
   "cell_type": "code",
   "execution_count": 15,
   "id": "aa51c72b",
   "metadata": {},
   "outputs": [],
   "source": [
    "data = 'change_org_comments_petition_slug_hollywood-boycott-aquaman-2-amber-heard_at_20211005-210520_limit_1000_offset_0_delay_ms_100.csv'\n"
   ]
  },
  {
   "cell_type": "code",
   "execution_count": 16,
   "id": "9e0703cb",
   "metadata": {},
   "outputs": [
    {
     "name": "stdout",
     "output_type": "stream",
     "text": [
      "(545, 236)\n"
     ]
    },
    {
     "data": {
      "text/html": [
       "<div>\n",
       "<style scoped>\n",
       "    .dataframe tbody tr th:only-of-type {\n",
       "        vertical-align: middle;\n",
       "    }\n",
       "\n",
       "    .dataframe tbody tr th {\n",
       "        vertical-align: top;\n",
       "    }\n",
       "\n",
       "    .dataframe thead th {\n",
       "        text-align: right;\n",
       "    }\n",
       "</style>\n",
       "<table border=\"1\" class=\"dataframe\">\n",
       "  <thead>\n",
       "    <tr style=\"text-align: right;\">\n",
       "      <th></th>\n",
       "      <th>id</th>\n",
       "      <th>comment</th>\n",
       "      <th>parent_id</th>\n",
       "      <th>children_count</th>\n",
       "      <th>commentable_type</th>\n",
       "      <th>commentable_id</th>\n",
       "      <th>likes</th>\n",
       "      <th>role</th>\n",
       "      <th>created_at</th>\n",
       "      <th>deleted_at</th>\n",
       "      <th>...</th>\n",
       "      <th>user__photo__sizes__medium__size__width</th>\n",
       "      <th>user__photo__sizes__medium__size__height</th>\n",
       "      <th>user__photo__sizes__large__url</th>\n",
       "      <th>user__photo__sizes__large__processing</th>\n",
       "      <th>user__photo__sizes__large__size__width</th>\n",
       "      <th>user__photo__sizes__large__size__height</th>\n",
       "      <th>user__photo__sizes__xlarge__url</th>\n",
       "      <th>user__photo__sizes__xlarge__processing</th>\n",
       "      <th>user__photo__sizes__xlarge__size__width</th>\n",
       "      <th>user__photo__sizes__xlarge__size__height</th>\n",
       "    </tr>\n",
       "  </thead>\n",
       "  <tbody>\n",
       "    <tr>\n",
       "      <th>0</th>\n",
       "      <td>824608820</td>\n",
       "      <td>This makes me sick to my stomach. Because this...</td>\n",
       "      <td>0</td>\n",
       "      <td>0</td>\n",
       "      <td>Event</td>\n",
       "      <td>20569720</td>\n",
       "      <td>2</td>\n",
       "      <td>comment_dashboard</td>\n",
       "      <td>2021-10-04T11:15:26Z</td>\n",
       "      <td>NaN</td>\n",
       "      <td>...</td>\n",
       "      <td>NaN</td>\n",
       "      <td>NaN</td>\n",
       "      <td>NaN</td>\n",
       "      <td>NaN</td>\n",
       "      <td>NaN</td>\n",
       "      <td>NaN</td>\n",
       "      <td>NaN</td>\n",
       "      <td>NaN</td>\n",
       "      <td>NaN</td>\n",
       "      <td>NaN</td>\n",
       "    </tr>\n",
       "    <tr>\n",
       "      <th>1</th>\n",
       "      <td>824601456</td>\n",
       "      <td>take her roles away from her!!!</td>\n",
       "      <td>0</td>\n",
       "      <td>0</td>\n",
       "      <td>Event</td>\n",
       "      <td>20569720</td>\n",
       "      <td>2</td>\n",
       "      <td>comment</td>\n",
       "      <td>2021-10-04T06:33:44Z</td>\n",
       "      <td>NaN</td>\n",
       "      <td>...</td>\n",
       "      <td>NaN</td>\n",
       "      <td>NaN</td>\n",
       "      <td>NaN</td>\n",
       "      <td>NaN</td>\n",
       "      <td>NaN</td>\n",
       "      <td>NaN</td>\n",
       "      <td>NaN</td>\n",
       "      <td>NaN</td>\n",
       "      <td>NaN</td>\n",
       "      <td>NaN</td>\n",
       "    </tr>\n",
       "  </tbody>\n",
       "</table>\n",
       "<p>2 rows × 236 columns</p>\n",
       "</div>"
      ],
      "text/plain": [
       "          id                                            comment  parent_id  \\\n",
       "0  824608820  This makes me sick to my stomach. Because this...          0   \n",
       "1  824601456                    take her roles away from her!!!          0   \n",
       "\n",
       "   children_count commentable_type  commentable_id  likes               role  \\\n",
       "0               0            Event        20569720      2  comment_dashboard   \n",
       "1               0            Event        20569720      2            comment   \n",
       "\n",
       "             created_at  deleted_at  ...  \\\n",
       "0  2021-10-04T11:15:26Z         NaN  ...   \n",
       "1  2021-10-04T06:33:44Z         NaN  ...   \n",
       "\n",
       "   user__photo__sizes__medium__size__width  \\\n",
       "0                                      NaN   \n",
       "1                                      NaN   \n",
       "\n",
       "  user__photo__sizes__medium__size__height user__photo__sizes__large__url  \\\n",
       "0                                      NaN                            NaN   \n",
       "1                                      NaN                            NaN   \n",
       "\n",
       "  user__photo__sizes__large__processing  \\\n",
       "0                                   NaN   \n",
       "1                                   NaN   \n",
       "\n",
       "  user__photo__sizes__large__size__width  \\\n",
       "0                                    NaN   \n",
       "1                                    NaN   \n",
       "\n",
       "  user__photo__sizes__large__size__height user__photo__sizes__xlarge__url  \\\n",
       "0                                     NaN                             NaN   \n",
       "1                                     NaN                             NaN   \n",
       "\n",
       "  user__photo__sizes__xlarge__processing  \\\n",
       "0                                    NaN   \n",
       "1                                    NaN   \n",
       "\n",
       "  user__photo__sizes__xlarge__size__width  \\\n",
       "0                                     NaN   \n",
       "1                                     NaN   \n",
       "\n",
       "  user__photo__sizes__xlarge__size__height  \n",
       "0                                      NaN  \n",
       "1                                      NaN  \n",
       "\n",
       "[2 rows x 236 columns]"
      ]
     },
     "execution_count": 16,
     "metadata": {},
     "output_type": "execute_result"
    }
   ],
   "source": [
    "df_change = pd.read_csv(data)\n",
    "print(df_change.shape)\n",
    "df_change.head(2)"
   ]
  },
  {
   "cell_type": "code",
   "execution_count": 17,
   "id": "a5542eae",
   "metadata": {},
   "outputs": [],
   "source": [
    "data = 'change_org_petition_slug_united-states-supreme-court-put-amber-heard-behind-bars_at_20210821-084803_max_number_signatures_30 (1).csv'\n"
   ]
  },
  {
   "cell_type": "code",
   "execution_count": 18,
   "id": "037fb39b",
   "metadata": {},
   "outputs": [
    {
     "name": "stdout",
     "output_type": "stream",
     "text": [
      "(20, 6)\n"
     ]
    },
    {
     "data": {
      "text/html": [
       "<div>\n",
       "<style scoped>\n",
       "    .dataframe tbody tr th:only-of-type {\n",
       "        vertical-align: middle;\n",
       "    }\n",
       "\n",
       "    .dataframe tbody tr th {\n",
       "        vertical-align: top;\n",
       "    }\n",
       "\n",
       "    .dataframe thead th {\n",
       "        text-align: right;\n",
       "    }\n",
       "</style>\n",
       "<table border=\"1\" class=\"dataframe\">\n",
       "  <thead>\n",
       "    <tr style=\"text-align: right;\">\n",
       "      <th></th>\n",
       "      <th>timestamp</th>\n",
       "      <th>node.id</th>\n",
       "      <th>node.displayName</th>\n",
       "      <th>node.photo.id</th>\n",
       "      <th>node.photo.userSmall.url</th>\n",
       "      <th>node.photo</th>\n",
       "    </tr>\n",
       "  </thead>\n",
       "  <tbody>\n",
       "    <tr>\n",
       "      <th>0</th>\n",
       "      <td>2021-08-21T04:49:10.683Z</td>\n",
       "      <td>863157274</td>\n",
       "      <td>Amber Rye</td>\n",
       "      <td>219445047.0</td>\n",
       "      <td>//assets.change.org/photos/8/rg/hp/PXrgHPphSlm...</td>\n",
       "      <td>NaN</td>\n",
       "    </tr>\n",
       "    <tr>\n",
       "      <th>1</th>\n",
       "      <td>2021-08-20T11:39:35.670Z</td>\n",
       "      <td>980832060</td>\n",
       "      <td>Roosa Heikkinen</td>\n",
       "      <td>NaN</td>\n",
       "      <td>NaN</td>\n",
       "      <td>NaN</td>\n",
       "    </tr>\n",
       "    <tr>\n",
       "      <th>2</th>\n",
       "      <td>2021-08-16T19:36:05.456Z</td>\n",
       "      <td>1125452083</td>\n",
       "      <td>Lydia Fiebig</td>\n",
       "      <td>NaN</td>\n",
       "      <td>NaN</td>\n",
       "      <td>NaN</td>\n",
       "    </tr>\n",
       "    <tr>\n",
       "      <th>3</th>\n",
       "      <td>2021-08-15T13:25:45.699Z</td>\n",
       "      <td>1221146397</td>\n",
       "      <td>Prasanjit Biswal</td>\n",
       "      <td>NaN</td>\n",
       "      <td>NaN</td>\n",
       "      <td>NaN</td>\n",
       "    </tr>\n",
       "    <tr>\n",
       "      <th>4</th>\n",
       "      <td>2021-08-14T06:28:21.497Z</td>\n",
       "      <td>1220881815</td>\n",
       "      <td>Vinayak Ray</td>\n",
       "      <td>NaN</td>\n",
       "      <td>NaN</td>\n",
       "      <td>NaN</td>\n",
       "    </tr>\n",
       "  </tbody>\n",
       "</table>\n",
       "</div>"
      ],
      "text/plain": [
       "                  timestamp     node.id  node.displayName  node.photo.id  \\\n",
       "0  2021-08-21T04:49:10.683Z   863157274         Amber Rye    219445047.0   \n",
       "1  2021-08-20T11:39:35.670Z   980832060   Roosa Heikkinen            NaN   \n",
       "2  2021-08-16T19:36:05.456Z  1125452083      Lydia Fiebig            NaN   \n",
       "3  2021-08-15T13:25:45.699Z  1221146397  Prasanjit Biswal            NaN   \n",
       "4  2021-08-14T06:28:21.497Z  1220881815       Vinayak Ray            NaN   \n",
       "\n",
       "                            node.photo.userSmall.url  node.photo  \n",
       "0  //assets.change.org/photos/8/rg/hp/PXrgHPphSlm...         NaN  \n",
       "1                                                NaN         NaN  \n",
       "2                                                NaN         NaN  \n",
       "3                                                NaN         NaN  \n",
       "4                                                NaN         NaN  "
      ]
     },
     "execution_count": 18,
     "metadata": {},
     "output_type": "execute_result"
    }
   ],
   "source": [
    "df_change = pd.read_csv(data)\n",
    "print(df_change.shape)\n",
    "df_change.head()"
   ]
  },
  {
   "cell_type": "markdown",
   "id": "e6cfb9a4",
   "metadata": {},
   "source": [
    "<br>"
   ]
  },
  {
   "cell_type": "markdown",
   "id": "c09d2096",
   "metadata": {},
   "source": [
    "The Below Data are the Same "
   ]
  },
  {
   "cell_type": "code",
   "execution_count": 19,
   "id": "0e68bd10",
   "metadata": {},
   "outputs": [],
   "source": [
    "data = 'change_org_petitions_Amber_Heard_at_20211005-222550_limit_1000_offset_0_delay_ms_500 (1).csv'"
   ]
  },
  {
   "cell_type": "code",
   "execution_count": 20,
   "id": "1368544e",
   "metadata": {},
   "outputs": [
    {
     "name": "stdout",
     "output_type": "stream",
     "text": [
      "(293, 367)\n"
     ]
    },
    {
     "data": {
      "text/html": [
       "<div>\n",
       "<style scoped>\n",
       "    .dataframe tbody tr th:only-of-type {\n",
       "        vertical-align: middle;\n",
       "    }\n",
       "\n",
       "    .dataframe tbody tr th {\n",
       "        vertical-align: top;\n",
       "    }\n",
       "\n",
       "    .dataframe thead th {\n",
       "        text-align: right;\n",
       "    }\n",
       "</style>\n",
       "<table border=\"1\" class=\"dataframe\">\n",
       "  <thead>\n",
       "    <tr style=\"text-align: right;\">\n",
       "      <th></th>\n",
       "      <th>_index</th>\n",
       "      <th>_type</th>\n",
       "      <th>_id</th>\n",
       "      <th>_score</th>\n",
       "      <th>_source__total_signature_count</th>\n",
       "      <th>_source__created_locale</th>\n",
       "      <th>_source__first_name</th>\n",
       "      <th>_source__weekly_signature_count</th>\n",
       "      <th>_source__recent_activity_date</th>\n",
       "      <th>_source__is_pledge</th>\n",
       "      <th>...</th>\n",
       "      <th>petition__organization__photo_id</th>\n",
       "      <th>petition__photo</th>\n",
       "      <th>petition__restricted_location__city</th>\n",
       "      <th>petition__restricted_location__country_code</th>\n",
       "      <th>petition__restricted_location__lat</th>\n",
       "      <th>petition__restricted_location__lng</th>\n",
       "      <th>petition__restricted_location__state_code</th>\n",
       "      <th>petition__restricted_location__google_places_id</th>\n",
       "      <th>petition__restricted_location__photo_id</th>\n",
       "      <th>petition__missingPetition</th>\n",
       "    </tr>\n",
       "  </thead>\n",
       "  <tbody>\n",
       "    <tr>\n",
       "      <th>0</th>\n",
       "      <td>petitions-en</td>\n",
       "      <td>petitions</td>\n",
       "      <td>20569720::Amber Heard</td>\n",
       "      <td>7.115500</td>\n",
       "      <td>23844</td>\n",
       "      <td>en-US</td>\n",
       "      <td>Linda</td>\n",
       "      <td>324</td>\n",
       "      <td>2020-03-01T07:41:24Z</td>\n",
       "      <td>False</td>\n",
       "      <td>...</td>\n",
       "      <td>NaN</td>\n",
       "      <td>NaN</td>\n",
       "      <td>NaN</td>\n",
       "      <td>NaN</td>\n",
       "      <td>NaN</td>\n",
       "      <td>NaN</td>\n",
       "      <td>NaN</td>\n",
       "      <td>NaN</td>\n",
       "      <td>NaN</td>\n",
       "      <td>NaN</td>\n",
       "    </tr>\n",
       "    <tr>\n",
       "      <th>1</th>\n",
       "      <td>petitions-en</td>\n",
       "      <td>petitions</td>\n",
       "      <td>26062476::Amber Heard</td>\n",
       "      <td>6.871536</td>\n",
       "      <td>13594</td>\n",
       "      <td>en-US</td>\n",
       "      <td>Kasandra</td>\n",
       "      <td>77</td>\n",
       "      <td>2021-01-14T22:55:30Z</td>\n",
       "      <td>False</td>\n",
       "      <td>...</td>\n",
       "      <td>NaN</td>\n",
       "      <td>NaN</td>\n",
       "      <td>NaN</td>\n",
       "      <td>NaN</td>\n",
       "      <td>NaN</td>\n",
       "      <td>NaN</td>\n",
       "      <td>NaN</td>\n",
       "      <td>NaN</td>\n",
       "      <td>NaN</td>\n",
       "      <td>NaN</td>\n",
       "    </tr>\n",
       "  </tbody>\n",
       "</table>\n",
       "<p>2 rows × 367 columns</p>\n",
       "</div>"
      ],
      "text/plain": [
       "         _index      _type                    _id    _score  \\\n",
       "0  petitions-en  petitions  20569720::Amber Heard  7.115500   \n",
       "1  petitions-en  petitions  26062476::Amber Heard  6.871536   \n",
       "\n",
       "   _source__total_signature_count _source__created_locale _source__first_name  \\\n",
       "0                           23844                   en-US               Linda   \n",
       "1                           13594                   en-US            Kasandra   \n",
       "\n",
       "   _source__weekly_signature_count _source__recent_activity_date  \\\n",
       "0                              324          2020-03-01T07:41:24Z   \n",
       "1                               77          2021-01-14T22:55:30Z   \n",
       "\n",
       "   _source__is_pledge  ... petition__organization__photo_id petition__photo  \\\n",
       "0               False  ...                              NaN             NaN   \n",
       "1               False  ...                              NaN             NaN   \n",
       "\n",
       "   petition__restricted_location__city  \\\n",
       "0                                  NaN   \n",
       "1                                  NaN   \n",
       "\n",
       "   petition__restricted_location__country_code  \\\n",
       "0                                          NaN   \n",
       "1                                          NaN   \n",
       "\n",
       "  petition__restricted_location__lat  petition__restricted_location__lng  \\\n",
       "0                                NaN                                 NaN   \n",
       "1                                NaN                                 NaN   \n",
       "\n",
       "  petition__restricted_location__state_code  \\\n",
       "0                                       NaN   \n",
       "1                                       NaN   \n",
       "\n",
       "   petition__restricted_location__google_places_id  \\\n",
       "0                                              NaN   \n",
       "1                                              NaN   \n",
       "\n",
       "  petition__restricted_location__photo_id  petition__missingPetition  \n",
       "0                                     NaN                        NaN  \n",
       "1                                     NaN                        NaN  \n",
       "\n",
       "[2 rows x 367 columns]"
      ]
     },
     "execution_count": 20,
     "metadata": {},
     "output_type": "execute_result"
    }
   ],
   "source": [
    "df_change1 = pd.read_csv(data)\n",
    "print(df_change1.shape)\n",
    "df_change1.head(2)"
   ]
  },
  {
   "cell_type": "code",
   "execution_count": 21,
   "id": "12c2f17b",
   "metadata": {},
   "outputs": [],
   "source": [
    "data = 'change_org_petitions_Amber_Heard_at_20211005-222550_limit_1000_offset_0_delay_ms_500 (2).csv'"
   ]
  },
  {
   "cell_type": "code",
   "execution_count": 22,
   "id": "469da76f",
   "metadata": {},
   "outputs": [
    {
     "name": "stdout",
     "output_type": "stream",
     "text": [
      "(293, 367)\n"
     ]
    },
    {
     "data": {
      "text/html": [
       "<div>\n",
       "<style scoped>\n",
       "    .dataframe tbody tr th:only-of-type {\n",
       "        vertical-align: middle;\n",
       "    }\n",
       "\n",
       "    .dataframe tbody tr th {\n",
       "        vertical-align: top;\n",
       "    }\n",
       "\n",
       "    .dataframe thead th {\n",
       "        text-align: right;\n",
       "    }\n",
       "</style>\n",
       "<table border=\"1\" class=\"dataframe\">\n",
       "  <thead>\n",
       "    <tr style=\"text-align: right;\">\n",
       "      <th></th>\n",
       "      <th>_index</th>\n",
       "      <th>_type</th>\n",
       "      <th>_id</th>\n",
       "      <th>_score</th>\n",
       "      <th>_source__total_signature_count</th>\n",
       "      <th>_source__created_locale</th>\n",
       "      <th>_source__first_name</th>\n",
       "      <th>_source__weekly_signature_count</th>\n",
       "      <th>_source__recent_activity_date</th>\n",
       "      <th>_source__is_pledge</th>\n",
       "      <th>...</th>\n",
       "      <th>petition__organization__photo_id</th>\n",
       "      <th>petition__photo</th>\n",
       "      <th>petition__restricted_location__city</th>\n",
       "      <th>petition__restricted_location__country_code</th>\n",
       "      <th>petition__restricted_location__lat</th>\n",
       "      <th>petition__restricted_location__lng</th>\n",
       "      <th>petition__restricted_location__state_code</th>\n",
       "      <th>petition__restricted_location__google_places_id</th>\n",
       "      <th>petition__restricted_location__photo_id</th>\n",
       "      <th>petition__missingPetition</th>\n",
       "    </tr>\n",
       "  </thead>\n",
       "  <tbody>\n",
       "    <tr>\n",
       "      <th>0</th>\n",
       "      <td>petitions-en</td>\n",
       "      <td>petitions</td>\n",
       "      <td>20569720::Amber Heard</td>\n",
       "      <td>7.115500</td>\n",
       "      <td>23844</td>\n",
       "      <td>en-US</td>\n",
       "      <td>Linda</td>\n",
       "      <td>324</td>\n",
       "      <td>2020-03-01T07:41:24Z</td>\n",
       "      <td>False</td>\n",
       "      <td>...</td>\n",
       "      <td>NaN</td>\n",
       "      <td>NaN</td>\n",
       "      <td>NaN</td>\n",
       "      <td>NaN</td>\n",
       "      <td>NaN</td>\n",
       "      <td>NaN</td>\n",
       "      <td>NaN</td>\n",
       "      <td>NaN</td>\n",
       "      <td>NaN</td>\n",
       "      <td>NaN</td>\n",
       "    </tr>\n",
       "    <tr>\n",
       "      <th>1</th>\n",
       "      <td>petitions-en</td>\n",
       "      <td>petitions</td>\n",
       "      <td>26062476::Amber Heard</td>\n",
       "      <td>6.871536</td>\n",
       "      <td>13594</td>\n",
       "      <td>en-US</td>\n",
       "      <td>Kasandra</td>\n",
       "      <td>77</td>\n",
       "      <td>2021-01-14T22:55:30Z</td>\n",
       "      <td>False</td>\n",
       "      <td>...</td>\n",
       "      <td>NaN</td>\n",
       "      <td>NaN</td>\n",
       "      <td>NaN</td>\n",
       "      <td>NaN</td>\n",
       "      <td>NaN</td>\n",
       "      <td>NaN</td>\n",
       "      <td>NaN</td>\n",
       "      <td>NaN</td>\n",
       "      <td>NaN</td>\n",
       "      <td>NaN</td>\n",
       "    </tr>\n",
       "  </tbody>\n",
       "</table>\n",
       "<p>2 rows × 367 columns</p>\n",
       "</div>"
      ],
      "text/plain": [
       "         _index      _type                    _id    _score  \\\n",
       "0  petitions-en  petitions  20569720::Amber Heard  7.115500   \n",
       "1  petitions-en  petitions  26062476::Amber Heard  6.871536   \n",
       "\n",
       "   _source__total_signature_count _source__created_locale _source__first_name  \\\n",
       "0                           23844                   en-US               Linda   \n",
       "1                           13594                   en-US            Kasandra   \n",
       "\n",
       "   _source__weekly_signature_count _source__recent_activity_date  \\\n",
       "0                              324          2020-03-01T07:41:24Z   \n",
       "1                               77          2021-01-14T22:55:30Z   \n",
       "\n",
       "   _source__is_pledge  ... petition__organization__photo_id petition__photo  \\\n",
       "0               False  ...                              NaN             NaN   \n",
       "1               False  ...                              NaN             NaN   \n",
       "\n",
       "   petition__restricted_location__city  \\\n",
       "0                                  NaN   \n",
       "1                                  NaN   \n",
       "\n",
       "   petition__restricted_location__country_code  \\\n",
       "0                                          NaN   \n",
       "1                                          NaN   \n",
       "\n",
       "  petition__restricted_location__lat  petition__restricted_location__lng  \\\n",
       "0                                NaN                                 NaN   \n",
       "1                                NaN                                 NaN   \n",
       "\n",
       "  petition__restricted_location__state_code  \\\n",
       "0                                       NaN   \n",
       "1                                       NaN   \n",
       "\n",
       "   petition__restricted_location__google_places_id  \\\n",
       "0                                              NaN   \n",
       "1                                              NaN   \n",
       "\n",
       "  petition__restricted_location__photo_id  petition__missingPetition  \n",
       "0                                     NaN                        NaN  \n",
       "1                                     NaN                        NaN  \n",
       "\n",
       "[2 rows x 367 columns]"
      ]
     },
     "execution_count": 22,
     "metadata": {},
     "output_type": "execute_result"
    }
   ],
   "source": [
    "df_change2 = pd.read_csv(data)\n",
    "print(df_change2.shape)\n",
    "df_change2.head(2)"
   ]
  },
  {
   "cell_type": "markdown",
   "id": "4520749b",
   "metadata": {},
   "source": [
    "https://stackoverflow.com/questions/17095101/compare-two-dataframes-and-output-their-differences-side-by-side"
   ]
  },
  {
   "cell_type": "markdown",
   "id": "4b51a2fe",
   "metadata": {},
   "source": [
    "https://stackoverflow.com/questions/19917545/comparing-two-pandas-dataframes-for-differences"
   ]
  },
  {
   "cell_type": "code",
   "execution_count": 23,
   "id": "c4b77363",
   "metadata": {},
   "outputs": [],
   "source": [
    "# def is_dfs_equal(df1, df2):\n",
    "#     from pandas.testing import assert_frame_equal\n",
    "#     try:\n",
    "#         assert_frame_equal(df1, df2)\n",
    "#         return True\n",
    "#     except:  # appeantly AssertionError doesn't catch all\n",
    "#         return False"
   ]
  },
  {
   "cell_type": "code",
   "execution_count": null,
   "id": "98f7202c",
   "metadata": {},
   "outputs": [],
   "source": [
    "# is_dfs_equal(df_change1, df_change2)"
   ]
  },
  {
   "cell_type": "code",
   "execution_count": 25,
   "id": "6929b6a2",
   "metadata": {},
   "outputs": [
    {
     "data": {
      "text/plain": [
       "True"
      ]
     },
     "execution_count": 25,
     "metadata": {},
     "output_type": "execute_result"
    }
   ],
   "source": [
    "df_change1.equals(df_change2)"
   ]
  },
  {
   "cell_type": "code",
   "execution_count": 26,
   "id": "d00b7f5d",
   "metadata": {},
   "outputs": [
    {
     "data": {
      "text/plain": [
       "0"
      ]
     },
     "execution_count": 26,
     "metadata": {},
     "output_type": "execute_result"
    }
   ],
   "source": [
    "(df_change1 != df_change2).all(1).sum()"
   ]
  },
  {
   "cell_type": "code",
   "execution_count": 27,
   "id": "237eb57f",
   "metadata": {},
   "outputs": [],
   "source": [
    "data = 'change_org_petitions_Amber_Heard_at_20211005-222550_limit_1000_offset_0_delay_ms_500.csv'"
   ]
  },
  {
   "cell_type": "code",
   "execution_count": 28,
   "id": "fa111eed",
   "metadata": {},
   "outputs": [
    {
     "name": "stdout",
     "output_type": "stream",
     "text": [
      "(293, 367)\n"
     ]
    },
    {
     "data": {
      "text/html": [
       "<div>\n",
       "<style scoped>\n",
       "    .dataframe tbody tr th:only-of-type {\n",
       "        vertical-align: middle;\n",
       "    }\n",
       "\n",
       "    .dataframe tbody tr th {\n",
       "        vertical-align: top;\n",
       "    }\n",
       "\n",
       "    .dataframe thead th {\n",
       "        text-align: right;\n",
       "    }\n",
       "</style>\n",
       "<table border=\"1\" class=\"dataframe\">\n",
       "  <thead>\n",
       "    <tr style=\"text-align: right;\">\n",
       "      <th></th>\n",
       "      <th>_index</th>\n",
       "      <th>_type</th>\n",
       "      <th>_id</th>\n",
       "      <th>_score</th>\n",
       "      <th>_source__total_signature_count</th>\n",
       "      <th>_source__created_locale</th>\n",
       "      <th>_source__first_name</th>\n",
       "      <th>_source__weekly_signature_count</th>\n",
       "      <th>_source__recent_activity_date</th>\n",
       "      <th>_source__is_pledge</th>\n",
       "      <th>...</th>\n",
       "      <th>petition__organization__photo_id</th>\n",
       "      <th>petition__photo</th>\n",
       "      <th>petition__restricted_location__city</th>\n",
       "      <th>petition__restricted_location__country_code</th>\n",
       "      <th>petition__restricted_location__lat</th>\n",
       "      <th>petition__restricted_location__lng</th>\n",
       "      <th>petition__restricted_location__state_code</th>\n",
       "      <th>petition__restricted_location__google_places_id</th>\n",
       "      <th>petition__restricted_location__photo_id</th>\n",
       "      <th>petition__missingPetition</th>\n",
       "    </tr>\n",
       "  </thead>\n",
       "  <tbody>\n",
       "    <tr>\n",
       "      <th>0</th>\n",
       "      <td>petitions-en</td>\n",
       "      <td>petitions</td>\n",
       "      <td>20569720::Amber Heard</td>\n",
       "      <td>7.115500</td>\n",
       "      <td>23844</td>\n",
       "      <td>en-US</td>\n",
       "      <td>Linda</td>\n",
       "      <td>324</td>\n",
       "      <td>2020-03-01T07:41:24Z</td>\n",
       "      <td>False</td>\n",
       "      <td>...</td>\n",
       "      <td>NaN</td>\n",
       "      <td>NaN</td>\n",
       "      <td>NaN</td>\n",
       "      <td>NaN</td>\n",
       "      <td>NaN</td>\n",
       "      <td>NaN</td>\n",
       "      <td>NaN</td>\n",
       "      <td>NaN</td>\n",
       "      <td>NaN</td>\n",
       "      <td>NaN</td>\n",
       "    </tr>\n",
       "    <tr>\n",
       "      <th>1</th>\n",
       "      <td>petitions-en</td>\n",
       "      <td>petitions</td>\n",
       "      <td>26062476::Amber Heard</td>\n",
       "      <td>6.871536</td>\n",
       "      <td>13594</td>\n",
       "      <td>en-US</td>\n",
       "      <td>Kasandra</td>\n",
       "      <td>77</td>\n",
       "      <td>2021-01-14T22:55:30Z</td>\n",
       "      <td>False</td>\n",
       "      <td>...</td>\n",
       "      <td>NaN</td>\n",
       "      <td>NaN</td>\n",
       "      <td>NaN</td>\n",
       "      <td>NaN</td>\n",
       "      <td>NaN</td>\n",
       "      <td>NaN</td>\n",
       "      <td>NaN</td>\n",
       "      <td>NaN</td>\n",
       "      <td>NaN</td>\n",
       "      <td>NaN</td>\n",
       "    </tr>\n",
       "  </tbody>\n",
       "</table>\n",
       "<p>2 rows × 367 columns</p>\n",
       "</div>"
      ],
      "text/plain": [
       "         _index      _type                    _id    _score  \\\n",
       "0  petitions-en  petitions  20569720::Amber Heard  7.115500   \n",
       "1  petitions-en  petitions  26062476::Amber Heard  6.871536   \n",
       "\n",
       "   _source__total_signature_count _source__created_locale _source__first_name  \\\n",
       "0                           23844                   en-US               Linda   \n",
       "1                           13594                   en-US            Kasandra   \n",
       "\n",
       "   _source__weekly_signature_count _source__recent_activity_date  \\\n",
       "0                              324          2020-03-01T07:41:24Z   \n",
       "1                               77          2021-01-14T22:55:30Z   \n",
       "\n",
       "   _source__is_pledge  ... petition__organization__photo_id petition__photo  \\\n",
       "0               False  ...                              NaN             NaN   \n",
       "1               False  ...                              NaN             NaN   \n",
       "\n",
       "   petition__restricted_location__city  \\\n",
       "0                                  NaN   \n",
       "1                                  NaN   \n",
       "\n",
       "   petition__restricted_location__country_code  \\\n",
       "0                                          NaN   \n",
       "1                                          NaN   \n",
       "\n",
       "  petition__restricted_location__lat  petition__restricted_location__lng  \\\n",
       "0                                NaN                                 NaN   \n",
       "1                                NaN                                 NaN   \n",
       "\n",
       "  petition__restricted_location__state_code  \\\n",
       "0                                       NaN   \n",
       "1                                       NaN   \n",
       "\n",
       "   petition__restricted_location__google_places_id  \\\n",
       "0                                              NaN   \n",
       "1                                              NaN   \n",
       "\n",
       "  petition__restricted_location__photo_id  petition__missingPetition  \n",
       "0                                     NaN                        NaN  \n",
       "1                                     NaN                        NaN  \n",
       "\n",
       "[2 rows x 367 columns]"
      ]
     },
     "execution_count": 28,
     "metadata": {},
     "output_type": "execute_result"
    }
   ],
   "source": [
    "df_change3 = pd.read_csv(data)\n",
    "print(df_change3.shape)\n",
    "df_change3.head(2)"
   ]
  },
  {
   "cell_type": "code",
   "execution_count": 29,
   "id": "3a594722",
   "metadata": {},
   "outputs": [
    {
     "data": {
      "text/plain": [
       "True"
      ]
     },
     "execution_count": 29,
     "metadata": {},
     "output_type": "execute_result"
    }
   ],
   "source": [
    "df_change1.equals(df_change3)"
   ]
  },
  {
   "cell_type": "code",
   "execution_count": null,
   "id": "3e1c8639",
   "metadata": {},
   "outputs": [],
   "source": [
    "# is_dfs_equal(df_change2, df_change3)"
   ]
  },
  {
   "cell_type": "code",
   "execution_count": null,
   "id": "4d07f22f",
   "metadata": {},
   "outputs": [],
   "source": []
  },
  {
   "cell_type": "code",
   "execution_count": null,
   "id": "b56ecfbf",
   "metadata": {},
   "outputs": [],
   "source": []
  }
 ],
 "metadata": {
  "kernelspec": {
   "display_name": "Python 3",
   "language": "python",
   "name": "python3"
  },
  "language_info": {
   "codemirror_mode": {
    "name": "ipython",
    "version": 3
   },
   "file_extension": ".py",
   "mimetype": "text/x-python",
   "name": "python",
   "nbconvert_exporter": "python",
   "pygments_lexer": "ipython3",
   "version": "3.8.8"
  }
 },
 "nbformat": 4,
 "nbformat_minor": 5
}
